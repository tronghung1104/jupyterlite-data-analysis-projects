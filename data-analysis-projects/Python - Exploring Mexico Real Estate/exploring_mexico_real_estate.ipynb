{
 "cells": [
  {
   "cell_type": "code",
   "execution_count": 1,
   "metadata": {},
   "outputs": [],
   "source": [
    "import pandas as pd\n",
    "import numpy as np"
   ]
  },
  {
   "attachments": {},
   "cell_type": "markdown",
   "metadata": {},
   "source": [
    "# A. Data Preparation and Cleaning"
   ]
  },
  {
   "attachments": {},
   "cell_type": "markdown",
   "metadata": {},
   "source": [
    "Import data"
   ]
  },
  {
   "cell_type": "code",
   "execution_count": 2,
   "metadata": {},
   "outputs": [],
   "source": [
    "df1 = pd.read_csv('mexico-real-estate-1.csv')\n",
    "df2 = pd.read_csv('mexico-real-estate-2.csv')\n",
    "df3 = pd.read_csv('mexico-real-estate-3.csv')"
   ]
  },
  {
   "attachments": {},
   "cell_type": "markdown",
   "metadata": {},
   "source": [
    "Clean df1\n",
    "Inspect data: shape, info, head"
   ]
  },
  {
   "cell_type": "code",
   "execution_count": 3,
   "metadata": {},
   "outputs": [
    {
     "data": {
      "text/html": [
       "<div>\n",
       "<style scoped>\n",
       "    .dataframe tbody tr th:only-of-type {\n",
       "        vertical-align: middle;\n",
       "    }\n",
       "\n",
       "    .dataframe tbody tr th {\n",
       "        vertical-align: top;\n",
       "    }\n",
       "\n",
       "    .dataframe thead th {\n",
       "        text-align: right;\n",
       "    }\n",
       "</style>\n",
       "<table border=\"1\" class=\"dataframe\">\n",
       "  <thead>\n",
       "    <tr style=\"text-align: right;\">\n",
       "      <th></th>\n",
       "      <th>property_type</th>\n",
       "      <th>state</th>\n",
       "      <th>lat</th>\n",
       "      <th>lon</th>\n",
       "      <th>area_m2</th>\n",
       "      <th>price_usd</th>\n",
       "    </tr>\n",
       "  </thead>\n",
       "  <tbody>\n",
       "    <tr>\n",
       "      <th>0</th>\n",
       "      <td>house</td>\n",
       "      <td>Estado de México</td>\n",
       "      <td>19.560181</td>\n",
       "      <td>-99.233528</td>\n",
       "      <td>150.0</td>\n",
       "      <td>$67,965.56</td>\n",
       "    </tr>\n",
       "    <tr>\n",
       "      <th>1</th>\n",
       "      <td>house</td>\n",
       "      <td>Nuevo León</td>\n",
       "      <td>25.688436</td>\n",
       "      <td>-100.198807</td>\n",
       "      <td>186.0</td>\n",
       "      <td>$63,223.78</td>\n",
       "    </tr>\n",
       "    <tr>\n",
       "      <th>2</th>\n",
       "      <td>apartment</td>\n",
       "      <td>Guerrero</td>\n",
       "      <td>16.767704</td>\n",
       "      <td>-99.764383</td>\n",
       "      <td>82.0</td>\n",
       "      <td>$84,298.37</td>\n",
       "    </tr>\n",
       "    <tr>\n",
       "      <th>3</th>\n",
       "      <td>apartment</td>\n",
       "      <td>Guerrero</td>\n",
       "      <td>16.829782</td>\n",
       "      <td>-99.911012</td>\n",
       "      <td>150.0</td>\n",
       "      <td>$94,308.80</td>\n",
       "    </tr>\n",
       "    <tr>\n",
       "      <th>4</th>\n",
       "      <td>house</td>\n",
       "      <td>Veracruz de Ignacio de la Llave</td>\n",
       "      <td>NaN</td>\n",
       "      <td>NaN</td>\n",
       "      <td>175.0</td>\n",
       "      <td>$94,835.67</td>\n",
       "    </tr>\n",
       "    <tr>\n",
       "      <th>...</th>\n",
       "      <td>...</td>\n",
       "      <td>...</td>\n",
       "      <td>...</td>\n",
       "      <td>...</td>\n",
       "      <td>...</td>\n",
       "      <td>...</td>\n",
       "    </tr>\n",
       "    <tr>\n",
       "      <th>695</th>\n",
       "      <td>house</td>\n",
       "      <td>Morelos</td>\n",
       "      <td>NaN</td>\n",
       "      <td>NaN</td>\n",
       "      <td>310.0</td>\n",
       "      <td>$237,089.17</td>\n",
       "    </tr>\n",
       "    <tr>\n",
       "      <th>696</th>\n",
       "      <td>house</td>\n",
       "      <td>Yucatán</td>\n",
       "      <td>21.050653</td>\n",
       "      <td>-89.558841</td>\n",
       "      <td>334.0</td>\n",
       "      <td>$137,017.34</td>\n",
       "    </tr>\n",
       "    <tr>\n",
       "      <th>697</th>\n",
       "      <td>house</td>\n",
       "      <td>Yucatán</td>\n",
       "      <td>21.343796</td>\n",
       "      <td>-89.262060</td>\n",
       "      <td>130.0</td>\n",
       "      <td>$110,404.35</td>\n",
       "    </tr>\n",
       "    <tr>\n",
       "      <th>698</th>\n",
       "      <td>apartment</td>\n",
       "      <td>Nuevo León</td>\n",
       "      <td>NaN</td>\n",
       "      <td>NaN</td>\n",
       "      <td>155.0</td>\n",
       "      <td>$184,446.42</td>\n",
       "    </tr>\n",
       "    <tr>\n",
       "      <th>699</th>\n",
       "      <td>house</td>\n",
       "      <td>Querétaro</td>\n",
       "      <td>20.587378</td>\n",
       "      <td>-100.418361</td>\n",
       "      <td>106.0</td>\n",
       "      <td>$56,637.97</td>\n",
       "    </tr>\n",
       "  </tbody>\n",
       "</table>\n",
       "<p>700 rows × 6 columns</p>\n",
       "</div>"
      ],
      "text/plain": [
       "    property_type                            state        lat         lon  \\\n",
       "0           house                 Estado de México  19.560181  -99.233528   \n",
       "1           house                       Nuevo León  25.688436 -100.198807   \n",
       "2       apartment                         Guerrero  16.767704  -99.764383   \n",
       "3       apartment                         Guerrero  16.829782  -99.911012   \n",
       "4           house  Veracruz de Ignacio de la Llave        NaN         NaN   \n",
       "..            ...                              ...        ...         ...   \n",
       "695         house                          Morelos        NaN         NaN   \n",
       "696         house                          Yucatán  21.050653  -89.558841   \n",
       "697         house                          Yucatán  21.343796  -89.262060   \n",
       "698     apartment                       Nuevo León        NaN         NaN   \n",
       "699         house                        Querétaro  20.587378 -100.418361   \n",
       "\n",
       "     area_m2    price_usd  \n",
       "0      150.0   $67,965.56  \n",
       "1      186.0   $63,223.78  \n",
       "2       82.0   $84,298.37  \n",
       "3      150.0   $94,308.80  \n",
       "4      175.0   $94,835.67  \n",
       "..       ...          ...  \n",
       "695    310.0  $237,089.17  \n",
       "696    334.0  $137,017.34  \n",
       "697    130.0  $110,404.35  \n",
       "698    155.0  $184,446.42  \n",
       "699    106.0   $56,637.97  \n",
       "\n",
       "[700 rows x 6 columns]"
      ]
     },
     "execution_count": 3,
     "metadata": {},
     "output_type": "execute_result"
    }
   ],
   "source": [
    "df1"
   ]
  },
  {
   "cell_type": "code",
   "execution_count": 4,
   "metadata": {},
   "outputs": [
    {
     "data": {
      "text/plain": [
       "(700, 6)"
      ]
     },
     "execution_count": 4,
     "metadata": {},
     "output_type": "execute_result"
    }
   ],
   "source": [
    "df1.shape"
   ]
  },
  {
   "cell_type": "code",
   "execution_count": 5,
   "metadata": {},
   "outputs": [
    {
     "name": "stdout",
     "output_type": "stream",
     "text": [
      "<class 'pandas.core.frame.DataFrame'>\n",
      "RangeIndex: 700 entries, 0 to 699\n",
      "Data columns (total 6 columns):\n",
      " #   Column         Non-Null Count  Dtype  \n",
      "---  ------         --------------  -----  \n",
      " 0   property_type  700 non-null    object \n",
      " 1   state          700 non-null    object \n",
      " 2   lat            583 non-null    float64\n",
      " 3   lon            583 non-null    float64\n",
      " 4   area_m2        700 non-null    float64\n",
      " 5   price_usd      700 non-null    object \n",
      "dtypes: float64(3), object(3)\n",
      "memory usage: 32.9+ KB\n"
     ]
    }
   ],
   "source": [
    "df1.info()"
   ]
  },
  {
   "attachments": {},
   "cell_type": "markdown",
   "metadata": {},
   "source": [
    "Handle missing data and format column type"
   ]
  },
  {
   "cell_type": "code",
   "execution_count": 6,
   "metadata": {},
   "outputs": [],
   "source": [
    "df1.dropna(inplace=True)"
   ]
  },
  {
   "cell_type": "code",
   "execution_count": 7,
   "metadata": {},
   "outputs": [
    {
     "data": {
      "text/plain": [
       "0          house\n",
       "1          house\n",
       "2      apartment\n",
       "3      apartment\n",
       "5          house\n",
       "         ...    \n",
       "693        house\n",
       "694    apartment\n",
       "696        house\n",
       "697        house\n",
       "699        house\n",
       "Name: property_type, Length: 583, dtype: object"
      ]
     },
     "execution_count": 7,
     "metadata": {},
     "output_type": "execute_result"
    }
   ],
   "source": [
    "df1['property_type']"
   ]
  },
  {
   "cell_type": "code",
   "execution_count": 8,
   "metadata": {},
   "outputs": [
    {
     "data": {
      "text/plain": [
       "0       $67,965.56\n",
       "1       $63,223.78\n",
       "2       $84,298.37\n",
       "3       $94,308.80\n",
       "5      $105,191.37\n",
       "          ...     \n",
       "693    $115,910.26\n",
       "694     $77,572.89\n",
       "696    $137,017.34\n",
       "697    $110,404.35\n",
       "699     $56,637.97\n",
       "Name: price_usd, Length: 583, dtype: object"
      ]
     },
     "execution_count": 8,
     "metadata": {},
     "output_type": "execute_result"
    }
   ],
   "source": [
    "df1['price_usd']"
   ]
  },
  {
   "attachments": {},
   "cell_type": "markdown",
   "metadata": {},
   "source": [
    "Change 'price_usd' from object to float"
   ]
  },
  {
   "cell_type": "code",
   "execution_count": 9,
   "metadata": {},
   "outputs": [
    {
     "data": {
      "text/plain": [
       "0       67965.56\n",
       "1       63223.78\n",
       "2       84298.37\n",
       "3       94308.80\n",
       "5      105191.37\n",
       "         ...    \n",
       "693    115910.26\n",
       "694     77572.89\n",
       "696    137017.34\n",
       "697    110404.35\n",
       "699     56637.97\n",
       "Name: price_usd, Length: 583, dtype: float64"
      ]
     },
     "execution_count": 9,
     "metadata": {},
     "output_type": "execute_result"
    }
   ],
   "source": [
    "df1['price_usd'] = df1['price_usd'].str.replace('$','',regex=False)\n",
    "df1['price_usd'] = df1['price_usd'].str.replace(',','',regex=False)\n",
    "df1['price_usd'] = df1['price_usd'].astype(float)\n",
    "df1['price_usd']\n",
    "\n",
    "# another way to write the code: df1['price_usd'] = df1['price_usd'].str.replace('$','',regex=False).str.replace(',','',regex=False).astype(float)"
   ]
  },
  {
   "cell_type": "code",
   "execution_count": 10,
   "metadata": {},
   "outputs": [
    {
     "data": {
      "text/html": [
       "<div>\n",
       "<style scoped>\n",
       "    .dataframe tbody tr th:only-of-type {\n",
       "        vertical-align: middle;\n",
       "    }\n",
       "\n",
       "    .dataframe tbody tr th {\n",
       "        vertical-align: top;\n",
       "    }\n",
       "\n",
       "    .dataframe thead th {\n",
       "        text-align: right;\n",
       "    }\n",
       "</style>\n",
       "<table border=\"1\" class=\"dataframe\">\n",
       "  <thead>\n",
       "    <tr style=\"text-align: right;\">\n",
       "      <th></th>\n",
       "      <th>property_type</th>\n",
       "      <th>state</th>\n",
       "      <th>lat</th>\n",
       "      <th>lon</th>\n",
       "      <th>area_m2</th>\n",
       "      <th>price_usd</th>\n",
       "    </tr>\n",
       "  </thead>\n",
       "  <tbody>\n",
       "    <tr>\n",
       "      <th>0</th>\n",
       "      <td>house</td>\n",
       "      <td>Estado de México</td>\n",
       "      <td>19.560181</td>\n",
       "      <td>-99.233528</td>\n",
       "      <td>150.0</td>\n",
       "      <td>67965.56</td>\n",
       "    </tr>\n",
       "    <tr>\n",
       "      <th>1</th>\n",
       "      <td>house</td>\n",
       "      <td>Nuevo León</td>\n",
       "      <td>25.688436</td>\n",
       "      <td>-100.198807</td>\n",
       "      <td>186.0</td>\n",
       "      <td>63223.78</td>\n",
       "    </tr>\n",
       "    <tr>\n",
       "      <th>2</th>\n",
       "      <td>apartment</td>\n",
       "      <td>Guerrero</td>\n",
       "      <td>16.767704</td>\n",
       "      <td>-99.764383</td>\n",
       "      <td>82.0</td>\n",
       "      <td>84298.37</td>\n",
       "    </tr>\n",
       "    <tr>\n",
       "      <th>3</th>\n",
       "      <td>apartment</td>\n",
       "      <td>Guerrero</td>\n",
       "      <td>16.829782</td>\n",
       "      <td>-99.911012</td>\n",
       "      <td>150.0</td>\n",
       "      <td>94308.80</td>\n",
       "    </tr>\n",
       "    <tr>\n",
       "      <th>5</th>\n",
       "      <td>house</td>\n",
       "      <td>Yucatán</td>\n",
       "      <td>21.052583</td>\n",
       "      <td>-89.538639</td>\n",
       "      <td>205.0</td>\n",
       "      <td>105191.37</td>\n",
       "    </tr>\n",
       "    <tr>\n",
       "      <th>6</th>\n",
       "      <td>house</td>\n",
       "      <td>Querétaro</td>\n",
       "      <td>20.716315</td>\n",
       "      <td>-100.452503</td>\n",
       "      <td>320.0</td>\n",
       "      <td>274034.68</td>\n",
       "    </tr>\n",
       "    <tr>\n",
       "      <th>9</th>\n",
       "      <td>house</td>\n",
       "      <td>Morelos</td>\n",
       "      <td>18.812605</td>\n",
       "      <td>-98.954826</td>\n",
       "      <td>281.0</td>\n",
       "      <td>151509.56</td>\n",
       "    </tr>\n",
       "    <tr>\n",
       "      <th>10</th>\n",
       "      <td>house</td>\n",
       "      <td>Chiapas</td>\n",
       "      <td>16.769737</td>\n",
       "      <td>-93.088928</td>\n",
       "      <td>140.0</td>\n",
       "      <td>79029.72</td>\n",
       "    </tr>\n",
       "    <tr>\n",
       "      <th>11</th>\n",
       "      <td>house</td>\n",
       "      <td>Estado de México</td>\n",
       "      <td>19.305407</td>\n",
       "      <td>-99.646948</td>\n",
       "      <td>235.0</td>\n",
       "      <td>115937.75</td>\n",
       "    </tr>\n",
       "    <tr>\n",
       "      <th>12</th>\n",
       "      <td>house</td>\n",
       "      <td>Morelos</td>\n",
       "      <td>18.804197</td>\n",
       "      <td>-98.932816</td>\n",
       "      <td>117.0</td>\n",
       "      <td>63223.78</td>\n",
       "    </tr>\n",
       "  </tbody>\n",
       "</table>\n",
       "</div>"
      ],
      "text/plain": [
       "   property_type             state        lat         lon  area_m2  price_usd\n",
       "0          house  Estado de México  19.560181  -99.233528    150.0   67965.56\n",
       "1          house        Nuevo León  25.688436 -100.198807    186.0   63223.78\n",
       "2      apartment          Guerrero  16.767704  -99.764383     82.0   84298.37\n",
       "3      apartment          Guerrero  16.829782  -99.911012    150.0   94308.80\n",
       "5          house           Yucatán  21.052583  -89.538639    205.0  105191.37\n",
       "6          house         Querétaro  20.716315 -100.452503    320.0  274034.68\n",
       "9          house           Morelos  18.812605  -98.954826    281.0  151509.56\n",
       "10         house           Chiapas  16.769737  -93.088928    140.0   79029.72\n",
       "11         house  Estado de México  19.305407  -99.646948    235.0  115937.75\n",
       "12         house           Morelos  18.804197  -98.932816    117.0   63223.78"
      ]
     },
     "execution_count": 10,
     "metadata": {},
     "output_type": "execute_result"
    }
   ],
   "source": [
    "df1.head(10)"
   ]
  },
  {
   "attachments": {},
   "cell_type": "markdown",
   "metadata": {},
   "source": [
    "Clean df2"
   ]
  },
  {
   "cell_type": "code",
   "execution_count": 11,
   "metadata": {},
   "outputs": [
    {
     "name": "stdout",
     "output_type": "stream",
     "text": [
      "<class 'pandas.core.frame.DataFrame'>\n",
      "RangeIndex: 700 entries, 0 to 699\n",
      "Data columns (total 6 columns):\n",
      " #   Column         Non-Null Count  Dtype  \n",
      "---  ------         --------------  -----  \n",
      " 0   property_type  700 non-null    object \n",
      " 1   state          700 non-null    object \n",
      " 2   lat            571 non-null    float64\n",
      " 3   lon            571 non-null    float64\n",
      " 4   area_m2        700 non-null    float64\n",
      " 5   price_mxn      700 non-null    float64\n",
      "dtypes: float64(4), object(2)\n",
      "memory usage: 32.9+ KB\n"
     ]
    }
   ],
   "source": [
    "df2.info()"
   ]
  },
  {
   "cell_type": "code",
   "execution_count": 12,
   "metadata": {},
   "outputs": [],
   "source": [
    "df2.dropna(inplace=True)"
   ]
  },
  {
   "attachments": {},
   "cell_type": "markdown",
   "metadata": {},
   "source": [
    "Convert mxn to usd"
   ]
  },
  {
   "cell_type": "code",
   "execution_count": 13,
   "metadata": {},
   "outputs": [],
   "source": [
    "df2['price_usd'] = df2['price_mxn']/19\n",
    "df2.drop(columns=['price_mxn'], inplace=True)"
   ]
  },
  {
   "cell_type": "code",
   "execution_count": 14,
   "metadata": {},
   "outputs": [
    {
     "data": {
      "text/html": [
       "<div>\n",
       "<style scoped>\n",
       "    .dataframe tbody tr th:only-of-type {\n",
       "        vertical-align: middle;\n",
       "    }\n",
       "\n",
       "    .dataframe tbody tr th {\n",
       "        vertical-align: top;\n",
       "    }\n",
       "\n",
       "    .dataframe thead th {\n",
       "        text-align: right;\n",
       "    }\n",
       "</style>\n",
       "<table border=\"1\" class=\"dataframe\">\n",
       "  <thead>\n",
       "    <tr style=\"text-align: right;\">\n",
       "      <th></th>\n",
       "      <th>property_type</th>\n",
       "      <th>state</th>\n",
       "      <th>lat</th>\n",
       "      <th>lon</th>\n",
       "      <th>area_m2</th>\n",
       "      <th>price_usd</th>\n",
       "    </tr>\n",
       "  </thead>\n",
       "  <tbody>\n",
       "    <tr>\n",
       "      <th>0</th>\n",
       "      <td>apartment</td>\n",
       "      <td>Nuevo León</td>\n",
       "      <td>25.721081</td>\n",
       "      <td>-100.345581</td>\n",
       "      <td>72.0</td>\n",
       "      <td>68421.052632</td>\n",
       "    </tr>\n",
       "    <tr>\n",
       "      <th>2</th>\n",
       "      <td>house</td>\n",
       "      <td>Morelos</td>\n",
       "      <td>23.634501</td>\n",
       "      <td>-102.552788</td>\n",
       "      <td>360.0</td>\n",
       "      <td>278947.368421</td>\n",
       "    </tr>\n",
       "    <tr>\n",
       "      <th>6</th>\n",
       "      <td>apartment</td>\n",
       "      <td>Estado de México</td>\n",
       "      <td>19.272040</td>\n",
       "      <td>-99.572013</td>\n",
       "      <td>85.0</td>\n",
       "      <td>65789.473684</td>\n",
       "    </tr>\n",
       "    <tr>\n",
       "      <th>7</th>\n",
       "      <td>house</td>\n",
       "      <td>San Luis Potosí</td>\n",
       "      <td>22.138882</td>\n",
       "      <td>-100.996510</td>\n",
       "      <td>158.0</td>\n",
       "      <td>111578.947368</td>\n",
       "    </tr>\n",
       "    <tr>\n",
       "      <th>8</th>\n",
       "      <td>apartment</td>\n",
       "      <td>Distrito Federal</td>\n",
       "      <td>19.394558</td>\n",
       "      <td>-99.129707</td>\n",
       "      <td>65.0</td>\n",
       "      <td>39904.736842</td>\n",
       "    </tr>\n",
       "    <tr>\n",
       "      <th>...</th>\n",
       "      <td>...</td>\n",
       "      <td>...</td>\n",
       "      <td>...</td>\n",
       "      <td>...</td>\n",
       "      <td>...</td>\n",
       "      <td>...</td>\n",
       "    </tr>\n",
       "    <tr>\n",
       "      <th>695</th>\n",
       "      <td>house</td>\n",
       "      <td>Morelos</td>\n",
       "      <td>18.917542</td>\n",
       "      <td>-98.963181</td>\n",
       "      <td>140.0</td>\n",
       "      <td>76315.789474</td>\n",
       "    </tr>\n",
       "    <tr>\n",
       "      <th>696</th>\n",
       "      <td>house</td>\n",
       "      <td>Distrito Federal</td>\n",
       "      <td>19.472128</td>\n",
       "      <td>-99.146697</td>\n",
       "      <td>190.0</td>\n",
       "      <td>102263.157895</td>\n",
       "    </tr>\n",
       "    <tr>\n",
       "      <th>697</th>\n",
       "      <td>house</td>\n",
       "      <td>Estado de México</td>\n",
       "      <td>19.234984</td>\n",
       "      <td>-99.558175</td>\n",
       "      <td>115.0</td>\n",
       "      <td>110526.315789</td>\n",
       "    </tr>\n",
       "    <tr>\n",
       "      <th>698</th>\n",
       "      <td>house</td>\n",
       "      <td>Puebla</td>\n",
       "      <td>18.918714</td>\n",
       "      <td>-98.426639</td>\n",
       "      <td>90.0</td>\n",
       "      <td>46842.105263</td>\n",
       "    </tr>\n",
       "    <tr>\n",
       "      <th>699</th>\n",
       "      <td>house</td>\n",
       "      <td>Yucatán</td>\n",
       "      <td>21.075163</td>\n",
       "      <td>-89.516731</td>\n",
       "      <td>185.0</td>\n",
       "      <td>89210.526316</td>\n",
       "    </tr>\n",
       "  </tbody>\n",
       "</table>\n",
       "<p>571 rows × 6 columns</p>\n",
       "</div>"
      ],
      "text/plain": [
       "    property_type             state        lat         lon  area_m2  \\\n",
       "0       apartment        Nuevo León  25.721081 -100.345581     72.0   \n",
       "2           house           Morelos  23.634501 -102.552788    360.0   \n",
       "6       apartment  Estado de México  19.272040  -99.572013     85.0   \n",
       "7           house   San Luis Potosí  22.138882 -100.996510    158.0   \n",
       "8       apartment  Distrito Federal  19.394558  -99.129707     65.0   \n",
       "..            ...               ...        ...         ...      ...   \n",
       "695         house           Morelos  18.917542  -98.963181    140.0   \n",
       "696         house  Distrito Federal  19.472128  -99.146697    190.0   \n",
       "697         house  Estado de México  19.234984  -99.558175    115.0   \n",
       "698         house            Puebla  18.918714  -98.426639     90.0   \n",
       "699         house           Yucatán  21.075163  -89.516731    185.0   \n",
       "\n",
       "         price_usd  \n",
       "0     68421.052632  \n",
       "2    278947.368421  \n",
       "6     65789.473684  \n",
       "7    111578.947368  \n",
       "8     39904.736842  \n",
       "..             ...  \n",
       "695   76315.789474  \n",
       "696  102263.157895  \n",
       "697  110526.315789  \n",
       "698   46842.105263  \n",
       "699   89210.526316  \n",
       "\n",
       "[571 rows x 6 columns]"
      ]
     },
     "execution_count": 14,
     "metadata": {},
     "output_type": "execute_result"
    }
   ],
   "source": [
    "df2"
   ]
  },
  {
   "attachments": {},
   "cell_type": "markdown",
   "metadata": {},
   "source": [
    "Clean df3"
   ]
  },
  {
   "cell_type": "code",
   "execution_count": 15,
   "metadata": {},
   "outputs": [
    {
     "data": {
      "text/html": [
       "<div>\n",
       "<style scoped>\n",
       "    .dataframe tbody tr th:only-of-type {\n",
       "        vertical-align: middle;\n",
       "    }\n",
       "\n",
       "    .dataframe tbody tr th {\n",
       "        vertical-align: top;\n",
       "    }\n",
       "\n",
       "    .dataframe thead th {\n",
       "        text-align: right;\n",
       "    }\n",
       "</style>\n",
       "<table border=\"1\" class=\"dataframe\">\n",
       "  <thead>\n",
       "    <tr style=\"text-align: right;\">\n",
       "      <th></th>\n",
       "      <th>property_type</th>\n",
       "      <th>place_with_parent_names</th>\n",
       "      <th>lat-lon</th>\n",
       "      <th>area_m2</th>\n",
       "      <th>price_usd</th>\n",
       "    </tr>\n",
       "  </thead>\n",
       "  <tbody>\n",
       "    <tr>\n",
       "      <th>0</th>\n",
       "      <td>apartment</td>\n",
       "      <td>|México|Distrito Federal|Gustavo A. Madero|Acu...</td>\n",
       "      <td>19.52589,-99.151703</td>\n",
       "      <td>71.0</td>\n",
       "      <td>48550.59</td>\n",
       "    </tr>\n",
       "    <tr>\n",
       "      <th>1</th>\n",
       "      <td>house</td>\n",
       "      <td>|México|Estado de México|Toluca|Metepec|</td>\n",
       "      <td>19.2640539,-99.5727534</td>\n",
       "      <td>233.0</td>\n",
       "      <td>168636.73</td>\n",
       "    </tr>\n",
       "    <tr>\n",
       "      <th>2</th>\n",
       "      <td>house</td>\n",
       "      <td>|México|Estado de México|Toluca|Toluca de Lerd...</td>\n",
       "      <td>19.268629,-99.671722</td>\n",
       "      <td>300.0</td>\n",
       "      <td>86932.69</td>\n",
       "    </tr>\n",
       "    <tr>\n",
       "      <th>3</th>\n",
       "      <td>house</td>\n",
       "      <td>|México|Morelos|Temixco|Burgos Bugambilias|</td>\n",
       "      <td>NaN</td>\n",
       "      <td>275.0</td>\n",
       "      <td>263432.41</td>\n",
       "    </tr>\n",
       "    <tr>\n",
       "      <th>4</th>\n",
       "      <td>apartment</td>\n",
       "      <td>|México|Veracruz de Ignacio de la Llave|Veracruz|</td>\n",
       "      <td>19.511938,-96.871956</td>\n",
       "      <td>84.0</td>\n",
       "      <td>68508.67</td>\n",
       "    </tr>\n",
       "    <tr>\n",
       "      <th>...</th>\n",
       "      <td>...</td>\n",
       "      <td>...</td>\n",
       "      <td>...</td>\n",
       "      <td>...</td>\n",
       "      <td>...</td>\n",
       "    </tr>\n",
       "    <tr>\n",
       "      <th>695</th>\n",
       "      <td>house</td>\n",
       "      <td>|México|Jalisco|Tlajomulco de Zúñiga|Tlajomulc...</td>\n",
       "      <td>20.532264,-103.484418</td>\n",
       "      <td>175.0</td>\n",
       "      <td>121178.91</td>\n",
       "    </tr>\n",
       "    <tr>\n",
       "      <th>696</th>\n",
       "      <td>house</td>\n",
       "      <td>|México|Morelos|Jiutepec|</td>\n",
       "      <td>18.9289862,-99.1802147</td>\n",
       "      <td>100.0</td>\n",
       "      <td>47417.83</td>\n",
       "    </tr>\n",
       "    <tr>\n",
       "      <th>697</th>\n",
       "      <td>house</td>\n",
       "      <td>|México|Yucatán|Mérida|</td>\n",
       "      <td>21.0284038368,-89.6530058049</td>\n",
       "      <td>81.0</td>\n",
       "      <td>39524.23</td>\n",
       "    </tr>\n",
       "    <tr>\n",
       "      <th>698</th>\n",
       "      <td>house</td>\n",
       "      <td>|México|San Luis Potosí|San Luis Potosí|</td>\n",
       "      <td>22.11830417,-101.0321938992</td>\n",
       "      <td>360.0</td>\n",
       "      <td>245050.24</td>\n",
       "    </tr>\n",
       "    <tr>\n",
       "      <th>699</th>\n",
       "      <td>house</td>\n",
       "      <td>|México|Estado de México|Toluca|Metepec|</td>\n",
       "      <td>19.233201,-99.558519</td>\n",
       "      <td>115.0</td>\n",
       "      <td>110667.85</td>\n",
       "    </tr>\n",
       "  </tbody>\n",
       "</table>\n",
       "<p>700 rows × 5 columns</p>\n",
       "</div>"
      ],
      "text/plain": [
       "    property_type                            place_with_parent_names  \\\n",
       "0       apartment  |México|Distrito Federal|Gustavo A. Madero|Acu...   \n",
       "1           house           |México|Estado de México|Toluca|Metepec|   \n",
       "2           house  |México|Estado de México|Toluca|Toluca de Lerd...   \n",
       "3           house        |México|Morelos|Temixco|Burgos Bugambilias|   \n",
       "4       apartment  |México|Veracruz de Ignacio de la Llave|Veracruz|   \n",
       "..            ...                                                ...   \n",
       "695         house  |México|Jalisco|Tlajomulco de Zúñiga|Tlajomulc...   \n",
       "696         house                          |México|Morelos|Jiutepec|   \n",
       "697         house                            |México|Yucatán|Mérida|   \n",
       "698         house           |México|San Luis Potosí|San Luis Potosí|   \n",
       "699         house           |México|Estado de México|Toluca|Metepec|   \n",
       "\n",
       "                          lat-lon  area_m2  price_usd  \n",
       "0             19.52589,-99.151703     71.0   48550.59  \n",
       "1          19.2640539,-99.5727534    233.0  168636.73  \n",
       "2            19.268629,-99.671722    300.0   86932.69  \n",
       "3                             NaN    275.0  263432.41  \n",
       "4            19.511938,-96.871956     84.0   68508.67  \n",
       "..                            ...      ...        ...  \n",
       "695         20.532264,-103.484418    175.0  121178.91  \n",
       "696        18.9289862,-99.1802147    100.0   47417.83  \n",
       "697  21.0284038368,-89.6530058049     81.0   39524.23  \n",
       "698   22.11830417,-101.0321938992    360.0  245050.24  \n",
       "699          19.233201,-99.558519    115.0  110667.85  \n",
       "\n",
       "[700 rows x 5 columns]"
      ]
     },
     "execution_count": 15,
     "metadata": {},
     "output_type": "execute_result"
    }
   ],
   "source": [
    "df3"
   ]
  },
  {
   "cell_type": "code",
   "execution_count": 16,
   "metadata": {},
   "outputs": [
    {
     "name": "stdout",
     "output_type": "stream",
     "text": [
      "<class 'pandas.core.frame.DataFrame'>\n",
      "RangeIndex: 700 entries, 0 to 699\n",
      "Data columns (total 5 columns):\n",
      " #   Column                   Non-Null Count  Dtype  \n",
      "---  ------                   --------------  -----  \n",
      " 0   property_type            700 non-null    object \n",
      " 1   place_with_parent_names  700 non-null    object \n",
      " 2   lat-lon                  582 non-null    object \n",
      " 3   area_m2                  700 non-null    float64\n",
      " 4   price_usd                700 non-null    float64\n",
      "dtypes: float64(2), object(3)\n",
      "memory usage: 27.5+ KB\n"
     ]
    }
   ],
   "source": [
    "df3.info()"
   ]
  },
  {
   "cell_type": "code",
   "execution_count": 17,
   "metadata": {},
   "outputs": [],
   "source": [
    "df3.dropna(inplace=True)"
   ]
  },
  {
   "attachments": {},
   "cell_type": "markdown",
   "metadata": {},
   "source": [
    "split lat-lon"
   ]
  },
  {
   "cell_type": "code",
   "execution_count": 18,
   "metadata": {},
   "outputs": [],
   "source": [
    "df3[['lat', 'lon']] = df3['lat-lon'].str.split(',',expand=True)"
   ]
  },
  {
   "cell_type": "code",
   "execution_count": 19,
   "metadata": {},
   "outputs": [
    {
     "data": {
      "text/html": [
       "<div>\n",
       "<style scoped>\n",
       "    .dataframe tbody tr th:only-of-type {\n",
       "        vertical-align: middle;\n",
       "    }\n",
       "\n",
       "    .dataframe tbody tr th {\n",
       "        vertical-align: top;\n",
       "    }\n",
       "\n",
       "    .dataframe thead th {\n",
       "        text-align: right;\n",
       "    }\n",
       "</style>\n",
       "<table border=\"1\" class=\"dataframe\">\n",
       "  <thead>\n",
       "    <tr style=\"text-align: right;\">\n",
       "      <th></th>\n",
       "      <th>property_type</th>\n",
       "      <th>place_with_parent_names</th>\n",
       "      <th>lat-lon</th>\n",
       "      <th>area_m2</th>\n",
       "      <th>price_usd</th>\n",
       "      <th>lat</th>\n",
       "      <th>lon</th>\n",
       "    </tr>\n",
       "  </thead>\n",
       "  <tbody>\n",
       "    <tr>\n",
       "      <th>0</th>\n",
       "      <td>apartment</td>\n",
       "      <td>|México|Distrito Federal|Gustavo A. Madero|Acu...</td>\n",
       "      <td>19.52589,-99.151703</td>\n",
       "      <td>71.0</td>\n",
       "      <td>48550.59</td>\n",
       "      <td>19.52589</td>\n",
       "      <td>-99.151703</td>\n",
       "    </tr>\n",
       "    <tr>\n",
       "      <th>1</th>\n",
       "      <td>house</td>\n",
       "      <td>|México|Estado de México|Toluca|Metepec|</td>\n",
       "      <td>19.2640539,-99.5727534</td>\n",
       "      <td>233.0</td>\n",
       "      <td>168636.73</td>\n",
       "      <td>19.2640539</td>\n",
       "      <td>-99.5727534</td>\n",
       "    </tr>\n",
       "    <tr>\n",
       "      <th>2</th>\n",
       "      <td>house</td>\n",
       "      <td>|México|Estado de México|Toluca|Toluca de Lerd...</td>\n",
       "      <td>19.268629,-99.671722</td>\n",
       "      <td>300.0</td>\n",
       "      <td>86932.69</td>\n",
       "      <td>19.268629</td>\n",
       "      <td>-99.671722</td>\n",
       "    </tr>\n",
       "    <tr>\n",
       "      <th>4</th>\n",
       "      <td>apartment</td>\n",
       "      <td>|México|Veracruz de Ignacio de la Llave|Veracruz|</td>\n",
       "      <td>19.511938,-96.871956</td>\n",
       "      <td>84.0</td>\n",
       "      <td>68508.67</td>\n",
       "      <td>19.511938</td>\n",
       "      <td>-96.871956</td>\n",
       "    </tr>\n",
       "    <tr>\n",
       "      <th>5</th>\n",
       "      <td>house</td>\n",
       "      <td>|México|Jalisco|Guadalajara|</td>\n",
       "      <td>20.689157,-103.366728</td>\n",
       "      <td>175.0</td>\n",
       "      <td>102763.00</td>\n",
       "      <td>20.689157</td>\n",
       "      <td>-103.366728</td>\n",
       "    </tr>\n",
       "    <tr>\n",
       "      <th>...</th>\n",
       "      <td>...</td>\n",
       "      <td>...</td>\n",
       "      <td>...</td>\n",
       "      <td>...</td>\n",
       "      <td>...</td>\n",
       "      <td>...</td>\n",
       "      <td>...</td>\n",
       "    </tr>\n",
       "    <tr>\n",
       "      <th>695</th>\n",
       "      <td>house</td>\n",
       "      <td>|México|Jalisco|Tlajomulco de Zúñiga|Tlajomulc...</td>\n",
       "      <td>20.532264,-103.484418</td>\n",
       "      <td>175.0</td>\n",
       "      <td>121178.91</td>\n",
       "      <td>20.532264</td>\n",
       "      <td>-103.484418</td>\n",
       "    </tr>\n",
       "    <tr>\n",
       "      <th>696</th>\n",
       "      <td>house</td>\n",
       "      <td>|México|Morelos|Jiutepec|</td>\n",
       "      <td>18.9289862,-99.1802147</td>\n",
       "      <td>100.0</td>\n",
       "      <td>47417.83</td>\n",
       "      <td>18.9289862</td>\n",
       "      <td>-99.1802147</td>\n",
       "    </tr>\n",
       "    <tr>\n",
       "      <th>697</th>\n",
       "      <td>house</td>\n",
       "      <td>|México|Yucatán|Mérida|</td>\n",
       "      <td>21.0284038368,-89.6530058049</td>\n",
       "      <td>81.0</td>\n",
       "      <td>39524.23</td>\n",
       "      <td>21.0284038368</td>\n",
       "      <td>-89.6530058049</td>\n",
       "    </tr>\n",
       "    <tr>\n",
       "      <th>698</th>\n",
       "      <td>house</td>\n",
       "      <td>|México|San Luis Potosí|San Luis Potosí|</td>\n",
       "      <td>22.11830417,-101.0321938992</td>\n",
       "      <td>360.0</td>\n",
       "      <td>245050.24</td>\n",
       "      <td>22.11830417</td>\n",
       "      <td>-101.0321938992</td>\n",
       "    </tr>\n",
       "    <tr>\n",
       "      <th>699</th>\n",
       "      <td>house</td>\n",
       "      <td>|México|Estado de México|Toluca|Metepec|</td>\n",
       "      <td>19.233201,-99.558519</td>\n",
       "      <td>115.0</td>\n",
       "      <td>110667.85</td>\n",
       "      <td>19.233201</td>\n",
       "      <td>-99.558519</td>\n",
       "    </tr>\n",
       "  </tbody>\n",
       "</table>\n",
       "<p>582 rows × 7 columns</p>\n",
       "</div>"
      ],
      "text/plain": [
       "    property_type                            place_with_parent_names  \\\n",
       "0       apartment  |México|Distrito Federal|Gustavo A. Madero|Acu...   \n",
       "1           house           |México|Estado de México|Toluca|Metepec|   \n",
       "2           house  |México|Estado de México|Toluca|Toluca de Lerd...   \n",
       "4       apartment  |México|Veracruz de Ignacio de la Llave|Veracruz|   \n",
       "5           house                       |México|Jalisco|Guadalajara|   \n",
       "..            ...                                                ...   \n",
       "695         house  |México|Jalisco|Tlajomulco de Zúñiga|Tlajomulc...   \n",
       "696         house                          |México|Morelos|Jiutepec|   \n",
       "697         house                            |México|Yucatán|Mérida|   \n",
       "698         house           |México|San Luis Potosí|San Luis Potosí|   \n",
       "699         house           |México|Estado de México|Toluca|Metepec|   \n",
       "\n",
       "                          lat-lon  area_m2  price_usd            lat  \\\n",
       "0             19.52589,-99.151703     71.0   48550.59       19.52589   \n",
       "1          19.2640539,-99.5727534    233.0  168636.73     19.2640539   \n",
       "2            19.268629,-99.671722    300.0   86932.69      19.268629   \n",
       "4            19.511938,-96.871956     84.0   68508.67      19.511938   \n",
       "5           20.689157,-103.366728    175.0  102763.00      20.689157   \n",
       "..                            ...      ...        ...            ...   \n",
       "695         20.532264,-103.484418    175.0  121178.91      20.532264   \n",
       "696        18.9289862,-99.1802147    100.0   47417.83     18.9289862   \n",
       "697  21.0284038368,-89.6530058049     81.0   39524.23  21.0284038368   \n",
       "698   22.11830417,-101.0321938992    360.0  245050.24    22.11830417   \n",
       "699          19.233201,-99.558519    115.0  110667.85      19.233201   \n",
       "\n",
       "                 lon  \n",
       "0         -99.151703  \n",
       "1        -99.5727534  \n",
       "2         -99.671722  \n",
       "4         -96.871956  \n",
       "5        -103.366728  \n",
       "..               ...  \n",
       "695      -103.484418  \n",
       "696      -99.1802147  \n",
       "697   -89.6530058049  \n",
       "698  -101.0321938992  \n",
       "699       -99.558519  \n",
       "\n",
       "[582 rows x 7 columns]"
      ]
     },
     "execution_count": 19,
     "metadata": {},
     "output_type": "execute_result"
    }
   ],
   "source": [
    "df3"
   ]
  },
  {
   "cell_type": "code",
   "execution_count": 20,
   "metadata": {},
   "outputs": [],
   "source": [
    "df3['state'] = df3['place_with_parent_names'].str.split('|',expand=True)[2]"
   ]
  },
  {
   "cell_type": "code",
   "execution_count": 21,
   "metadata": {},
   "outputs": [],
   "source": [
    "df3.drop(columns = ['lat-lon','place_with_parent_names'], inplace=True)"
   ]
  },
  {
   "cell_type": "code",
   "execution_count": 22,
   "metadata": {},
   "outputs": [
    {
     "data": {
      "text/html": [
       "<div>\n",
       "<style scoped>\n",
       "    .dataframe tbody tr th:only-of-type {\n",
       "        vertical-align: middle;\n",
       "    }\n",
       "\n",
       "    .dataframe tbody tr th {\n",
       "        vertical-align: top;\n",
       "    }\n",
       "\n",
       "    .dataframe thead th {\n",
       "        text-align: right;\n",
       "    }\n",
       "</style>\n",
       "<table border=\"1\" class=\"dataframe\">\n",
       "  <thead>\n",
       "    <tr style=\"text-align: right;\">\n",
       "      <th></th>\n",
       "      <th>property_type</th>\n",
       "      <th>area_m2</th>\n",
       "      <th>price_usd</th>\n",
       "      <th>lat</th>\n",
       "      <th>lon</th>\n",
       "      <th>state</th>\n",
       "    </tr>\n",
       "  </thead>\n",
       "  <tbody>\n",
       "    <tr>\n",
       "      <th>0</th>\n",
       "      <td>apartment</td>\n",
       "      <td>71.0</td>\n",
       "      <td>48550.59</td>\n",
       "      <td>19.52589</td>\n",
       "      <td>-99.151703</td>\n",
       "      <td>Distrito Federal</td>\n",
       "    </tr>\n",
       "    <tr>\n",
       "      <th>1</th>\n",
       "      <td>house</td>\n",
       "      <td>233.0</td>\n",
       "      <td>168636.73</td>\n",
       "      <td>19.2640539</td>\n",
       "      <td>-99.5727534</td>\n",
       "      <td>Estado de México</td>\n",
       "    </tr>\n",
       "    <tr>\n",
       "      <th>2</th>\n",
       "      <td>house</td>\n",
       "      <td>300.0</td>\n",
       "      <td>86932.69</td>\n",
       "      <td>19.268629</td>\n",
       "      <td>-99.671722</td>\n",
       "      <td>Estado de México</td>\n",
       "    </tr>\n",
       "    <tr>\n",
       "      <th>4</th>\n",
       "      <td>apartment</td>\n",
       "      <td>84.0</td>\n",
       "      <td>68508.67</td>\n",
       "      <td>19.511938</td>\n",
       "      <td>-96.871956</td>\n",
       "      <td>Veracruz de Ignacio de la Llave</td>\n",
       "    </tr>\n",
       "    <tr>\n",
       "      <th>5</th>\n",
       "      <td>house</td>\n",
       "      <td>175.0</td>\n",
       "      <td>102763.00</td>\n",
       "      <td>20.689157</td>\n",
       "      <td>-103.366728</td>\n",
       "      <td>Jalisco</td>\n",
       "    </tr>\n",
       "    <tr>\n",
       "      <th>...</th>\n",
       "      <td>...</td>\n",
       "      <td>...</td>\n",
       "      <td>...</td>\n",
       "      <td>...</td>\n",
       "      <td>...</td>\n",
       "      <td>...</td>\n",
       "    </tr>\n",
       "    <tr>\n",
       "      <th>695</th>\n",
       "      <td>house</td>\n",
       "      <td>175.0</td>\n",
       "      <td>121178.91</td>\n",
       "      <td>20.532264</td>\n",
       "      <td>-103.484418</td>\n",
       "      <td>Jalisco</td>\n",
       "    </tr>\n",
       "    <tr>\n",
       "      <th>696</th>\n",
       "      <td>house</td>\n",
       "      <td>100.0</td>\n",
       "      <td>47417.83</td>\n",
       "      <td>18.9289862</td>\n",
       "      <td>-99.1802147</td>\n",
       "      <td>Morelos</td>\n",
       "    </tr>\n",
       "    <tr>\n",
       "      <th>697</th>\n",
       "      <td>house</td>\n",
       "      <td>81.0</td>\n",
       "      <td>39524.23</td>\n",
       "      <td>21.0284038368</td>\n",
       "      <td>-89.6530058049</td>\n",
       "      <td>Yucatán</td>\n",
       "    </tr>\n",
       "    <tr>\n",
       "      <th>698</th>\n",
       "      <td>house</td>\n",
       "      <td>360.0</td>\n",
       "      <td>245050.24</td>\n",
       "      <td>22.11830417</td>\n",
       "      <td>-101.0321938992</td>\n",
       "      <td>San Luis Potosí</td>\n",
       "    </tr>\n",
       "    <tr>\n",
       "      <th>699</th>\n",
       "      <td>house</td>\n",
       "      <td>115.0</td>\n",
       "      <td>110667.85</td>\n",
       "      <td>19.233201</td>\n",
       "      <td>-99.558519</td>\n",
       "      <td>Estado de México</td>\n",
       "    </tr>\n",
       "  </tbody>\n",
       "</table>\n",
       "<p>582 rows × 6 columns</p>\n",
       "</div>"
      ],
      "text/plain": [
       "    property_type  area_m2  price_usd            lat              lon  \\\n",
       "0       apartment     71.0   48550.59       19.52589       -99.151703   \n",
       "1           house    233.0  168636.73     19.2640539      -99.5727534   \n",
       "2           house    300.0   86932.69      19.268629       -99.671722   \n",
       "4       apartment     84.0   68508.67      19.511938       -96.871956   \n",
       "5           house    175.0  102763.00      20.689157      -103.366728   \n",
       "..            ...      ...        ...            ...              ...   \n",
       "695         house    175.0  121178.91      20.532264      -103.484418   \n",
       "696         house    100.0   47417.83     18.9289862      -99.1802147   \n",
       "697         house     81.0   39524.23  21.0284038368   -89.6530058049   \n",
       "698         house    360.0  245050.24    22.11830417  -101.0321938992   \n",
       "699         house    115.0  110667.85      19.233201       -99.558519   \n",
       "\n",
       "                               state  \n",
       "0                   Distrito Federal  \n",
       "1                   Estado de México  \n",
       "2                   Estado de México  \n",
       "4    Veracruz de Ignacio de la Llave  \n",
       "5                            Jalisco  \n",
       "..                               ...  \n",
       "695                          Jalisco  \n",
       "696                          Morelos  \n",
       "697                          Yucatán  \n",
       "698                  San Luis Potosí  \n",
       "699                 Estado de México  \n",
       "\n",
       "[582 rows x 6 columns]"
      ]
     },
     "execution_count": 22,
     "metadata": {},
     "output_type": "execute_result"
    }
   ],
   "source": [
    "df3"
   ]
  },
  {
   "attachments": {},
   "cell_type": "markdown",
   "metadata": {},
   "source": [
    "Re-order columns"
   ]
  },
  {
   "cell_type": "code",
   "execution_count": 23,
   "metadata": {},
   "outputs": [
    {
     "name": "stdout",
     "output_type": "stream",
     "text": [
      "['property_type', 'area_m2', 'price_usd', 'lat', 'lon', 'state']\n"
     ]
    }
   ],
   "source": [
    "cols = list(df3.columns.values)\n",
    "print(cols)"
   ]
  },
  {
   "cell_type": "code",
   "execution_count": 24,
   "metadata": {},
   "outputs": [],
   "source": [
    "df3 = df3[['property_type','state','lat','lon','area_m2','price_usd']]"
   ]
  },
  {
   "cell_type": "code",
   "execution_count": 25,
   "metadata": {},
   "outputs": [
    {
     "data": {
      "text/html": [
       "<div>\n",
       "<style scoped>\n",
       "    .dataframe tbody tr th:only-of-type {\n",
       "        vertical-align: middle;\n",
       "    }\n",
       "\n",
       "    .dataframe tbody tr th {\n",
       "        vertical-align: top;\n",
       "    }\n",
       "\n",
       "    .dataframe thead th {\n",
       "        text-align: right;\n",
       "    }\n",
       "</style>\n",
       "<table border=\"1\" class=\"dataframe\">\n",
       "  <thead>\n",
       "    <tr style=\"text-align: right;\">\n",
       "      <th></th>\n",
       "      <th>property_type</th>\n",
       "      <th>state</th>\n",
       "      <th>lat</th>\n",
       "      <th>lon</th>\n",
       "      <th>area_m2</th>\n",
       "      <th>price_usd</th>\n",
       "    </tr>\n",
       "  </thead>\n",
       "  <tbody>\n",
       "    <tr>\n",
       "      <th>0</th>\n",
       "      <td>apartment</td>\n",
       "      <td>Distrito Federal</td>\n",
       "      <td>19.52589</td>\n",
       "      <td>-99.151703</td>\n",
       "      <td>71.0</td>\n",
       "      <td>48550.59</td>\n",
       "    </tr>\n",
       "    <tr>\n",
       "      <th>1</th>\n",
       "      <td>house</td>\n",
       "      <td>Estado de México</td>\n",
       "      <td>19.2640539</td>\n",
       "      <td>-99.5727534</td>\n",
       "      <td>233.0</td>\n",
       "      <td>168636.73</td>\n",
       "    </tr>\n",
       "    <tr>\n",
       "      <th>2</th>\n",
       "      <td>house</td>\n",
       "      <td>Estado de México</td>\n",
       "      <td>19.268629</td>\n",
       "      <td>-99.671722</td>\n",
       "      <td>300.0</td>\n",
       "      <td>86932.69</td>\n",
       "    </tr>\n",
       "    <tr>\n",
       "      <th>4</th>\n",
       "      <td>apartment</td>\n",
       "      <td>Veracruz de Ignacio de la Llave</td>\n",
       "      <td>19.511938</td>\n",
       "      <td>-96.871956</td>\n",
       "      <td>84.0</td>\n",
       "      <td>68508.67</td>\n",
       "    </tr>\n",
       "    <tr>\n",
       "      <th>5</th>\n",
       "      <td>house</td>\n",
       "      <td>Jalisco</td>\n",
       "      <td>20.689157</td>\n",
       "      <td>-103.366728</td>\n",
       "      <td>175.0</td>\n",
       "      <td>102763.00</td>\n",
       "    </tr>\n",
       "    <tr>\n",
       "      <th>...</th>\n",
       "      <td>...</td>\n",
       "      <td>...</td>\n",
       "      <td>...</td>\n",
       "      <td>...</td>\n",
       "      <td>...</td>\n",
       "      <td>...</td>\n",
       "    </tr>\n",
       "    <tr>\n",
       "      <th>695</th>\n",
       "      <td>house</td>\n",
       "      <td>Jalisco</td>\n",
       "      <td>20.532264</td>\n",
       "      <td>-103.484418</td>\n",
       "      <td>175.0</td>\n",
       "      <td>121178.91</td>\n",
       "    </tr>\n",
       "    <tr>\n",
       "      <th>696</th>\n",
       "      <td>house</td>\n",
       "      <td>Morelos</td>\n",
       "      <td>18.9289862</td>\n",
       "      <td>-99.1802147</td>\n",
       "      <td>100.0</td>\n",
       "      <td>47417.83</td>\n",
       "    </tr>\n",
       "    <tr>\n",
       "      <th>697</th>\n",
       "      <td>house</td>\n",
       "      <td>Yucatán</td>\n",
       "      <td>21.0284038368</td>\n",
       "      <td>-89.6530058049</td>\n",
       "      <td>81.0</td>\n",
       "      <td>39524.23</td>\n",
       "    </tr>\n",
       "    <tr>\n",
       "      <th>698</th>\n",
       "      <td>house</td>\n",
       "      <td>San Luis Potosí</td>\n",
       "      <td>22.11830417</td>\n",
       "      <td>-101.0321938992</td>\n",
       "      <td>360.0</td>\n",
       "      <td>245050.24</td>\n",
       "    </tr>\n",
       "    <tr>\n",
       "      <th>699</th>\n",
       "      <td>house</td>\n",
       "      <td>Estado de México</td>\n",
       "      <td>19.233201</td>\n",
       "      <td>-99.558519</td>\n",
       "      <td>115.0</td>\n",
       "      <td>110667.85</td>\n",
       "    </tr>\n",
       "  </tbody>\n",
       "</table>\n",
       "<p>582 rows × 6 columns</p>\n",
       "</div>"
      ],
      "text/plain": [
       "    property_type                            state            lat  \\\n",
       "0       apartment                 Distrito Federal       19.52589   \n",
       "1           house                 Estado de México     19.2640539   \n",
       "2           house                 Estado de México      19.268629   \n",
       "4       apartment  Veracruz de Ignacio de la Llave      19.511938   \n",
       "5           house                          Jalisco      20.689157   \n",
       "..            ...                              ...            ...   \n",
       "695         house                          Jalisco      20.532264   \n",
       "696         house                          Morelos     18.9289862   \n",
       "697         house                          Yucatán  21.0284038368   \n",
       "698         house                  San Luis Potosí    22.11830417   \n",
       "699         house                 Estado de México      19.233201   \n",
       "\n",
       "                 lon  area_m2  price_usd  \n",
       "0         -99.151703     71.0   48550.59  \n",
       "1        -99.5727534    233.0  168636.73  \n",
       "2         -99.671722    300.0   86932.69  \n",
       "4         -96.871956     84.0   68508.67  \n",
       "5        -103.366728    175.0  102763.00  \n",
       "..               ...      ...        ...  \n",
       "695      -103.484418    175.0  121178.91  \n",
       "696      -99.1802147    100.0   47417.83  \n",
       "697   -89.6530058049     81.0   39524.23  \n",
       "698  -101.0321938992    360.0  245050.24  \n",
       "699       -99.558519    115.0  110667.85  \n",
       "\n",
       "[582 rows x 6 columns]"
      ]
     },
     "execution_count": 25,
     "metadata": {},
     "output_type": "execute_result"
    }
   ],
   "source": [
    "df3"
   ]
  },
  {
   "cell_type": "code",
   "execution_count": 26,
   "metadata": {},
   "outputs": [
    {
     "name": "stdout",
     "output_type": "stream",
     "text": [
      "<class 'pandas.core.frame.DataFrame'>\n",
      "Index: 582 entries, 0 to 699\n",
      "Data columns (total 6 columns):\n",
      " #   Column         Non-Null Count  Dtype  \n",
      "---  ------         --------------  -----  \n",
      " 0   property_type  582 non-null    object \n",
      " 1   state          582 non-null    object \n",
      " 2   lat            582 non-null    float64\n",
      " 3   lon            582 non-null    float64\n",
      " 4   area_m2        582 non-null    float64\n",
      " 5   price_usd      582 non-null    float64\n",
      "dtypes: float64(4), object(2)\n",
      "memory usage: 31.8+ KB\n"
     ]
    }
   ],
   "source": [
    "df3['lat'] = df3['lat'].astype(float)\n",
    "df3['lon'] = df3['lon'].astype(float)\n",
    "df3.info()"
   ]
  },
  {
   "attachments": {},
   "cell_type": "markdown",
   "metadata": {},
   "source": [
    "Concatenate DataFrame"
   ]
  },
  {
   "cell_type": "code",
   "execution_count": 27,
   "metadata": {},
   "outputs": [],
   "source": [
    "df = pd.concat([df1, df2, df3])"
   ]
  },
  {
   "cell_type": "code",
   "execution_count": 28,
   "metadata": {},
   "outputs": [
    {
     "data": {
      "text/html": [
       "<div>\n",
       "<style scoped>\n",
       "    .dataframe tbody tr th:only-of-type {\n",
       "        vertical-align: middle;\n",
       "    }\n",
       "\n",
       "    .dataframe tbody tr th {\n",
       "        vertical-align: top;\n",
       "    }\n",
       "\n",
       "    .dataframe thead th {\n",
       "        text-align: right;\n",
       "    }\n",
       "</style>\n",
       "<table border=\"1\" class=\"dataframe\">\n",
       "  <thead>\n",
       "    <tr style=\"text-align: right;\">\n",
       "      <th></th>\n",
       "      <th>property_type</th>\n",
       "      <th>state</th>\n",
       "      <th>lat</th>\n",
       "      <th>lon</th>\n",
       "      <th>area_m2</th>\n",
       "      <th>price_usd</th>\n",
       "    </tr>\n",
       "  </thead>\n",
       "  <tbody>\n",
       "    <tr>\n",
       "      <th>0</th>\n",
       "      <td>house</td>\n",
       "      <td>Estado de México</td>\n",
       "      <td>19.560181</td>\n",
       "      <td>-99.233528</td>\n",
       "      <td>150.0</td>\n",
       "      <td>67965.56</td>\n",
       "    </tr>\n",
       "    <tr>\n",
       "      <th>1</th>\n",
       "      <td>house</td>\n",
       "      <td>Nuevo León</td>\n",
       "      <td>25.688436</td>\n",
       "      <td>-100.198807</td>\n",
       "      <td>186.0</td>\n",
       "      <td>63223.78</td>\n",
       "    </tr>\n",
       "    <tr>\n",
       "      <th>2</th>\n",
       "      <td>apartment</td>\n",
       "      <td>Guerrero</td>\n",
       "      <td>16.767704</td>\n",
       "      <td>-99.764383</td>\n",
       "      <td>82.0</td>\n",
       "      <td>84298.37</td>\n",
       "    </tr>\n",
       "    <tr>\n",
       "      <th>3</th>\n",
       "      <td>apartment</td>\n",
       "      <td>Guerrero</td>\n",
       "      <td>16.829782</td>\n",
       "      <td>-99.911012</td>\n",
       "      <td>150.0</td>\n",
       "      <td>94308.80</td>\n",
       "    </tr>\n",
       "    <tr>\n",
       "      <th>5</th>\n",
       "      <td>house</td>\n",
       "      <td>Yucatán</td>\n",
       "      <td>21.052583</td>\n",
       "      <td>-89.538639</td>\n",
       "      <td>205.0</td>\n",
       "      <td>105191.37</td>\n",
       "    </tr>\n",
       "    <tr>\n",
       "      <th>...</th>\n",
       "      <td>...</td>\n",
       "      <td>...</td>\n",
       "      <td>...</td>\n",
       "      <td>...</td>\n",
       "      <td>...</td>\n",
       "      <td>...</td>\n",
       "    </tr>\n",
       "    <tr>\n",
       "      <th>695</th>\n",
       "      <td>house</td>\n",
       "      <td>Jalisco</td>\n",
       "      <td>20.532264</td>\n",
       "      <td>-103.484418</td>\n",
       "      <td>175.0</td>\n",
       "      <td>121178.91</td>\n",
       "    </tr>\n",
       "    <tr>\n",
       "      <th>696</th>\n",
       "      <td>house</td>\n",
       "      <td>Morelos</td>\n",
       "      <td>18.928986</td>\n",
       "      <td>-99.180215</td>\n",
       "      <td>100.0</td>\n",
       "      <td>47417.83</td>\n",
       "    </tr>\n",
       "    <tr>\n",
       "      <th>697</th>\n",
       "      <td>house</td>\n",
       "      <td>Yucatán</td>\n",
       "      <td>21.028404</td>\n",
       "      <td>-89.653006</td>\n",
       "      <td>81.0</td>\n",
       "      <td>39524.23</td>\n",
       "    </tr>\n",
       "    <tr>\n",
       "      <th>698</th>\n",
       "      <td>house</td>\n",
       "      <td>San Luis Potosí</td>\n",
       "      <td>22.118304</td>\n",
       "      <td>-101.032194</td>\n",
       "      <td>360.0</td>\n",
       "      <td>245050.24</td>\n",
       "    </tr>\n",
       "    <tr>\n",
       "      <th>699</th>\n",
       "      <td>house</td>\n",
       "      <td>Estado de México</td>\n",
       "      <td>19.233201</td>\n",
       "      <td>-99.558519</td>\n",
       "      <td>115.0</td>\n",
       "      <td>110667.85</td>\n",
       "    </tr>\n",
       "  </tbody>\n",
       "</table>\n",
       "<p>1736 rows × 6 columns</p>\n",
       "</div>"
      ],
      "text/plain": [
       "    property_type             state        lat         lon  area_m2  price_usd\n",
       "0           house  Estado de México  19.560181  -99.233528    150.0   67965.56\n",
       "1           house        Nuevo León  25.688436 -100.198807    186.0   63223.78\n",
       "2       apartment          Guerrero  16.767704  -99.764383     82.0   84298.37\n",
       "3       apartment          Guerrero  16.829782  -99.911012    150.0   94308.80\n",
       "5           house           Yucatán  21.052583  -89.538639    205.0  105191.37\n",
       "..            ...               ...        ...         ...      ...        ...\n",
       "695         house           Jalisco  20.532264 -103.484418    175.0  121178.91\n",
       "696         house           Morelos  18.928986  -99.180215    100.0   47417.83\n",
       "697         house           Yucatán  21.028404  -89.653006     81.0   39524.23\n",
       "698         house   San Luis Potosí  22.118304 -101.032194    360.0  245050.24\n",
       "699         house  Estado de México  19.233201  -99.558519    115.0  110667.85\n",
       "\n",
       "[1736 rows x 6 columns]"
      ]
     },
     "execution_count": 28,
     "metadata": {},
     "output_type": "execute_result"
    }
   ],
   "source": [
    "df"
   ]
  },
  {
   "attachments": {},
   "cell_type": "markdown",
   "metadata": {},
   "source": [
    "# B. Exploratory Data Analysis (EDA)"
   ]
  },
  {
   "attachments": {},
   "cell_type": "markdown",
   "metadata": {},
   "source": [
    "The next step is EDA, which is exploring the characteristics of the dataset using descriptive statistics and data visualisation. A good way to get started is by looking at each column and ask yourself questions what it says about the the dataset."
   ]
  },
  {
   "attachments": {},
   "cell_type": "markdown",
   "metadata": {},
   "source": [
    "1. Location data: 'lat' and 'lon' They say the most important thing in real estate is location, we can actually see where in Mexico the houese are located by using this data. Since it's latitude and longtitude, we can use scatter plot on top of a map. A great tool fot this is the scatter_mapbox from the plotly library."
   ]
  },
  {
   "cell_type": "code",
   "execution_count": 29,
   "metadata": {},
   "outputs": [
    {
     "data": {
      "text/html": [
       "<div>\n",
       "<style scoped>\n",
       "    .dataframe tbody tr th:only-of-type {\n",
       "        vertical-align: middle;\n",
       "    }\n",
       "\n",
       "    .dataframe tbody tr th {\n",
       "        vertical-align: top;\n",
       "    }\n",
       "\n",
       "    .dataframe thead th {\n",
       "        text-align: right;\n",
       "    }\n",
       "</style>\n",
       "<table border=\"1\" class=\"dataframe\">\n",
       "  <thead>\n",
       "    <tr style=\"text-align: right;\">\n",
       "      <th></th>\n",
       "      <th>property_type</th>\n",
       "      <th>state</th>\n",
       "      <th>lat</th>\n",
       "      <th>lon</th>\n",
       "      <th>area_m2</th>\n",
       "      <th>price_usd</th>\n",
       "    </tr>\n",
       "  </thead>\n",
       "  <tbody>\n",
       "    <tr>\n",
       "      <th>0</th>\n",
       "      <td>house</td>\n",
       "      <td>Estado de México</td>\n",
       "      <td>19.560181</td>\n",
       "      <td>-99.233528</td>\n",
       "      <td>150.0</td>\n",
       "      <td>67965.56</td>\n",
       "    </tr>\n",
       "    <tr>\n",
       "      <th>1</th>\n",
       "      <td>house</td>\n",
       "      <td>Nuevo León</td>\n",
       "      <td>25.688436</td>\n",
       "      <td>-100.198807</td>\n",
       "      <td>186.0</td>\n",
       "      <td>63223.78</td>\n",
       "    </tr>\n",
       "    <tr>\n",
       "      <th>2</th>\n",
       "      <td>apartment</td>\n",
       "      <td>Guerrero</td>\n",
       "      <td>16.767704</td>\n",
       "      <td>-99.764383</td>\n",
       "      <td>82.0</td>\n",
       "      <td>84298.37</td>\n",
       "    </tr>\n",
       "    <tr>\n",
       "      <th>3</th>\n",
       "      <td>apartment</td>\n",
       "      <td>Guerrero</td>\n",
       "      <td>16.829782</td>\n",
       "      <td>-99.911012</td>\n",
       "      <td>150.0</td>\n",
       "      <td>94308.80</td>\n",
       "    </tr>\n",
       "    <tr>\n",
       "      <th>5</th>\n",
       "      <td>house</td>\n",
       "      <td>Yucatán</td>\n",
       "      <td>21.052583</td>\n",
       "      <td>-89.538639</td>\n",
       "      <td>205.0</td>\n",
       "      <td>105191.37</td>\n",
       "    </tr>\n",
       "    <tr>\n",
       "      <th>...</th>\n",
       "      <td>...</td>\n",
       "      <td>...</td>\n",
       "      <td>...</td>\n",
       "      <td>...</td>\n",
       "      <td>...</td>\n",
       "      <td>...</td>\n",
       "    </tr>\n",
       "    <tr>\n",
       "      <th>695</th>\n",
       "      <td>house</td>\n",
       "      <td>Jalisco</td>\n",
       "      <td>20.532264</td>\n",
       "      <td>-103.484418</td>\n",
       "      <td>175.0</td>\n",
       "      <td>121178.91</td>\n",
       "    </tr>\n",
       "    <tr>\n",
       "      <th>696</th>\n",
       "      <td>house</td>\n",
       "      <td>Morelos</td>\n",
       "      <td>18.928986</td>\n",
       "      <td>-99.180215</td>\n",
       "      <td>100.0</td>\n",
       "      <td>47417.83</td>\n",
       "    </tr>\n",
       "    <tr>\n",
       "      <th>697</th>\n",
       "      <td>house</td>\n",
       "      <td>Yucatán</td>\n",
       "      <td>21.028404</td>\n",
       "      <td>-89.653006</td>\n",
       "      <td>81.0</td>\n",
       "      <td>39524.23</td>\n",
       "    </tr>\n",
       "    <tr>\n",
       "      <th>698</th>\n",
       "      <td>house</td>\n",
       "      <td>San Luis Potosí</td>\n",
       "      <td>22.118304</td>\n",
       "      <td>-101.032194</td>\n",
       "      <td>360.0</td>\n",
       "      <td>245050.24</td>\n",
       "    </tr>\n",
       "    <tr>\n",
       "      <th>699</th>\n",
       "      <td>house</td>\n",
       "      <td>Estado de México</td>\n",
       "      <td>19.233201</td>\n",
       "      <td>-99.558519</td>\n",
       "      <td>115.0</td>\n",
       "      <td>110667.85</td>\n",
       "    </tr>\n",
       "  </tbody>\n",
       "</table>\n",
       "<p>1736 rows × 6 columns</p>\n",
       "</div>"
      ],
      "text/plain": [
       "    property_type             state        lat         lon  area_m2  price_usd\n",
       "0           house  Estado de México  19.560181  -99.233528    150.0   67965.56\n",
       "1           house        Nuevo León  25.688436 -100.198807    186.0   63223.78\n",
       "2       apartment          Guerrero  16.767704  -99.764383     82.0   84298.37\n",
       "3       apartment          Guerrero  16.829782  -99.911012    150.0   94308.80\n",
       "5           house           Yucatán  21.052583  -89.538639    205.0  105191.37\n",
       "..            ...               ...        ...         ...      ...        ...\n",
       "695         house           Jalisco  20.532264 -103.484418    175.0  121178.91\n",
       "696         house           Morelos  18.928986  -99.180215    100.0   47417.83\n",
       "697         house           Yucatán  21.028404  -89.653006     81.0   39524.23\n",
       "698         house   San Luis Potosí  22.118304 -101.032194    360.0  245050.24\n",
       "699         house  Estado de México  19.233201  -99.558519    115.0  110667.85\n",
       "\n",
       "[1736 rows x 6 columns]"
      ]
     },
     "execution_count": 29,
     "metadata": {},
     "output_type": "execute_result"
    }
   ],
   "source": [
    "df"
   ]
  },
  {
   "cell_type": "code",
   "execution_count": 30,
   "metadata": {},
   "outputs": [],
   "source": [
    "import matplotlib.pyplot as plt\n",
    "import plotly.express as px"
   ]
  },
  {
   "cell_type": "code",
   "execution_count": 44,
   "metadata": {},
   "outputs": [
    {
     "data": {
      "application/vnd.plotly.v1+json": {
       "config": {
        "plotlyServerURL": "https://plot.ly"
       },
       "data": [
        {
         "customdata": [
          [
           67965.56
          ],
          [
           63223.78
          ],
          [
           84298.37
          ],
          [
           94308.8
          ],
          [
           105191.37
          ],
          [
           274034.68
          ],
          [
           151509.56
          ],
          [
           79029.72
          ],
          [
           115937.75
          ],
          [
           63223.78
          ],
          [
           157269.15
          ],
          [
           104607.47
          ],
          [
           63238.77
          ],
          [
           77994.48
          ],
          [
           131716.2
          ],
          [
           203167.1
          ],
          [
           264390.77
          ],
          [
           63238.77
          ],
          [
           36775.16
          ],
          [
           173570.3
          ],
          [
           131716.2
          ],
          [
           67175.26
          ],
          [
           262905.55
          ],
          [
           40041.72
          ],
          [
           64556.24
          ],
          [
           44783.51
          ],
          [
           104846.1
          ],
          [
           158059.45
          ],
          [
           84845.35
          ],
          [
           39514.86
          ],
          [
           158059.45
          ],
          [
           92223.21
          ],
          [
           129639.48
          ],
          [
           120125.18
          ],
          [
           158059.45
          ],
          [
           51632.75
          ],
          [
           155461.98
          ],
          [
           126447.56
          ],
          [
           51662.25
          ],
          [
           97598.5
          ],
          [
           57955.13
          ],
          [
           108534.15
          ],
          [
           247626.47
          ],
          [
           86300.46
          ],
          [
           44794.13
          ],
          [
           40841.7
          ],
          [
           95309.84
          ],
          [
           150719.07
          ],
          [
           81683.41
          ],
          [
           65858.1
          ],
          [
           192087.77
          ],
          [
           60603.82
          ],
          [
           237089.17
          ],
          [
           41095.45
          ],
          [
           158096.93
          ],
          [
           227351.46
          ],
          [
           67438.69
          ],
          [
           136984.85
          ],
          [
           93781.94
          ],
          [
           205477.28
          ],
          [
           43887.84
          ],
          [
           94835.67
          ],
          [
           105372.96
          ],
          [
           79029.72
          ],
          [
           176499.72
          ],
          [
           81630.71
          ],
          [
           105372.96
          ],
          [
           126477.54
          ],
          [
           34254.33
          ],
          [
           72707.34
          ],
          [
           35563.37
          ],
          [
           207057.88
          ],
          [
           76395.4
          ],
          [
           126447.56
          ],
          [
           216014.58
          ],
          [
           52423.05
          ],
          [
           118386.52
          ],
          [
           63238.77
          ],
          [
           173865.39
          ],
          [
           226551.88
          ],
          [
           34254.33
          ],
          [
           139652.29
          ],
          [
           84298.37
          ],
          [
           68492.42
          ],
          [
           63238.77
          ],
          [
           65873.72
          ],
          [
           50591.01
          ],
          [
           126447.56
          ],
          [
           142253.5
          ],
          [
           242415.29
          ],
          [
           72707.34
          ],
          [
           147557.13
          ],
          [
           150192.08
          ],
          [
           110641.61
          ],
          [
           86953.31
          ],
          [
           131747.44
          ],
          [
           189716.32
          ],
          [
           176499.72
          ],
          [
           152000.5
          ],
          [
           137017.34
          ],
          [
           78502.86
          ],
          [
           102738.64
          ],
          [
           88270.78
          ],
          [
           111721.83
          ],
          [
           51644.99
          ],
          [
           57006.77
          ],
          [
           110641.61
          ],
          [
           142287.24
          ],
          [
           82875.83
          ],
          [
           120944.15
          ],
          [
           89567.02
          ],
          [
           197100.13
          ],
          [
           34599.16
          ],
          [
           47417.83
          ],
          [
           116173.69
          ],
          [
           326733.66
          ],
          [
           247626.47
          ],
          [
           121178.91
          ],
          [
           105372.96
          ],
          [
           123813.23
          ],
          [
           160866.42
          ],
          [
           142253.5
          ],
          [
           42159.18
          ],
          [
           37670.83
          ],
          [
           123052.11
          ],
          [
           104870.96
          ],
          [
           46840.27
          ],
          [
           94835.67
          ],
          [
           97469.99
          ],
          [
           306529.96
          ],
          [
           136984.85
          ],
          [
           139652.29
          ],
          [
           89567.02
          ],
          [
           230874.8
          ],
          [
           147557.13
          ],
          [
           50579.02
          ],
          [
           102211.77
          ],
          [
           79029.72
          ],
          [
           105372.96
          ],
          [
           67965.56
          ],
          [
           110641.61
          ],
          [
           110667.85
          ],
          [
           136490.35
          ],
          [
           60589.45
          ],
          [
           68508.67
          ],
          [
           76413.51
          ],
          [
           120652.04
          ],
          [
           87703.06
          ],
          [
           259470.39
          ],
          [
           237089.17
          ],
          [
           236144.12
          ],
          [
           237089.17
          ],
          [
           143530.93
          ],
          [
           131747.44
          ],
          [
           79029.72
          ],
          [
           92223.21
          ],
          [
           42149.18
          ],
          [
           56387.9
          ],
          [
           60603.82
          ],
          [
           39514.86
          ],
          [
           110050.31
          ],
          [
           65858.1
          ],
          [
           171306.94
          ],
          [
           84318.36
          ],
          [
           108007.29
          ],
          [
           63118.4
          ],
          [
           73234.21
          ],
          [
           173865.39
          ],
          [
           90115.25
          ],
          [
           94594.66
          ],
          [
           39524.23
          ],
          [
           84298.37
          ],
          [
           76677.01
          ],
          [
           114487.72
          ],
          [
           181811.47
          ],
          [
           94308.8
          ],
          [
           84825.23
          ],
          [
           217911.29
          ],
          [
           65858.1
          ],
          [
           49537.03
          ],
          [
           76413.51
          ],
          [
           283558.65
          ],
          [
           92201.34
          ],
          [
           158096.93
          ],
          [
           124501.99
          ],
          [
           41095.45
          ],
          [
           78502.86
          ],
          [
           96363.57
          ],
          [
           67438.69
          ],
          [
           42676.05
          ],
          [
           68508.67
          ],
          [
           76940.5
          ],
          [
           46890.97
          ],
          [
           106848.18
          ],
          [
           42149.18
          ],
          [
           93781.94
          ],
          [
           115937.75
          ],
          [
           109324.45
          ],
          [
           67702.13
          ],
          [
           36880.53
          ],
          [
           63223.78
          ],
          [
           36889.28
          ],
          [
           93255.07
          ],
          [
           64281.19
          ],
          [
           144922.18
          ],
          [
           78995.76
          ],
          [
           37386.32
          ],
          [
           91169.23
          ],
          [
           104319.23
          ],
          [
           184182.92
          ],
          [
           123981.3
          ],
          [
           50064.02
          ],
          [
           56514.99
          ],
          [
           270872.74
          ],
          [
           92223.21
          ],
          [
           144887.83
          ],
          [
           184446.42
          ],
          [
           62448.28
          ],
          [
           57968.87
          ],
          [
           71126.75
          ],
          [
           39524.23
          ],
          [
           84298.37
          ],
          [
           62975.27
          ],
          [
           289844.37
          ],
          [
           102738.64
          ],
          [
           326656.19
          ],
          [
           71126.75
          ],
          [
           131716.2
          ],
          [
           100104.31
          ],
          [
           173986.78
          ],
          [
           215222.62
          ],
          [
           188398.84
          ],
          [
           144887.83
          ],
          [
           86932.69
          ],
          [
           226551.88
          ],
          [
           139652.29
          ],
          [
           57955.13
          ],
          [
           246994.23
          ],
          [
           42149.18
          ],
          [
           36269.27
          ],
          [
           50087.3
          ],
          [
           63223.78
          ],
          [
           110588.92
          ],
          [
           39514.86
          ],
          [
           274034.68
          ],
          [
           266066.74
          ],
          [
           39462.17
          ],
          [
           39514.86
          ],
          [
           71301.71
          ],
          [
           121207.64
          ],
          [
           242415.29
          ],
          [
           144887.83
          ],
          [
           131747.44
          ],
          [
           104343.97
          ],
          [
           74972.86
          ],
          [
           312957.71
          ],
          [
           47417.83
          ],
          [
           41622.32
          ],
          [
           142253.5
          ],
          [
           34254.33
          ],
          [
           34077.61
          ],
          [
           118544.58
          ],
          [
           103606.19
          ],
          [
           52159.61
          ],
          [
           263494.89
          ],
          [
           92023.21
          ],
          [
           83000.89
          ],
          [
           80112.98
          ],
          [
           51644.99
          ],
          [
           39514.86
          ],
          [
           121207.64
          ],
          [
           34781.32
          ],
          [
           209902.95
          ],
          [
           68492.42
          ],
          [
           284507.01
          ],
          [
           189716.32
          ],
          [
           89061.27
          ],
          [
           68492.42
          ],
          [
           156958.3
          ],
          [
           144887.83
          ],
          [
           109587.88
          ],
          [
           155461.98
          ],
          [
           210745.93
          ],
          [
           52698.97
          ],
          [
           71765.83
          ],
          [
           109387.67
          ],
          [
           39830.98
          ],
          [
           47681.26
          ],
          [
           44783.51
          ],
          [
           91042.24
          ],
          [
           45321.12
          ],
          [
           79048.46
          ],
          [
           94835.67
          ],
          [
           97469.99
          ],
          [
           183296.27
          ],
          [
           104497.22
          ],
          [
           63223.78
          ],
          [
           48734.99
          ],
          [
           262967.9
          ],
          [
           130873.22
          ],
          [
           93465.82
          ],
          [
           166001.78
          ],
          [
           210745.93
          ],
          [
           105372.96
          ],
          [
           60076.83
          ],
          [
           75375.18
          ],
          [
           94308.8
          ],
          [
           50485.62
          ],
          [
           76395.4
          ],
          [
           136405.3
          ],
          [
           89567.02
          ],
          [
           105372.96
          ],
          [
           157479.9
          ],
          [
           39260.73
          ],
          [
           47429.08
          ],
          [
           43202.91
          ],
          [
           135085.08
          ],
          [
           99601.06
          ],
          [
           237145.4
          ],
          [
           44783.51
          ],
          [
           40568.59
          ],
          [
           65858.1
          ],
          [
           53740.21
          ],
          [
           273969.71
          ],
          [
           223970.65
          ],
          [
           33719.34
          ],
          [
           62570.46
          ],
          [
           66933.76
          ],
          [
           64277.51
          ],
          [
           68492.42
          ],
          [
           110641.61
          ],
          [
           100735.92
          ],
          [
           66911.83
          ],
          [
           324021.87
          ],
          [
           47417.83
          ],
          [
           121355.2
          ],
          [
           135931.12
          ],
          [
           74920.17
          ],
          [
           39524.23
          ],
          [
           137017.34
          ],
          [
           79029.72
          ],
          [
           51632.75
          ],
          [
           86932.69
          ],
          [
           89040.15
          ],
          [
           86953.31
          ],
          [
           34246.21
          ],
          [
           84298.37
          ],
          [
           65858.1
          ],
          [
           131716.2
          ],
          [
           176541.57
          ],
          [
           40645.77
          ],
          [
           178080.31
          ],
          [
           173865.39
          ],
          [
           123315.6
          ],
          [
           102763
          ],
          [
           173906.62
          ],
          [
           99577.45
          ],
          [
           315618.38
          ],
          [
           62696.91
          ],
          [
           131747.44
          ],
          [
           94818.28
          ],
          [
           50052.15
          ],
          [
           176541.57
          ],
          [
           51381.5
          ],
          [
           155425.12
          ],
          [
           68492.42
          ],
          [
           179134.04
          ],
          [
           77975.99
          ],
          [
           121178.91
          ],
          [
           173865.39
          ],
          [
           184446.42
          ],
          [
           154950.94
          ],
          [
           112222.21
          ],
          [
           115910.26
          ],
          [
           135430.6
          ],
          [
           174140.42
          ],
          [
           181084.17
          ],
          [
           35835.3
          ],
          [
           131747.44
          ],
          [
           183989.52
          ],
          [
           97469.99
          ],
          [
           34254.33
          ],
          [
           237089.17
          ],
          [
           33358.45
          ],
          [
           68492.42
          ],
          [
           71653.61
          ],
          [
           192305.66
          ],
          [
           57955.13
          ],
          [
           179134.04
          ],
          [
           209692.2
          ],
          [
           65858.1
          ],
          [
           187081.37
          ],
          [
           180187.77
          ],
          [
           44783.51
          ],
          [
           284047.49
          ],
          [
           55320.8
          ],
          [
           88513.29
          ],
          [
           209955.63
          ],
          [
           55333.92
          ],
          [
           134382.39
          ],
          [
           43213.16
          ],
          [
           40041.72
          ],
          [
           250320.14
          ],
          [
           101158.04
          ],
          [
           34246.21
          ],
          [
           118544.58
          ],
          [
           57968.87
          ],
          [
           139619.18
          ],
          [
           147557.13
          ],
          [
           101196.61
          ],
          [
           155461.98
          ],
          [
           279238.36
          ],
          [
           224660.17
          ],
          [
           115937.75
          ],
          [
           98523.72
          ],
          [
           152790.8
          ],
          [
           144922.18
          ],
          [
           60589.45
          ],
          [
           52686.48
          ],
          [
           68492.42
          ],
          [
           133442.74
          ],
          [
           65873.72
          ],
          [
           110641.61
          ],
          [
           316118.9
          ],
          [
           92728.21
          ],
          [
           156742.28
          ],
          [
           52686.48
          ],
          [
           147522.15
          ],
          [
           225024.63
          ],
          [
           226551.88
          ],
          [
           67981.68
          ],
          [
           279238.36
          ],
          [
           42149.18
          ],
          [
           43993.21
          ],
          [
           139619.18
          ],
          [
           121178.91
          ],
          [
           90589.54
          ],
          [
           80635.87
          ],
          [
           77325.47
          ],
          [
           306635.33
          ],
          [
           110641.61
          ],
          [
           144922.18
          ],
          [
           136984.85
          ],
          [
           125950.55
          ],
          [
           147522.15
          ],
          [
           91463.73
          ],
          [
           89588.26
          ],
          [
           34246.21
          ],
          [
           263432.41
          ],
          [
           118572.7
          ],
          [
           50064.02
          ],
          [
           102763
          ],
          [
           41105.2
          ],
          [
           208160.96
          ],
          [
           100104.31
          ],
          [
           94256.11
          ],
          [
           75078.23
          ],
          [
           50052.15
          ],
          [
           109587.88
          ],
          [
           200208.63
          ],
          [
           57422.47
          ],
          [
           50052.15
          ],
          [
           139619.18
          ],
          [
           47417.83
          ],
          [
           39946.36
          ],
          [
           83771.5
          ],
          [
           57955.13
          ],
          [
           210745.93
          ],
          [
           131716.2
          ],
          [
           210743.21
          ],
          [
           168636.73
          ],
          [
           68205.43
          ],
          [
           144887.83
          ],
          [
           51393.55
          ],
          [
           131716.2
          ],
          [
           78766.29
          ],
          [
           100075.35
          ],
          [
           99577.45
          ],
          [
           37943.26
          ],
          [
           62184.79
          ],
          [
           189663.62
          ],
          [
           176979.24
          ],
          [
           242415.29
          ],
          [
           68245.17
          ],
          [
           84318.36
          ],
          [
           210795.91
          ],
          [
           40568.59
          ],
          [
           84318.36
          ],
          [
           218648.9
          ],
          [
           128098.38
          ],
          [
           43202.91
          ],
          [
           131768.89
          ],
          [
           42676.05
          ],
          [
           316118.9
          ],
          [
           77975.99
          ],
          [
           51644.99
          ],
          [
           51644.99
          ],
          [
           110667.85
          ],
          [
           113302.8
          ],
          [
           150683.34
          ],
          [
           236091.42
          ],
          [
           79029.72
          ],
          [
           72707.34
          ],
          [
           99577.45
          ],
          [
           72197.6
          ],
          [
           65858.1
          ],
          [
           37943.26
          ],
          [
           42969.88
          ],
          [
           124340.1
          ],
          [
           76395.4
          ],
          [
           268701.06
          ],
          [
           84298.37
          ],
          [
           43729.78
          ],
          [
           189716.32
          ],
          [
           237145.4
          ],
          [
           98656.43
          ],
          [
           53225.96
          ],
          [
           123813.23
          ],
          [
           41105.2
          ],
          [
           177695.7
          ],
          [
           83771.5
          ],
          [
           47417.83
          ],
          [
           142253.5
          ],
          [
           73761.07
          ],
          [
           79048.46
          ],
          [
           184446.42
          ],
          [
           147522.15
          ],
          [
           44941.57
          ],
          [
           201310.09
          ],
          [
           47417.83
          ],
          [
           79029.72
          ],
          [
           113302.8
          ],
          [
           81664.04
          ],
          [
           209692.2
          ],
          [
           123813.23
          ],
          [
           84318.36
          ],
          [
           126447.56
          ],
          [
           226551.88
          ],
          [
           147522.15
          ],
          [
           194986.21
          ],
          [
           92542.77
          ],
          [
           41095.45
          ],
          [
           84318.36
          ],
          [
           37943.26
          ],
          [
           36889.28
          ],
          [
           64804.37
          ],
          [
           269754.79
          ],
          [
           40568.59
          ],
          [
           94858.16
          ],
          [
           79029.72
          ],
          [
           90620.75
          ],
          [
           147557.13
          ],
          [
           149928.59
          ],
          [
           121178.91
          ],
          [
           84298.37
          ],
          [
           137017.34
          ],
          [
           68070.93
          ],
          [
           147522.15
          ],
          [
           161826.53
          ],
          [
           221283.23
          ],
          [
           34246.21
          ],
          [
           102738.64
          ],
          [
           210795.91
          ],
          [
           68492.42
          ],
          [
           112402.96
          ],
          [
           197146.87
          ],
          [
           168596.74
          ],
          [
           168596.74
          ],
          [
           73761.07
          ],
          [
           42149.18
          ],
          [
           115910.26
          ],
          [
           71143.62
          ],
          [
           45310.37
          ],
          [
           208160.96
          ],
          [
           94278.47
          ],
          [
           97469.99
          ],
          [
           54267.07
          ],
          [
           183989.47
          ],
          [
           115910.26
          ],
          [
           77572.89
          ],
          [
           137017.34
          ],
          [
           110404.35
          ],
          [
           56637.97
          ],
          [
           68421.05263157895
          ],
          [
           278947.36842105264
          ],
          [
           65789.47368421052
          ],
          [
           111578.94736842105
          ],
          [
           39904.73684210526
          ],
          [
           35263.15789473684
          ],
          [
           157368.42105263157
          ],
          [
           112473.68421052632
          ],
          [
           110526.31578947368
          ],
          [
           88947.36842105263
          ],
          [
           55000
          ],
          [
           163157.8947368421
          ],
          [
           184210.52631578947
          ],
          [
           105263.15789473684
          ],
          [
           144736.84210526315
          ],
          [
           104736.84210526316
          ],
          [
           65789.47368421052
          ],
          [
           136842.1052631579
          ],
          [
           71911.21052631579
          ],
          [
           63157.89473684211
          ],
          [
           94736.84210526316
          ],
          [
           52631.57894736842
          ],
          [
           35841.57894736842
          ],
          [
           97368.42105263157
          ],
          [
           157894.73684210525
          ],
          [
           115263.15789473684
          ],
          [
           131578.94736842104
          ],
          [
           81578.94736842105
          ],
          [
           92105.26315789473
          ],
          [
           94736.84210526316
          ],
          [
           99473.68421052632
          ],
          [
           150000
          ],
          [
           57894.73684210526
          ],
          [
           118421.05263157895
          ],
          [
           71052.63157894737
          ],
          [
           130842.1052631579
          ],
          [
           73684.21052631579
          ],
          [
           321052.63157894736
          ],
          [
           189473.68421052632
          ],
          [
           231578.94736842104
          ],
          [
           124210.52631578948
          ],
          [
           81052.63157894737
          ],
          [
           46280.68421052631
          ],
          [
           36842.10526315789
          ],
          [
           260526.31578947368
          ],
          [
           105263.15789473684
          ],
          [
           201061.2105263158
          ],
          [
           178947.36842105264
          ],
          [
           186842.1052631579
          ],
          [
           184210.52631578947
          ],
          [
           57894.73684210526
          ],
          [
           97368.42105263157
          ],
          [
           69473.68421052632
          ],
          [
           121052.63157894737
          ],
          [
           88947.36842105263
          ],
          [
           89473.68421052632
          ],
          [
           97368.42105263157
          ],
          [
           47105.26315789474
          ],
          [
           123684.21052631579
          ],
          [
           279193.5789473684
          ],
          [
           236842.1052631579
          ],
          [
           78189.47368421052
          ],
          [
           289421.05263157893
          ],
          [
           40000
          ],
          [
           147368.42105263157
          ],
          [
           73684.21052631579
          ],
          [
           71911.21052631579
          ],
          [
           44736.84210526316
          ],
          [
           37037.10526315789
          ],
          [
           142105.26315789475
          ],
          [
           42807.63157894737
          ],
          [
           91315.78947368421
          ],
          [
           134715.7894736842
          ],
          [
           43157.89473684211
          ],
          [
           166315.7894736842
          ],
          [
           100000
          ],
          [
           51578.94736842105
          ],
          [
           77368.42105263157
          ],
          [
           103945.63157894737
          ],
          [
           233473.68421052632
          ],
          [
           97368.42105263157
          ],
          [
           231478.94736842104
          ],
          [
           229400
          ],
          [
           76315.78947368421
          ],
          [
           93684.21052631579
          ],
          [
           226315.7894736842
          ],
          [
           63157.89473684211
          ],
          [
           34210.52631578947
          ],
          [
           163157.8947368421
          ],
          [
           105000
          ],
          [
           157894.73684210525
          ],
          [
           155263.15789473685
          ],
          [
           97368.42105263157
          ],
          [
           69473.68421052632
          ],
          [
           65789.47368421052
          ],
          [
           263157.8947368421
          ],
          [
           57894.73684210526
          ],
          [
           213157.8947368421
          ],
          [
           47368.42105263158
          ],
          [
           90014.94736842105
          ],
          [
           98368.42105263157
          ],
          [
           78947.36842105263
          ],
          [
           65789.47368421052
          ],
          [
           252631.57894736843
          ],
          [
           147368.42105263157
          ],
          [
           122894.73684210527
          ],
          [
           75210.52631578948
          ],
          [
           176315.7894736842
          ],
          [
           53684.21052631579
          ],
          [
           51578.94736842105
          ],
          [
           236842.1052631579
          ],
          [
           44736.84210526316
          ],
          [
           209311.05263157896
          ],
          [
           73684.21052631579
          ],
          [
           184210.52631578947
          ],
          [
           52631.57894736842
          ],
          [
           71052.63157894737
          ],
          [
           314736.84210526315
          ],
          [
           51842.10526315789
          ],
          [
           122419.26315789473
          ],
          [
           160263.15789473685
          ],
          [
           139473.68421052632
          ],
          [
           69684.21052631579
          ],
          [
           63157.89473684211
          ],
          [
           36263.15789473684
          ],
          [
           118421.05263157895
          ],
          [
           78947.36842105263
          ],
          [
           231578.94736842104
          ],
          [
           76315.78947368421
          ],
          [
           44736.84210526316
          ],
          [
           86842.1052631579
          ],
          [
           78947.36842105263
          ],
          [
           131578.94736842104
          ],
          [
           205578.94736842104
          ],
          [
           94736.84210526316
          ],
          [
           53102.78947368421
          ],
          [
           57894.73684210526
          ],
          [
           168421.05263157896
          ],
          [
           197368.42105263157
          ],
          [
           47631.57894736842
          ],
          [
           166863.15789473685
          ],
          [
           136842.1052631579
          ],
          [
           173421.05263157896
          ],
          [
           42105.26315789474
          ],
          [
           94736.84210526316
          ],
          [
           89210.52631578948
          ],
          [
           97368.42105263157
          ],
          [
           34021.73684210526
          ],
          [
           47368.42105263158
          ],
          [
           134210.52631578947
          ],
          [
           197982.1052631579
          ],
          [
           200000
          ],
          [
           142105.26315789475
          ],
          [
           184210.52631578947
          ],
          [
           65789.47368421052
          ],
          [
           41052.63157894737
          ],
          [
           78947.36842105263
          ],
          [
           251578.94736842104
          ],
          [
           117894.73684210527
          ],
          [
           206315.7894736842
          ],
          [
           225263.15789473685
          ],
          [
           147368.42105263157
          ],
          [
           86842.1052631579
          ],
          [
           106736.84210526316
          ],
          [
           113710.52631578948
          ],
          [
           57894.73684210526
          ],
          [
           131578.94736842104
          ],
          [
           152368.42105263157
          ],
          [
           165789.47368421053
          ],
          [
           67894.73684210527
          ],
          [
           116403.57894736843
          ],
          [
           66315.78947368421
          ],
          [
           97368.42105263157
          ],
          [
           127368.42105263157
          ],
          [
           115789.47368421052
          ],
          [
           51578.94736842105
          ],
          [
           50000
          ],
          [
           151578.94736842104
          ],
          [
           86842.1052631579
          ],
          [
           260526.31578947368
          ],
          [
           236842.1052631579
          ],
          [
           77894.73684210527
          ],
          [
           147631.57894736843
          ],
          [
           144736.84210526315
          ],
          [
           91052.63157894737
          ],
          [
           205263.15789473685
          ],
          [
           35789.47368421053
          ],
          [
           44736.84210526316
          ],
          [
           157489.47368421053
          ],
          [
           69473.68421052632
          ],
          [
           184210.52631578947
          ],
          [
           86842.1052631579
          ],
          [
           74234.36842105263
          ],
          [
           139473.68421052632
          ],
          [
           305263.15789473685
          ],
          [
           69578.94736842105
          ],
          [
           176842.1052631579
          ],
          [
           44736.84210526316
          ],
          [
           44736.84210526316
          ],
          [
           35526.31578947369
          ],
          [
           168421.05263157896
          ],
          [
           44736.84210526316
          ],
          [
           77631.57894736843
          ],
          [
           100000
          ],
          [
           60526.31578947369
          ],
          [
           92105.26315789473
          ],
          [
           240526.31578947368
          ],
          [
           236842.1052631579
          ],
          [
           45789.47368421053
          ],
          [
           104210.52631578948
          ],
          [
           76315.78947368421
          ],
          [
           221052.63157894736
          ],
          [
           97678.94736842105
          ],
          [
           252631.57894736843
          ],
          [
           273684.2105263158
          ],
          [
           204000
          ],
          [
           50000
          ],
          [
           60526.31578947369
          ],
          [
           86842.1052631579
          ],
          [
           199473.68421052632
          ],
          [
           65789.47368421052
          ],
          [
           57894.73684210526
          ],
          [
           48000
          ],
          [
           39473.68421052631
          ],
          [
           147368.42105263157
          ],
          [
           83157.8947368421
          ],
          [
           223684.2105263158
          ],
          [
           63157.89473684211
          ],
          [
           120263.15789473684
          ],
          [
           65789.47368421052
          ],
          [
           262631.5789473684
          ],
          [
           207894.73684210525
          ],
          [
           81578.94736842105
          ],
          [
           94210.52631578948
          ],
          [
           126315.78947368421
          ],
          [
           165789.47368421053
          ],
          [
           52105.26315789474
          ],
          [
           192105.26315789475
          ],
          [
           113105.26315789473
          ],
          [
           46973.68421052631
          ],
          [
           113684.21052631579
          ],
          [
           242105.26315789475
          ],
          [
           244736.84210526315
          ],
          [
           184210.52631578947
          ],
          [
           51000
          ],
          [
           33684.21052631579
          ],
          [
           68421.05263157895
          ],
          [
           86789.47368421052
          ],
          [
           92105.26315789473
          ],
          [
           230842.1052631579
          ],
          [
           113157.8947368421
          ],
          [
           92105.26315789473
          ],
          [
           49473.68421052631
          ],
          [
           141052.63157894736
          ],
          [
           139473.68421052632
          ],
          [
           236842.1052631579
          ],
          [
           89421.05263157895
          ],
          [
           227684.2105263158
          ],
          [
           97894.73684210527
          ],
          [
           127894.73684210527
          ],
          [
           236842.1052631579
          ],
          [
           192217.47368421053
          ],
          [
           194736.84210526315
          ],
          [
           110526.31578947368
          ],
          [
           46789.47368421053
          ],
          [
           121052.63157894737
          ],
          [
           78947.36842105263
          ],
          [
           101157.8947368421
          ],
          [
           63157.89473684211
          ],
          [
           36421.05263157895
          ],
          [
           121052.63157894737
          ],
          [
           207894.73684210525
          ],
          [
           173684.2105263158
          ],
          [
           97368.42105263157
          ],
          [
           151315.7894736842
          ],
          [
           100000
          ],
          [
           137105.26315789475
          ],
          [
           70263.15789473684
          ],
          [
           84210.52631578948
          ],
          [
           228947.36842105264
          ],
          [
           98162.36842105263
          ],
          [
           97368.42105263157
          ],
          [
           148739.68421052632
          ],
          [
           89473.68421052632
          ],
          [
           102631.57894736843
          ],
          [
           125926.68421052632
          ],
          [
           42105.26315789474
          ],
          [
           65789.47368421052
          ],
          [
           49473.68421052631
          ],
          [
           128947.36842105263
          ],
          [
           86842.1052631579
          ],
          [
           76315.78947368421
          ],
          [
           110000
          ],
          [
           234210.52631578947
          ],
          [
           157894.73684210525
          ],
          [
           184210.52631578947
          ],
          [
           48947.36842105263
          ],
          [
           97368.42105263157
          ],
          [
           210526.31578947368
          ],
          [
           68157.8947368421
          ],
          [
           65789.47368421052
          ],
          [
           171949.05263157896
          ],
          [
           149000
          ],
          [
           57894.73684210526
          ],
          [
           104736.84210526316
          ],
          [
           120000
          ],
          [
           94736.84210526316
          ],
          [
           35368.42105263158
          ],
          [
           115789.47368421052
          ],
          [
           184210.52631578947
          ],
          [
           118421.05263157895
          ],
          [
           78947.36842105263
          ],
          [
           113157.8947368421
          ],
          [
           118421.05263157895
          ],
          [
           84210.52631578948
          ],
          [
           194736.84210526315
          ],
          [
           115789.47368421052
          ],
          [
           263157.8947368421
          ],
          [
           77631.57894736843
          ],
          [
           92105.26315789473
          ],
          [
           115789.47368421052
          ],
          [
           94210.52631578948
          ],
          [
           181263.15789473685
          ],
          [
           228947.36842105264
          ],
          [
           71052.63157894737
          ],
          [
           221052.63157894736
          ],
          [
           44789.47368421053
          ],
          [
           66526.31578947368
          ],
          [
           142105.26315789475
          ],
          [
           73684.21052631579
          ],
          [
           52428.26315789474
          ],
          [
           307127.15789473685
          ],
          [
           63157.89473684211
          ],
          [
           147368.42105263157
          ],
          [
           67026.31578947368
          ],
          [
           42631.57894736842
          ],
          [
           101315.78947368421
          ],
          [
           44736.84210526316
          ],
          [
           118421.05263157895
          ],
          [
           205263.15789473685
          ],
          [
           236842.1052631579
          ],
          [
           39473.68421052631
          ],
          [
           63157.89473684211
          ],
          [
           78947.36842105263
          ],
          [
           78947.36842105263
          ],
          [
           49473.68421052631
          ],
          [
           89421.05263157895
          ],
          [
           294736.84210526315
          ],
          [
           101884.21052631579
          ],
          [
           144736.84210526315
          ],
          [
           36842.10526315789
          ],
          [
           57894.73684210526
          ],
          [
           144736.84210526315
          ],
          [
           118421.05263157895
          ],
          [
           110526.31578947368
          ],
          [
           44736.84210526316
          ],
          [
           158210.52631578947
          ],
          [
           65789.47368421052
          ],
          [
           77089.47368421052
          ],
          [
           110526.31578947368
          ],
          [
           165043.73684210525
          ],
          [
           155263.15789473685
          ],
          [
           184210.52631578947
          ],
          [
           118421.05263157895
          ],
          [
           57894.73684210526
          ],
          [
           55263.15789473684
          ],
          [
           103684.21052631579
          ],
          [
           50000
          ],
          [
           157368.42105263157
          ],
          [
           71052.63157894737
          ],
          [
           175368.42105263157
          ],
          [
           105263.15789473684
          ],
          [
           106368.42105263157
          ],
          [
           92631.57894736843
          ],
          [
           71052.63157894737
          ],
          [
           50000
          ],
          [
           110526.31578947368
          ],
          [
           46315.78947368421
          ],
          [
           103157.8947368421
          ],
          [
           93368.42105263157
          ],
          [
           110526.31578947368
          ],
          [
           35789.47368421053
          ],
          [
           72578.94736842105
          ],
          [
           68421.05263157895
          ],
          [
           44736.84210526316
          ],
          [
           60526.31578947369
          ],
          [
           67368.42105263157
          ],
          [
           55263.15789473684
          ],
          [
           67631.57894736843
          ],
          [
           46315.78947368421
          ],
          [
           72631.57894736843
          ],
          [
           115789.47368421052
          ],
          [
           152631.57894736843
          ],
          [
           121052.63157894737
          ],
          [
           97894.73684210527
          ],
          [
           44105.26315789474
          ],
          [
           139473.68421052632
          ],
          [
           53097.89473684211
          ],
          [
           107894.73684210527
          ],
          [
           194736.84210526315
          ],
          [
           102631.57894736843
          ],
          [
           84210.52631578948
          ],
          [
           68421.05263157895
          ],
          [
           194736.84210526315
          ],
          [
           197368.42105263157
          ],
          [
           184210.52631578947
          ],
          [
           150000
          ],
          [
           53684.21052631579
          ],
          [
           105263.15789473684
          ],
          [
           44736.84210526316
          ],
          [
           51578.94736842105
          ],
          [
           184210.52631578947
          ],
          [
           71052.63157894737
          ],
          [
           45789.47368421053
          ],
          [
           91052.63157894737
          ],
          [
           36000
          ],
          [
           89473.68421052632
          ],
          [
           205263.15789473685
          ],
          [
           157894.73684210525
          ],
          [
           52631.57894736842
          ],
          [
           136842.1052631579
          ],
          [
           43684.21052631579
          ],
          [
           171578.94736842104
          ],
          [
           61242.10526315789
          ],
          [
           163157.8947368421
          ],
          [
           63157.89473684211
          ],
          [
           71052.63157894737
          ],
          [
           64210.52631578947
          ],
          [
           120000
          ],
          [
           41052.63157894737
          ],
          [
           68421.05263157895
          ],
          [
           274592.8947368421
          ],
          [
           247105.26315789475
          ],
          [
           273684.2105263158
          ],
          [
           241060.52631578947
          ],
          [
           36092.10526315789
          ],
          [
           202631.57894736843
          ],
          [
           313105.2631578947
          ],
          [
           71052.63157894737
          ],
          [
           52631.57894736842
          ],
          [
           109210.52631578948
          ],
          [
           97368.42105263157
          ],
          [
           120252.63157894737
          ],
          [
           152631.57894736843
          ],
          [
           52398.94736842105
          ],
          [
           88947.36842105263
          ],
          [
           71052.63157894737
          ],
          [
           71052.63157894737
          ],
          [
           41578.94736842105
          ],
          [
           176315.7894736842
          ],
          [
           113157.8947368421
          ],
          [
           78947.36842105263
          ],
          [
           65789.47368421052
          ],
          [
           94736.84210526316
          ],
          [
           310526.3157894737
          ],
          [
           51578.94736842105
          ],
          [
           81578.94736842105
          ],
          [
           89473.68421052632
          ],
          [
           78947.36842105263
          ],
          [
           34210.52631578947
          ],
          [
           118421.05263157895
          ],
          [
           273684.2105263158
          ],
          [
           163157.8947368421
          ],
          [
           82473.68421052632
          ],
          [
           47368.42105263158
          ],
          [
           45789.47368421053
          ],
          [
           189473.68421052632
          ],
          [
           102631.57894736843
          ],
          [
           41578.94736842105
          ],
          [
           34210.52631578947
          ],
          [
           83157.8947368421
          ],
          [
           126296.52631578948
          ],
          [
           34210.52631578947
          ],
          [
           192105.26315789475
          ],
          [
           104736.84210526316
          ],
          [
           56571.15789473684
          ],
          [
           95343.42105263157
          ],
          [
           263157.8947368421
          ],
          [
           160526.31578947368
          ],
          [
           40000
          ],
          [
           89473.68421052632
          ],
          [
           51578.94736842105
          ],
          [
           244736.84210526315
          ],
          [
           100000
          ],
          [
           71052.63157894737
          ],
          [
           89473.68421052632
          ],
          [
           147368.42105263157
          ],
          [
           225263.15789473685
          ],
          [
           118421.05263157895
          ],
          [
           56842.10526315789
          ],
          [
           79953.94736842105
          ],
          [
           75263.15789473684
          ],
          [
           142105.26315789475
          ],
          [
           68421.05263157895
          ],
          [
           121052.63157894737
          ],
          [
           100000
          ],
          [
           118421.05263157895
          ],
          [
           81578.94736842105
          ],
          [
           128218.68421052632
          ],
          [
           44736.84210526316
          ],
          [
           94210.52631578948
          ],
          [
           197368.42105263157
          ],
          [
           289473.6842105263
          ],
          [
           126315.78947368421
          ],
          [
           55263.15789473684
          ],
          [
           105789.47368421052
          ],
          [
           125073.68421052632
          ],
          [
           115789.47368421052
          ],
          [
           103947.36842105263
          ],
          [
           106736.84210526316
          ],
          [
           40593.78947368421
          ],
          [
           68421.05263157895
          ],
          [
           105263.15789473684
          ],
          [
           113084.21052631579
          ],
          [
           238684.2105263158
          ],
          [
           80711.36842105263
          ],
          [
           36842.10526315789
          ],
          [
           99473.68421052632
          ],
          [
           65789.47368421052
          ],
          [
           86842.1052631579
          ],
          [
           194736.84210526315
          ],
          [
           45789.47368421053
          ],
          [
           155263.15789473685
          ],
          [
           131578.94736842104
          ],
          [
           66842.1052631579
          ],
          [
           68421.05263157895
          ],
          [
           94736.84210526316
          ],
          [
           178447.36842105264
          ],
          [
           115789.47368421052
          ],
          [
           84210.52631578948
          ],
          [
           79342.1052631579
          ],
          [
           195526.31578947368
          ],
          [
           39473.68421052631
          ],
          [
           91052.63157894737
          ],
          [
           115789.47368421052
          ],
          [
           93684.21052631579
          ],
          [
           75694.73684210527
          ],
          [
           62105.26315789474
          ],
          [
           40789.47368421053
          ],
          [
           52631.52631578947
          ],
          [
           231578.94736842104
          ],
          [
           99473.68421052632
          ],
          [
           100000
          ],
          [
           127894.73684210527
          ],
          [
           131578.94736842104
          ],
          [
           300000
          ],
          [
           139473.68421052632
          ],
          [
           76000
          ],
          [
           105263.15789473684
          ],
          [
           41578.94736842105
          ],
          [
           176327.36842105264
          ],
          [
           150000
          ],
          [
           42105.26315789474
          ],
          [
           104013.15789473684
          ],
          [
           65789.47368421052
          ],
          [
           111578.94736842105
          ],
          [
           134210.52631578947
          ],
          [
           244736.84210526315
          ],
          [
           68421.05263157895
          ],
          [
           68421.05263157895
          ],
          [
           194736.84210526315
          ],
          [
           33157.89473684211
          ],
          [
           65789.47368421052
          ],
          [
           150000
          ],
          [
           57894.73684210526
          ],
          [
           120526.31578947368
          ],
          [
           76315.78947368421
          ],
          [
           102263.15789473684
          ],
          [
           110526.31578947368
          ],
          [
           46842.10526315789
          ],
          [
           89210.52631578948
          ],
          [
           48550.59
          ],
          [
           168636.73
          ],
          [
           86932.69
          ],
          [
           68508.67
          ],
          [
           102763
          ],
          [
           126477.54
          ],
          [
           121207.64
          ],
          [
           226869.1
          ],
          [
           76395.4
          ],
          [
           50052.15
          ],
          [
           51076.22
          ],
          [
           152932.43
          ],
          [
           216014.58
          ],
          [
           34246.21
          ],
          [
           100104.31
          ],
          [
           158059.45
          ],
          [
           103500.79
          ],
          [
           237145.4
          ],
          [
           104319.23
          ],
          [
           65633.66
          ],
          [
           90115.25
          ],
          [
           110667.85
          ],
          [
           62585.3
          ],
          [
           91674.48
          ],
          [
           79443.7
          ],
          [
           115910.26
          ],
          [
           52686.48
          ],
          [
           150192.08
          ],
          [
           50942.31
          ],
          [
           105397.95
          ],
          [
           189716.32
          ],
          [
           273969.71
          ],
          [
           157532.58
          ],
          [
           173865.39
          ],
          [
           56689.55
          ],
          [
           100104.31
          ],
          [
           144922.18
          ],
          [
           110667.85
          ],
          [
           99577.45
          ],
          [
           92201.34
          ],
          [
           92130.98
          ],
          [
           99050.58
          ],
          [
           98523.72
          ],
          [
           52686.48
          ],
          [
           123842.59
          ],
          [
           142253.5
          ],
          [
           68245.17
          ],
          [
           103370.88
          ],
          [
           242357.82
          ],
          [
           79029.72
          ],
          [
           123813.23
          ],
          [
           55039.77
          ],
          [
           92201.34
          ],
          [
           81683.41
          ],
          [
           115910.26
          ],
          [
           53158.13
          ],
          [
           189716.32
          ],
          [
           57955.13
          ],
          [
           105397.95
          ],
          [
           100128.05
          ],
          [
           173490.81
          ],
          [
           49986.51
          ],
          [
           55320.8
          ],
          [
           165962.42
          ],
          [
           89587.99
          ],
          [
           120652.04
          ],
          [
           158059.45
          ],
          [
           210745.93
          ],
          [
           153686.47
          ],
          [
           131747.44
          ],
          [
           36817.31
          ],
          [
           210795.91
          ],
          [
           52698.97
          ],
          [
           72724.58
          ],
          [
           44256.64
          ],
          [
           151210.2
          ],
          [
           131716.2
          ],
          [
           147557.13
          ],
          [
           162801.23
          ],
          [
           86247.77
          ],
          [
           134382.39
          ],
          [
           44730.82
          ],
          [
           35826.8
          ],
          [
           250260.79
          ],
          [
           68508.67
          ],
          [
           115910.26
          ],
          [
           35036.51
          ],
          [
           83226.17
          ],
          [
           115910.26
          ],
          [
           124633.08
          ],
          [
           132559.19
          ],
          [
           184402.69
          ],
          [
           52574.87
          ],
          [
           78521.47
          ],
          [
           289775.66
          ],
          [
           89430.16
          ],
          [
           59022.85
          ],
          [
           177267.41
          ],
          [
           71126.75
          ],
          [
           79029.72
          ],
          [
           123842.59
          ],
          [
           84298.37
          ],
          [
           85178.23
          ],
          [
           86932.69
          ],
          [
           33350.54
          ],
          [
           237089.17
          ],
          [
           184446.42
          ],
          [
           136984.85
          ],
          [
           137017.34
          ],
          [
           36353.67
          ],
          [
           115910.26
          ],
          [
           205477.28
          ],
          [
           68492.42
          ],
          [
           104343.97
          ],
          [
           59022.85
          ],
          [
           237145.4
          ],
          [
           68492.42
          ],
          [
           149629.61
          ],
          [
           85949.19
          ],
          [
           222924.2
          ],
          [
           138598.31
          ],
          [
           122525.12
          ],
          [
           138334.81
          ],
          [
           163328.09
          ],
          [
           121207.64
          ],
          [
           68492.42
          ],
          [
           77467.49
          ],
          [
           63223.78
          ],
          [
           289775.66
          ],
          [
           326733.66
          ],
          [
           168596.74
          ],
          [
           60589.45
          ],
          [
           202842.96
          ],
          [
           93781.94
          ],
          [
           84087.62
          ],
          [
           33982.78
          ],
          [
           192305.66
          ],
          [
           91632.19
          ],
          [
           55847.67
          ],
          [
           68492.42
          ],
          [
           125393.83
          ],
          [
           136405.3
          ],
          [
           104319.23
          ],
          [
           57955.13
          ],
          [
           111331.75
          ],
          [
           141199.77
          ],
          [
           67438.69
          ],
          [
           43213.16
          ],
          [
           163328.09
          ],
          [
           205526.01
          ],
          [
           46943.65
          ],
          [
           289775.66
          ],
          [
           99577.45
          ],
          [
           184446.42
          ],
          [
           171271.67
          ],
          [
           205477.28
          ],
          [
           81664.04
          ],
          [
           62711.78
          ],
          [
           47417.83
          ],
          [
           51369.32
          ],
          [
           173906.62
          ],
          [
           146995.28
          ],
          [
           184446.42
          ],
          [
           101182.03
          ],
          [
           57705.38
          ],
          [
           163366.83
          ],
          [
           184446.42
          ],
          [
           102738.64
          ],
          [
           68245.17
          ],
          [
           200208.63
          ],
          [
           38470.25
          ],
          [
           147522.15
          ],
          [
           226551.88
          ],
          [
           115410.76
          ],
          [
           250260.79
          ],
          [
           141990.07
          ],
          [
           57428.26
          ],
          [
           34254.33
          ],
          [
           140741.38
          ],
          [
           92750.2
          ],
          [
           173865.39
          ],
          [
           76150.02
          ],
          [
           44783.51
          ],
          [
           210795.91
          ],
          [
           262115.25
          ],
          [
           171231.07
          ],
          [
           86932.69
          ],
          [
           70283.76
          ],
          [
           171271.67
          ],
          [
           131716.2
          ],
          [
           73234.21
          ],
          [
           43729.78
          ],
          [
           41680.96
          ],
          [
           257531.53
          ],
          [
           168069.88
          ],
          [
           36817.31
          ],
          [
           237145.4
          ],
          [
           266975.89
          ],
          [
           84298.37
          ],
          [
           105397.95
          ],
          [
           183348.96
          ],
          [
           86953.31
          ],
          [
           153686.47
          ],
          [
           52159.61
          ],
          [
           154987.69
          ],
          [
           84298.37
          ],
          [
           113302.8
          ],
          [
           34773.07
          ],
          [
           147557.13
          ],
          [
           172852.64
          ],
          [
           126477.54
          ],
          [
           35988.5
          ],
          [
           107322.36
          ],
          [
           49999.47
          ],
          [
           50517.24
          ],
          [
           93856.88
          ],
          [
           41095.45
          ],
          [
           42623.36
          ],
          [
           50052.15
          ],
          [
           92750.2
          ],
          [
           37670.83
          ],
          [
           313695.32
          ],
          [
           49051.11
          ],
          [
           165172.12
          ],
          [
           121178.91
          ],
          [
           226551.88
          ],
          [
           208111.61
          ],
          [
           127880.63
          ],
          [
           44794.13
          ],
          [
           59426.13
          ],
          [
           125920.69
          ],
          [
           91411.04
          ],
          [
           157917.19
          ],
          [
           81137.18
          ],
          [
           105397.95
          ],
          [
           81664.04
          ],
          [
           110667.85
          ],
          [
           231820.52
          ],
          [
           47417.83
          ],
          [
           138058.14
          ],
          [
           187081.37
          ],
          [
           134350.53
          ],
          [
           66911.83
          ],
          [
           132769.93
          ],
          [
           40645.77
          ],
          [
           65858.1
          ],
          [
           237145.4
          ],
          [
           115937.75
          ],
          [
           171231.07
          ],
          [
           38812.39
          ],
          [
           129112.49
          ],
          [
           115937.75
          ],
          [
           316193.86
          ],
          [
           106110.57
          ],
          [
           150156.47
          ],
          [
           171231.07
          ],
          [
           62170.05
          ],
          [
           95499.52
          ],
          [
           36783.88
          ],
          [
           189716.32
          ],
          [
           228450.07
          ],
          [
           131747.44
          ],
          [
           143834.1
          ],
          [
           152790.8
          ],
          [
           34421.81
          ],
          [
           48471.56
          ],
          [
           82717.77
          ],
          [
           63223.78
          ],
          [
           158059.45
          ],
          [
           115937.75
          ],
          [
           79048.46
          ],
          [
           131716.2
          ],
          [
           68492.42
          ],
          [
           79029.72
          ],
          [
           35826.8
          ],
          [
           36882.11
          ],
          [
           92201.34
          ],
          [
           59711.33
          ],
          [
           73234.21
          ],
          [
           155425.12
          ],
          [
           142253.5
          ],
          [
           208111.61
          ],
          [
           50064.02
          ],
          [
           89567.02
          ],
          [
           94331.17
          ],
          [
           207057.88
          ],
          [
           163366.83
          ],
          [
           34246.21
          ],
          [
           115937.75
          ],
          [
           179134.04
          ],
          [
           84054.87
          ],
          [
           85899.33
          ],
          [
           131716.2
          ],
          [
           68492.42
          ],
          [
           200256.11
          ],
          [
           260798.09
          ],
          [
           292796.2
          ],
          [
           194986.21
          ],
          [
           255590.04
          ],
          [
           35563.37
          ],
          [
           255529.44
          ],
          [
           250260.79
          ],
          [
           123842.59
          ],
          [
           115937.75
          ],
          [
           57287.8
          ],
          [
           119651
          ],
          [
           34245.11
          ],
          [
           105372.96
          ],
          [
           183875.82
          ],
          [
           231875.5
          ],
          [
           200208.63
          ],
          [
           76740.25
          ],
          [
           83264.38
          ],
          [
           154371.39
          ],
          [
           55333.92
          ],
          [
           165962.42
          ],
          [
           131400.09
          ],
          [
           50052.15
          ],
          [
           142253.5
          ],
          [
           231820.52
          ],
          [
           215482.45
          ],
          [
           110351.66
          ],
          [
           226551.88
          ],
          [
           38461.13
          ],
          [
           39146.05
          ],
          [
           115910.26
          ],
          [
           84318.36
          ],
          [
           129081.88
          ],
          [
           134350.53
          ],
          [
           35308.31
          ],
          [
           290434.24
          ],
          [
           61643.18
          ],
          [
           121705.77
          ],
          [
           51118
          ],
          [
           111194.84
          ],
          [
           82842.79
          ],
          [
           84298.37
          ],
          [
           118572.7
          ],
          [
           262378.68
          ],
          [
           289775.66
          ],
          [
           86953.31
          ],
          [
           71126.75
          ],
          [
           179239.41
          ],
          [
           115437.11
          ],
          [
           175924.99
          ],
          [
           46715.31
          ],
          [
           118572.7
          ],
          [
           76395.4
          ],
          [
           97469.99
          ],
          [
           98787.15
          ],
          [
           53158.18
          ],
          [
           76395.4
          ],
          [
           38461.13
          ],
          [
           139652.29
          ],
          [
           173906.62
          ],
          [
           34983.82
          ],
          [
           77467.49
          ],
          [
           97469.99
          ],
          [
           288721.93
          ],
          [
           57968.87
          ],
          [
           138934.25
          ],
          [
           49273.54
          ],
          [
           210745.93
          ],
          [
           60603.82
          ],
          [
           162393.9
          ],
          [
           135963.36
          ],
          [
           102369.83
          ],
          [
           252895.12
          ],
          [
           46890.97
          ],
          [
           60603.82
          ],
          [
           94835.67
          ],
          [
           34254.33
          ],
          [
           37353.34
          ],
          [
           79029.72
          ],
          [
           147522.15
          ],
          [
           200256.11
          ],
          [
           51632.75
          ],
          [
           152790.8
          ],
          [
           52686.48
          ],
          [
           79048.46
          ],
          [
           143868.21
          ],
          [
           135225.12
          ],
          [
           191620.74
          ],
          [
           110140.86
          ],
          [
           123813.23
          ],
          [
           184402.69
          ],
          [
           242357.82
          ],
          [
           51632.75
          ],
          [
           150192.08
          ],
          [
           36889.28
          ],
          [
           150894.08
          ],
          [
           194939.99
          ],
          [
           115910.26
          ],
          [
           108559.89
          ],
          [
           50591.01
          ],
          [
           158096.93
          ],
          [
           38724.56
          ],
          [
           93781.94
          ],
          [
           52633.79
          ],
          [
           144700.85
          ],
          [
           242357.82
          ],
          [
           115910.26
          ],
          [
           126214.05
          ],
          [
           229186.2
          ],
          [
           100104.31
          ],
          [
           102738.64
          ],
          [
           161258.87
          ],
          [
           43202.91
          ],
          [
           155425.12
          ],
          [
           289775.66
          ],
          [
           44048.85
          ],
          [
           154898.26
          ],
          [
           50157.53
          ],
          [
           177695.7
          ],
          [
           84318.36
          ],
          [
           92223.21
          ],
          [
           146995.28
          ],
          [
           118572.7
          ],
          [
           93804.18
          ],
          [
           137017.34
          ],
          [
           158059.45
          ],
          [
           90620.75
          ],
          [
           247421.7
          ],
          [
           73778.56
          ],
          [
           64556.24
          ],
          [
           108007.29
          ],
          [
           44783.51
          ],
          [
           292900.92
          ],
          [
           168596.74
          ],
          [
           139652.29
          ],
          [
           35890.24
          ],
          [
           150830.86
          ],
          [
           68492.42
          ],
          [
           210745.93
          ],
          [
           86953.31
          ],
          [
           125920.69
          ],
          [
           61643.18
          ],
          [
           106127.01
          ],
          [
           164947.8
          ],
          [
           94835.67
          ],
          [
           34246.21
          ],
          [
           47417.83
          ],
          [
           94858.16
          ],
          [
           237145.4
          ],
          [
           45848.11
          ],
          [
           34254.33
          ],
          [
           194939.99
          ],
          [
           240884.28
          ],
          [
           101445.53
          ],
          [
           78502.86
          ],
          [
           76413.51
          ],
          [
           168596.74
          ],
          [
           45057.62
          ],
          [
           51632.75
          ],
          [
           53832.41
          ],
          [
           118544.58
          ],
          [
           99577.45
          ],
          [
           46469.47
          ],
          [
           73778.56
          ],
          [
           289775.66
          ],
          [
           39514.86
          ],
          [
           76413.51
          ],
          [
           68508.67
          ],
          [
           36880.53
          ],
          [
           274034.68
          ],
          [
           187081.37
          ],
          [
           71653.61
          ],
          [
           97493.1
          ],
          [
           67860.19
          ],
          [
           88513.29
          ],
          [
           80083.45
          ],
          [
           147557.13
          ],
          [
           150192.08
          ],
          [
           47944.7
          ],
          [
           36248.3
          ],
          [
           75783.82
          ],
          [
           131716.2
          ],
          [
           126477.54
          ],
          [
           51644.99
          ],
          [
           262440.91
          ],
          [
           35826.8
          ],
          [
           46364.1
          ],
          [
           94835.67
          ],
          [
           33192.48
          ],
          [
           163328.09
          ],
          [
           115814.11
          ],
          [
           73761.07
          ],
          [
           97469.99
          ],
          [
           178607.18
          ],
          [
           54235.15
          ],
          [
           51105.88
          ],
          [
           115910.26
          ],
          [
           79029.72
          ],
          [
           71143.62
          ],
          [
           91169.23
          ],
          [
           44178.77
          ],
          [
           152790.8
          ],
          [
           121207.64
          ],
          [
           47417.83
          ],
          [
           104319.23
          ],
          [
           57884.47
          ],
          [
           121207.64
          ],
          [
           200256.11
          ],
          [
           52605.29
          ],
          [
           44794.13
          ],
          [
           84313.09
          ],
          [
           236091.42
          ],
          [
           85878.96
          ],
          [
           59535.72
          ],
          [
           81664.04
          ],
          [
           53666.55
          ],
          [
           224339.55
          ],
          [
           67438.69
          ],
          [
           80083.45
          ],
          [
           62696.91
          ],
          [
           46627.53
          ],
          [
           42941.43
          ],
          [
           41095.45
          ],
          [
           80015.91
          ],
          [
           263432.41
          ],
          [
           85668.22
          ],
          [
           55847.67
          ],
          [
           229240.55
          ],
          [
           121178.91
          ],
          [
           67438.69
          ],
          [
           63238.77
          ],
          [
           127584.22
          ],
          [
           57955.13
          ],
          [
           99601.06
          ],
          [
           165467.83
          ],
          [
           77994.48
          ],
          [
           52686.48
          ],
          [
           94203.43
          ],
          [
           187037.01
          ],
          [
           81683.41
          ],
          [
           163064.66
          ],
          [
           55333.92
          ],
          [
           193359.39
          ],
          [
           158096.93
          ],
          [
           72865.4
          ],
          [
           36090.24
          ],
          [
           45447.36
          ],
          [
           167543.01
          ],
          [
           183875.82
          ],
          [
           35299.94
          ],
          [
           55320.8
          ],
          [
           70757.94
          ],
          [
           115910.26
          ],
          [
           289775.66
          ],
          [
           110969.16
          ],
          [
           173906.62
          ],
          [
           44256.64
          ],
          [
           118544.58
          ],
          [
           159320.71
          ],
          [
           63223.78
          ],
          [
           252895.12
          ],
          [
           37934.26
          ],
          [
           92201.34
          ],
          [
           157690.64
          ],
          [
           43729.78
          ],
          [
           84845.35
          ],
          [
           43202.91
          ],
          [
           57968.87
          ],
          [
           316118.9
          ],
          [
           91632.19
          ],
          [
           88513.29
          ],
          [
           65120.49
          ],
          [
           92223.21
          ],
          [
           44783.51
          ],
          [
           71653.61
          ],
          [
           105372.96
          ],
          [
           63223.78
          ],
          [
           36260.68
          ],
          [
           44794.13
          ],
          [
           121863.83
          ],
          [
           105372.96
          ],
          [
           51632.75
          ],
          [
           121178.91
          ],
          [
           47417.83
          ],
          [
           39524.23
          ],
          [
           245050.24
          ],
          [
           110667.85
          ]
         ],
         "hovertemplate": "lat=%{lat}<br>lon=%{lon}<br>price_usd=%{customdata[0]}<extra></extra>",
         "lat": [
          19.560181,
          25.6884355,
          16.767704,
          16.829782,
          21.0525830247,
          20.7163149,
          18.8126047,
          16.769737,
          19.305407331,
          18.804197,
          16.775165,
          21.0483333,
          19.560181,
          18.0140820847,
          19.390748,
          21.3371507411,
          19.337652,
          21.518174,
          18.855343,
          19.0248763,
          19.403334,
          19.428152,
          18.991881,
          25.624891,
          20.997143,
          23.239141,
          19.430141,
          19.538595,
          21.030668,
          17.8931239971,
          16.717077,
          22.3261979,
          21.0231861,
          19.39365,
          25.569582,
          25.581369,
          19.0412967,
          19.390301,
          19.101803,
          19.026517,
          23.634501,
          21.075163,
          19.3605334,
          19.351369,
          19.412142,
          18.987232,
          19.715134,
          19.374069,
          22.133745,
          18.804197,
          21.0294432,
          24.8093254,
          19.33923,
          32.493049,
          20.1254846,
          18.960244,
          23.634501,
          19.5380802461,
          21.129547,
          25.5683841,
          22.217112,
          16.860338,
          19.109509,
          16.771518,
          23.634501,
          21.0307114,
          20.6536084,
          19.650003,
          25.708134,
          25.751371,
          19.351371,
          19.298899,
          25.581989,
          26.074236,
          21.1504824698,
          20.785506,
          19.374421,
          20.99947,
          19.533243,
          20.705742,
          29.058504,
          18.99466,
          24.754314,
          19.544106,
          28.6329957,
          20.992149142,
          22.141575,
          19.499857,
          19.381729,
          18.942068,
          19.087196,
          19.1616453,
          18.989595,
          18.917542,
          20.9993534,
          24.1499447277,
          19.384533,
          19.317922,
          19.696592,
          19.3825040623,
          19.401819,
          18.998509,
          22.1418,
          21.072905,
          25.6318511,
          19.283869,
          20.532827,
          18.918608,
          20.649012,
          21.030668,
          23.634501,
          19.380937,
          19.559799,
          21.072905,
          19.367215,
          19.044477,
          18.134026,
          25.572505,
          19.290517,
          20.788616,
          25.6526883,
          25.680067,
          19.305643,
          19.684991,
          21.008295,
          16.8572859,
          22.093321,
          23.634501,
          22.1387477,
          19.428043,
          20.059217,
          21.292982,
          18.903454,
          19.411699,
          18.8917916491,
          21.0424858,
          20.711874,
          19.428152,
          19.234822,
          19.558449,
          28.652079,
          25.707024,
          21.878481,
          19.155567,
          20.0568798423,
          25.634661,
          19.367931,
          19.360526,
          19.464398,
          19.01195,
          21.2929822,
          19.351396,
          18.93409,
          20.6990975,
          21.030668,
          20.996355,
          18.983141,
          19.2826098,
          22.4107891,
          18.263374,
          19.396669,
          21.039522,
          19.545097,
          19.054064,
          19.62378,
          23.240411,
          19.452331,
          21.129547,
          19.342083,
          25.702822,
          19.563358,
          19.205341,
          21.0424858,
          16.829584,
          20.726007,
          23.634501,
          19.395069,
          19.400004,
          17.979631,
          20.5887932,
          21.006756,
          21.013465,
          19.671066,
          18.1495073,
          25.7418083,
          20.968147,
          22.2621259,
          20.767952,
          18.795519,
          19.449392,
          21.1564082129,
          22.3160889,
          19.486255,
          19.36594,
          19.146434,
          21.035221,
          16.8643286803,
          20.726007,
          23.261934,
          21.139086,
          25.535524,
          21.0043658,
          19.364613,
          19.366505,
          20.6521079,
          21.0350497573,
          19.354947,
          21.008295,
          20.6476044,
          21.030668,
          19.371317,
          19.1356101,
          19.377169,
          19.381591,
          21.039522,
          20.755833,
          19.27223,
          19.191416,
          22.121187,
          17.987557,
          19.4653884,
          18.8493694,
          21.0529434814,
          18.942068,
          16.808875,
          19.531773,
          25.860595,
          21.1666103,
          18.882006,
          19.002178,
          19.425918,
          18.8736789,
          22.186096,
          21.075163,
          18.984862,
          19.3650311,
          18.917393,
          19.399375,
          32.5622552,
          19.452689,
          19.336104,
          23.634501,
          20.567506,
          20.722561,
          19.3987957,
          22.1176282971,
          21.006756,
          25.510739,
          22.2695545,
          19.3308425,
          19.2398293,
          19.4689569,
          18.917542,
          17.9728054562,
          25.79255,
          19.3928136,
          24.804811,
          21.905983,
          18.900945,
          22.2900902,
          19.375374,
          25.660711,
          19.0206582554,
          20.9608384839,
          19.409369,
          25.7584835,
          25.712547,
          21.0511962595,
          19.0927640219,
          20.792152,
          21.121012,
          22.1830772497,
          19.404032,
          18.814863,
          19.368544,
          19.0550344,
          21.0430781672,
          19.699144,
          19.341894,
          20.596285,
          19.035632,
          19.0217424,
          19.987465,
          18.957352,
          18.845494,
          19.366901,
          22.1840801528,
          19.615452,
          19.590134,
          19.473907,
          22.149093,
          19.641889,
          19.089373,
          20.606224,
          21.001256,
          25.7302897,
          19.004742,
          18.920158,
          18.916586,
          19.063091,
          19.371321,
          19.0378006,
          19.362824,
          16.780325,
          21.039522,
          19.465454,
          20.700756,
          22.886851,
          20.549404,
          19.353288,
          19.278994,
          18.985191,
          20.67603,
          16.8763009074,
          21.525436,
          16.748743,
          19.432657,
          20.618279,
          19.72876,
          25.51506,
          20.419854,
          18.804197,
          22.133104,
          19.400249,
          21.03071,
          20.649154,
          32.426032,
          26.058614,
          25.599048,
          24.129181,
          22.238298,
          19.046561,
          19.451872,
          19.253367,
          29.0287123,
          19.4556947061,
          20.7670434,
          19.336195,
          22.1564699,
          21.0634817,
          21.135925,
          20.547818,
          18.954132,
          21.152508,
          18.882725,
          17.97423,
          16.740764,
          25.764894,
          20.60782,
          19.469688,
          19.2711236877,
          20.723133,
          16.76764,
          20.9673702,
          21.017197,
          18.862602,
          19.123617,
          19.355938,
          19.35913,
          20.989016,
          25.453195,
          20.938659,
          22.270658,
          16.78141,
          19.691938,
          19.64079,
          19.011347,
          20.647029,
          18.905066,
          19.0668128782,
          20.705742,
          19.54323,
          24.8090649,
          25.872879,
          19.373264,
          19.383952,
          16.757278,
          22.320061,
          20.5834364154,
          19.396018,
          19.646418,
          19.5896123,
          20.631845,
          24.083153,
          19.144342,
          19.272027,
          20.1010608,
          18.1495449022,
          19.333901,
          19.390031,
          25.781807,
          20.7012562,
          19.365834,
          20.9637793,
          19.404701,
          18.879525,
          18.978682,
          20.6205869,
          25.654263,
          19.180459,
          24.010702,
          19.474655,
          20.65449,
          25.569556,
          18.813505,
          21.118165,
          17.972448,
          19.165146,
          19.3499358,
          19.402713,
          18.948109,
          20.5887932,
          19.406592,
          25.677525,
          19.318989,
          20.712143,
          21.01429,
          19.532306,
          19.173773,
          19.139896,
          32.665619,
          22.270658,
          21.021821,
          20.5887932,
          19.142568,
          18.970675,
          18.813505,
          27.492618,
          20.65593,
          24.143626,
          16.841759,
          19.125867,
          23.634501,
          20.6081524999,
          21.029198,
          18.927336,
          25.439677,
          19.472481,
          19.514382,
          19.325355,
          21.072905,
          22.14691,
          18.879347,
          18.0341023227,
          23.634501,
          18.921051,
          19.014643,
          18.858107,
          18.945309,
          21.0381057,
          19.474655,
          21.072905,
          25.531834,
          25.651072,
          19.499864,
          19.555771,
          22.157743,
          25.6769684,
          22.1470009295,
          16.85678,
          19.424913,
          19.5496674785,
          16.867283,
          18.811808,
          19.396502,
          21.017197,
          20.0649913245,
          22.266645,
          18.948179,
          21.3421022,
          19.044477,
          28.6556674,
          19.2826778,
          19.48888,
          16.732222,
          23.634501,
          21.0381057,
          16.801018,
          19.6850991,
          18.9212022,
          21.030668,
          18.9678552823,
          25.723516,
          21.0151423,
          21.1359373912,
          18.891859,
          23.261248,
          19.364891,
          19.426528,
          19.369319,
          16.745249,
          19.434723,
          19.449392,
          19.55134,
          20.607178,
          22.1648322115,
          22.1664458833,
          16.771928,
          22.246319,
          19.365175,
          19.379597,
          19.312792,
          23.634501,
          21.039522,
          22.175159,
          19.1105571397,
          19.64443,
          25.502705,
          25.461545,
          19.478815,
          20.611304,
          19.178049,
          20.955351,
          29.07683,
          23.634501,
          21.039522,
          25.7431730317,
          18.9701939816,
          21.8893042472,
          19.298168,
          16.734992,
          25.701321,
          21.88585,
          20.618633,
          25.6738201627,
          18.942068,
          20.700323,
          25.558393,
          25.580088,
          23.283125,
          16.752182,
          19.3880398,
          22.14691,
          18.936026,
          19.328833,
          19.455385,
          19.071239,
          19.501955,
          18.866121,
          20.726007,
          21.075163,
          19.435802,
          20.9731555,
          19.159458,
          19.0412967,
          24.817956,
          23.299184,
          19.36243,
          19.390062,
          25.7581963,
          20.556261,
          16.744808,
          21.0259468647,
          21.1500747207,
          16.734121,
          20.705742,
          19.400731,
          19.33923,
          19.365383,
          21.030668,
          18.864874,
          19.463009,
          21.3085667381,
          19.33427,
          19.499434,
          19.380937,
          21.006866,
          19.109777,
          32.459403,
          19.101185,
          20.394361,
          21.065001,
          20.646841,
          18.897581,
          21.072905,
          18.917542,
          20.948336,
          19.396018,
          19.051815,
          19.309208,
          21.0506531,
          21.3437962237,
          20.587378,
          25.721081,
          23.634501,
          19.2720402,
          22.1388821177,
          19.394558,
          19.1680666,
          19.3261962968,
          21.0552216,
          28.691416,
          20.641428,
          22.126078,
          19.0364236166,
          19.367239,
          16.851935,
          19.153019,
          25.7501328883,
          19.536253,
          19.673779,
          32.4690603,
          21.030771,
          16.717077,
          18.813908,
          19.473001,
          21.072905,
          20.618279,
          21.075163,
          16.8659727494,
          25.582705,
          21.017197,
          20.036614,
          21.0399331,
          18.893921,
          25.545829,
          21.139086,
          19.681248,
          19.271467,
          19.724886,
          19.420156,
          20.684505,
          18.984862,
          19.289286,
          22.150696,
          19.444924,
          18.017324,
          19.014643,
          22.258686,
          19.378482,
          18.93409,
          21.0315095,
          21.072905,
          18.923538,
          20.681293,
          18.821062,
          16.8531086,
          19.049024,
          22.3400533557,
          18.862602,
          21.018724,
          20.569456,
          19.3934457,
          19.436024,
          19.378009,
          19.416294,
          18.859078,
          20.692161,
          20.394361,
          32.453504,
          23.634501,
          19.619862,
          20.059035,
          19.468129,
          21.0424858,
          16.758369,
          25.6315927,
          21.1595877395,
          16.860338,
          16.8665658191,
          20.685983,
          21.0751632,
          19.376822,
          19.0303511,
          19.433274,
          19.394358,
          21.039522,
          18.8954874,
          18.984862,
          21.072905,
          18.813908,
          20.424117,
          21.0381057,
          19.2828302502,
          28.6464221,
          19.5652097,
          19.284855,
          20.70506,
          19.2753576,
          19.137135,
          20.675995,
          22.3151894,
          19.436404,
          21.095711,
          32.509445,
          20.616705,
          23.215713,
          21.039522,
          21.072905,
          21.072905,
          21.015982,
          22.125907517,
          20.547674,
          20.677448,
          20.9638852,
          19.4034054,
          20.3951106,
          19.536936,
          19.453142,
          19.1496682663,
          19.3434214,
          20.099826,
          19.473623,
          20.5835963,
          23.634501,
          20.5878757635,
          19.232695,
          32.440475,
          19.513165,
          23.634501,
          28.6983446,
          24.770091,
          26.078394,
          28.9547958912,
          25.626854,
          20.662301,
          21.0498059839,
          16.740425,
          19.395097,
          18.960824,
          20.7037,
          28.64073,
          19.305233,
          19.379597,
          19.2618397109,
          19.2753576,
          25.553129,
          18.93409,
          19.346687,
          16.838398,
          19.482168,
          24.8427771,
          21.101317,
          21.164147,
          25.647146,
          25.6442345726,
          29.0904798,
          24.1596323322,
          20.784784,
          22.2465535,
          19.569101,
          21.039522,
          20.555649,
          19.405298,
          19.258038,
          18.823669,
          19.377171,
          21.017197,
          18.892714,
          19.636706,
          21.039522,
          18.134026,
          21.0767191798,
          19.401509,
          18.072582,
          21.072905,
          22.247913,
          22.148722,
          32.494743,
          22.1897892283,
          18.962954561,
          18.8859084,
          28.643902,
          19.347683,
          19.375374,
          19.52395,
          16.757619,
          21.075163,
          19.02038,
          21.9243493,
          21.1351429,
          19.39365,
          25.733049,
          24.141701,
          20.579091,
          25.731798,
          19.672207,
          19.401066,
          21.00227,
          20.680066,
          16.864830635,
          20.760167,
          21.0283803657,
          19.341597,
          25.596904,
          19.665554,
          19.650003,
          25.7708161,
          22.2331041,
          25.723276,
          19.044477,
          19.562922,
          25.580088,
          19.055344,
          23.634501,
          19.34189,
          19.404718,
          20.675023,
          19.532259,
          22.313122,
          22.2927530261,
          18.864874,
          20.726007,
          20.7204378,
          19.1368849,
          19.291351,
          18.9242095,
          21.152496,
          19.027103,
          25.56551,
          18.813505,
          21.039522,
          18.804409,
          25.584658,
          19.225745,
          20.763189,
          19.383512,
          20.6460186,
          19.367025,
          20.604974,
          21.93248,
          22.133745,
          19.054064,
          19.0303511,
          18.947784,
          19.3418937,
          20.963127,
          19.550089,
          22.307415,
          18.8879389,
          21.030668,
          19.1028372114,
          19.353592,
          21.0114451792,
          19.263756,
          19.415097,
          19.471368,
          19.125807,
          19.414261,
          32.469454,
          19.5224961,
          21.039522,
          20.6295586,
          19.17078,
          16.756552,
          20.5745579,
          20.62192,
          21.0633485156,
          25.749624,
          19.036623,
          19.358008,
          19.701565,
          19.415143,
          18.1479784,
          16.794599,
          20.594322,
          18.919898,
          19.074387,
          16.758724,
          19.650003,
          19.72876,
          23.634501,
          20.999449,
          21.0411724,
          19.105051,
          21.0381057,
          19.136782,
          32.63496,
          21.039522,
          25.535009,
          20.7053975,
          25.659972,
          22.2722052,
          18.867191,
          20.6962084,
          19.285162,
          19.497893,
          23.634501,
          23.634501,
          20.389062,
          16.828667,
          20.705742,
          19.35782,
          18.864874,
          19.342911,
          23.634501,
          29.063726,
          25.801826,
          20.5951924,
          19.059084,
          23.634501,
          20.726007,
          21.0278699,
          18.9147310938,
          20.968147,
          25.674595,
          21.039522,
          18.850763,
          20.726007,
          19.056689,
          22.270658,
          20.748312,
          20.614635,
          22.1529880008,
          21.039522,
          25.723516,
          19.563767,
          19.474885,
          18.8624622,
          19.508698,
          20.968791,
          19.3735635,
          22.2453265,
          19.303392,
          16.794434,
          22.300137,
          20.749051,
          26.847851,
          23.634501,
          19.02038,
          20.0519991,
          21.0634817,
          19.399652,
          24.043295,
          25.551631,
          20.574251,
          19.482603,
          18.953268,
          18.891611,
          22.1441622,
          19.2693686,
          21.0749983,
          18.462721,
          19.595285,
          27.934649,
          24.7911916858,
          19.500286,
          21.072905,
          19.4171734,
          21.008295,
          18.864482,
          19.366935,
          23.634501,
          16.757278,
          20.697244,
          19.02038,
          21.1773896,
          16.855229,
          17.97423,
          19.313719,
          25.5897299138,
          21.161908,
          21.03071,
          19.39912,
          21.0563227206,
          19.5139313,
          20.598278,
          23.270559,
          23.634501,
          16.8595223103,
          18.884224,
          18.862602,
          19.40012,
          25.55617,
          25.573046,
          18.858107,
          28.6569304,
          28.684125,
          22.254078,
          16.766455,
          20.545198,
          22.1877427607,
          18.864874,
          22.133104,
          26.079573,
          19.127317,
          19.340305,
          19.517476,
          19.552838,
          19.3574317235,
          19.69323,
          19.325944,
          20.621093,
          32.647057,
          22.141575,
          18.978682,
          20.619887,
          18.892714,
          22.329824,
          19.322523,
          16.70635,
          19.297163,
          20.950622658,
          20.9725515,
          19.317675,
          18.879347,
          25.625198,
          19.401507,
          19.474285,
          18.928623,
          20.520556,
          25.662563,
          23.246303,
          18.969294,
          16.7506391062,
          19.335116,
          19.402944,
          19.682219,
          25.7214602,
          20.5980665,
          25.672399,
          19.399815,
          20.9550515,
          16.228815,
          20.69064,
          19.258327,
          20.726007,
          19.403334,
          32.451368,
          21.901482,
          20.302476,
          19.076204,
          19.48778,
          19.3176966,
          21.129547,
          19.046724,
          19.352431,
          18.858107,
          20.6536084,
          25.7542524,
          21.006756,
          18.891621,
          19.317653,
          22.246319,
          23.634501,
          19.3651763,
          20.593055,
          25.6910283,
          20.594706,
          23.634501,
          18.989918,
          19.043993,
          20.1213329,
          20.733392,
          19.400249,
          21.023252,
          20.124367,
          25.510947,
          19.480501,
          21.030668,
          20.679045,
          21.9633957,
          32.469498,
          22.329824,
          21.039522,
          19.701769,
          16.870413,
          19.765149,
          19.372248,
          19.280767,
          19.389791,
          21.039522,
          19.668947,
          19.009069,
          32.494823,
          19.314545,
          22.1447396,
          20.64338,
          30.733356,
          19.553615,
          19.405298,
          20.5969621,
          23.634501,
          19.34016,
          21.075163,
          22.257896,
          16.8531086,
          19.027384,
          19.309069,
          23.20485,
          28.631943,
          21.0399331,
          16.8808724,
          24.125583,
          19.269808,
          19.41498,
          20.996355,
          18.954132,
          19.494789,
          17.6474239,
          19.2666119,
          21.161908,
          19.377171,
          19.2790911,
          20.660534,
          20.95618,
          22.141575,
          19.443178,
          21.0525830247,
          19.621174,
          18.915431,
          17.962037,
          19.3010279716,
          20.949051,
          19.627731,
          24.0390214553,
          21.112447,
          19.451872,
          18.913485,
          18.840925,
          19.3819271,
          25.558637,
          20.764135,
          19.385989,
          28.6329957,
          18.996482,
          19.401507,
          20.726007,
          18.795519,
          18.885848,
          20.403807,
          22.134478,
          19.5562275,
          20.726007,
          25.757803,
          22.1593377,
          20.726007,
          19.475765,
          20.6490506,
          19.060701,
          25.365447,
          23.634501,
          32.589504,
          19.383952,
          18.97302,
          24.1647821422,
          21.072905,
          25.758963,
          19.0378006,
          19.3870644,
          19.5329337,
          19.29712,
          23.634501,
          20.7070670337,
          19.046589,
          25.7394971,
          19.100079,
          22.147087,
          21.1264477,
          18.917542,
          19.472128,
          19.234984,
          18.9187144,
          21.075163,
          19.52589,
          19.2640539,
          19.268629,
          19.511938,
          20.689157,
          21.0441317,
          21.129547,
          21.003574,
          19.667873,
          19.443178,
          19.396593,
          21.1299039,
          25.625994,
          19.524143,
          19.386959,
          20.949741,
          18.920345,
          16.863794,
          19.136782,
          19.403334,
          21.0411724,
          25.441315,
          32.425724,
          19.484794,
          19.378533,
          25.740887,
          16.769737,
          20.650429,
          19.387613,
          18.890867,
          21.139086,
          19.413079,
          19.410826,
          18.900852,
          19.428767,
          19.595285,
          19.531834,
          18.818652,
          23.634501,
          21.137991,
          18.7696195,
          22.169217188,
          23.634501,
          19.101794,
          19.517859,
          19.2790911,
          15.752900306,
          19.302422,
          19.343664,
          16.868438,
          18.93409,
          19.534415,
          19.043223,
          19.0527224248,
          18.981213,
          19.395097,
          18.862602,
          20.594334,
          18.9915056,
          22.125832,
          25.592172,
          19.295469,
          20.703063,
          19.670241,
          20.9591553064,
          20.635013,
          19.673779,
          17.997911,
          19.508253,
          18.937398,
          32.486253,
          18.9802279987,
          20.5969621,
          21.0181429,
          28.6275048,
          20.723525,
          20.729762,
          18.7696195,
          19.410632,
          19.672207,
          28.6103324259,
          23.634501,
          17.928942,
          20.572651,
          19.1553371,
          20.957177,
          25.7815621,
          21.039522,
          20.543838,
          19.1564195,
          19.275725,
          18.90666,
          19.342083,
          20.570164,
          18.926468,
          19.368553,
          20.5828187131,
          19.427607,
          16.770111,
          19.460046,
          18.9015371,
          16.748295,
          20.5198184,
          18.890867,
          19.682383,
          20.582091,
          19.0733273,
          21.161908,
          18.949474,
          18.795519,
          25.484016,
          20.536322,
          19.343424,
          19.274727,
          20.5412697,
          25.7296370244,
          18.835054,
          19.368475,
          19.285891,
          19.392302,
          19.2925929444,
          20.5426931,
          19.0652948,
          20.6129,
          18.983398,
          19.657836,
          21.03071,
          19.710472,
          19.476202,
          28.663404,
          20.726262,
          19.137135,
          19.5224623443,
          20.696185,
          20.092012,
          32.601212,
          16.765467,
          21.039522,
          18.989942,
          18.898756,
          19.119549,
          19.353288,
          22.1385005078,
          29.083198,
          19.044477,
          19.510133,
          18.850763,
          25.758372724,
          20.726007,
          19.5562275,
          19.345528,
          18.935198,
          19.03362,
          19.229864,
          21.039522,
          18.936026,
          18.053865,
          20.9968241,
          20.984423,
          18.864874,
          19.40112,
          20.705742,
          24.813503,
          18.935198,
          21.012869,
          21.1672703,
          18.948607,
          18.95299,
          18.8816687,
          20.5884382058,
          20.9973786,
          19.33923,
          16.766967,
          28.631689,
          20.58966,
          18.862602,
          20.59808,
          21.1789333275,
          25.6689477,
          16.862803,
          23.296583,
          21.0012449,
          19.666832,
          25.668703,
          20.663444,
          19.521015,
          23.286216,
          19.422676,
          19.6378074,
          20.084376,
          18.850763,
          19.300923,
          19.444723,
          19.403597,
          19.66869,
          32.486292,
          20.705671,
          16.8583631,
          19.1005941575,
          19.479437,
          18.981213,
          20.624242,
          19.508253,
          19.533955,
          19.394073,
          18.878128,
          20.5862687746,
          18.961286,
          20.628052,
          18.660893,
          19.0652948,
          22.285725,
          19.305984,
          19.361792,
          22.1877626295,
          20.726007,
          19.417636,
          19.570101,
          18.885313,
          22.148722,
          18.985688,
          19.427053,
          19.446256,
          21.4581695,
          19.333974,
          19.379597,
          22.139618,
          19.552184,
          20.5365909,
          19.445032,
          19.54235,
          19.377404,
          16.858816,
          23.231522,
          21.006756,
          16.850374,
          18.141083,
          18.989918,
          25.540674,
          21.039522,
          19.336697,
          20.697427,
          19.451872,
          19.262129,
          19.2790911,
          20.647398,
          23.634501,
          20.5887932,
          19.028651,
          19.493713,
          19.11819,
          18.147928788,
          19.4907003,
          25.672309,
          19.542509,
          19.671952,
          19.297108,
          32.421957,
          18.855343,
          18.939657,
          19.345431,
          25.660103,
          19.564925,
          25.652299,
          19.452665,
          16.869995,
          16.768602,
          23.634501,
          19.317622,
          16.850374,
          21.0306572,
          19.359798,
          19.3434226,
          19.4503249,
          22.3918646281,
          19.307417,
          24.0277202,
          19.374843,
          22.1352302,
          25.577366,
          19.517859,
          20.605692,
          22.158050728,
          18.847519,
          19.119549,
          19.301835,
          16.756552,
          18.813505,
          19.8301251,
          20.592563,
          20.044181,
          19.396893,
          20.615292,
          21.202881,
          21.0315095,
          19.33981,
          25.6773984,
          21.0344135,
          18.936026,
          20.607178,
          19.470298,
          19.522923,
          20.570164,
          18.1477847816,
          19.399741,
          19.282308,
          19.634604,
          18.904448,
          19.456544,
          20.726007,
          20.548123,
          19.396705,
          20.6543981,
          16.766762,
          18.954132,
          25.696475,
          19.270165,
          23.634501,
          19.39912,
          19.229864,
          19.376589,
          21.072905,
          19.044477,
          19.6494549,
          19.60537,
          17.999552,
          19.1090862,
          18.910368,
          20.775549,
          25.7671943,
          24.168865,
          32.457415,
          20.726007,
          17.0588513685,
          19.550762,
          21.0412206815,
          19.373161,
          18.917542,
          25.657194,
          18.94542,
          20.6113606,
          16.773806,
          19.493973,
          20.626583,
          25.651072,
          19.362795,
          20.631845,
          25.637247,
          21.138567,
          16.874741,
          19.395097,
          19.478815,
          19.554081,
          22.276130897,
          18.9611008,
          19.51918,
          21.03071,
          19.671921,
          19.514929,
          19.295469,
          19.488134,
          19.326108,
          29.105133,
          19.711031,
          25.5883667,
          24.155968,
          19.483263,
          19.404718,
          28.678531,
          21.0064261,
          23.634501,
          19.580685,
          20.571299,
          20.9904342,
          18.953518,
          25.686357,
          32.494759,
          20.7540020174,
          19.562864,
          20.5285264774,
          22.133745,
          19.299864,
          19.493069,
          20.6536084,
          19.384724,
          20.883594,
          25.6866142,
          18.804197,
          20.7047931,
          19.589786878,
          18.972588,
          25.530777,
          20.593385,
          19.017727,
          19.454332,
          21.139086,
          19.2030655,
          23.290356,
          19.277207,
          25.7393693814,
          18.901708,
          19.368808,
          21.0369774162,
          23.634501,
          19.38342,
          18.93409,
          19.380834,
          18.886955,
          25.679226,
          19.413009,
          19.410215,
          19.367424,
          22.0951835008,
          19.298168,
          19.5652097,
          19.5527338,
          21.0634817,
          22.285725,
          20.5230129,
          19.440043,
          25.439536,
          22.144705,
          20.9959805028,
          22.3286560021,
          18.858107,
          19.0530826,
          18.883513,
          18.933414,
          18.935198,
          25.7385463,
          19.41275,
          19.364891,
          19.272732,
          19.490576,
          20.5535753,
          20.572051,
          32.457469,
          19.353373,
          21.039522,
          20.2959587,
          20.379178,
          18.804409,
          20.5958037462,
          22.272678,
          22.309216,
          18.808657,
          20.712604,
          25.6626225,
          19.059084,
          21.89658,
          19.8308743,
          19.491798,
          19.508428,
          28.70466,
          19.454332,
          19.077675,
          23.634501,
          18.922282,
          16.742777,
          20.945961,
          22.193162,
          19.119549,
          19.4953683665,
          21.139641,
          20.659601,
          21.3103259143,
          19.393257,
          21.072905,
          20.9475017,
          25.721457,
          19.406092,
          22.125832,
          21.023252,
          19.31673,
          20.647322,
          19.7100885,
          19.462951,
          21.072905,
          22.3140373,
          20.547053,
          19.308845,
          16.745515,
          19.704245,
          25.525183,
          22.136711,
          21.039522,
          18.831146,
          20.558271,
          21.178095,
          19.403794,
          20.543869,
          19.343424,
          19.532236,
          20.755376,
          21.008295,
          19.382649,
          23.634501,
          22.268972,
          16.856389,
          19.1279472004,
          19.076612,
          20.391528,
          21.1661723,
          32.46906,
          21.0634817,
          23.634501,
          20.745667,
          22.292006,
          19.061148,
          18.969536,
          19.300028,
          20.999418,
          19.401507,
          19.663315,
          21.030668,
          19.255166,
          18.743973,
          21.037875,
          21.1495343889,
          18.951663,
          19.381078,
          24.8225157463,
          19.522923,
          20.693433,
          19.545727,
          28.672886,
          20.9144491,
          23.634501,
          20.618279,
          22.193523,
          21.030771,
          16.747116,
          19.276849,
          21.082655,
          19.3845016369,
          19.446829,
          20.99947,
          21.99782,
          25.714615,
          19.286575,
          24.024288,
          19.537234,
          19.343042,
          20.594322,
          20.66976,
          23.256596,
          19.524088,
          27.492267,
          19.394358,
          25.7075214,
          28.6329957,
          22.286442,
          18.926889,
          19.287568,
          18.835637,
          25.723516,
          19.750508,
          19.058884,
          19.477827,
          18.963312,
          19.393656,
          19.607218,
          19.1617587,
          16.7795417527,
          21.0411724,
          18.00557,
          19.441809,
          20.124367,
          20.9673656268,
          19.391819,
          19.375412,
          23.634501,
          19.496076,
          24.8053549677,
          19.309196,
          18.842861,
          25.51485,
          20.532264,
          18.9289862,
          21.0284038368,
          22.11830417,
          19.233201
         ],
         "legendgroup": "",
         "lon": [
          -99.233528,
          -100.1988071,
          -99.764383,
          -99.911012,
          -89.5386385918,
          -100.4525027,
          -98.9548261,
          -93.088928,
          -99.646948278,
          -98.932816,
          -99.789939,
          -89.6780555,
          -99.233528,
          -92.896399498,
          -99.158695,
          -89.3226885796,
          -99.2233268,
          -104.9074948,
          -99.241142,
          -98.1945109,
          -99.157755,
          -99.106194,
          -98.275275,
          -103.397214,
          -89.601028,
          -106.412613,
          -99.172536,
          -99.180214,
          -89.599258,
          -92.9212732315,
          -93.162903,
          -97.8885244,
          -89.5863038,
          -99.14769,
          -103.33239,
          -103.377648,
          -98.2061996,
          -99.11161,
          -96.163884,
          -98.214364,
          -102.552788,
          -89.516731,
          -99.2267067,
          -99.248993,
          -99.146127,
          -98.206947,
          -99.214828,
          -99.01932,
          -101.016029,
          -98.932816,
          -89.6322061,
          -107.4692179,
          -99.218987,
          -116.907481,
          -98.7362998,
          -99.212962,
          -102.552788,
          -99.2384793394,
          -86.817017,
          -100.2439723,
          -97.854477,
          -99.870399,
          -96.111477,
          -99.772466,
          -102.552788,
          -89.6181018,
          -100.3469826,
          -99.220367,
          -100.145821,
          -100.238281,
          -99.161529,
          -99.208048,
          -103.378005,
          -98.349915,
          -86.8156854808,
          -103.442286,
          -99.13907,
          -89.642815,
          -99.227295,
          -100.444016,
          -110.978981,
          -98.2761016,
          -107.402241,
          -99.112656,
          -106.0691004,
          -89.5655331016,
          -100.900192,
          -99.097517,
          -99.164986,
          -99.242531,
          -98.288637,
          -96.154687,
          -98.203529,
          -98.963181,
          -89.5910162,
          -110.3169306368,
          -99.183172,
          -99.236124,
          -99.231445,
          -99.1580399126,
          -99.184615,
          -98.179484,
          -101.027344,
          -89.65963,
          -100.170963,
          -99.588992,
          -103.483829,
          -98.941094,
          -103.448288,
          -89.599258,
          -102.552788,
          -99.179545,
          -99.233795,
          -89.65963,
          -99.222138,
          -98.328011,
          -94.476112,
          -103.425036,
          -99.694921,
          -103.435217,
          -100.4122654,
          -100.458626,
          -98.901535,
          -99.225298,
          -89.591019,
          -99.9089643,
          -100.895958,
          -102.552788,
          -101.0181525,
          -99.227384,
          -98.790423,
          -89.603973,
          -99.056687,
          -99.166247,
          -99.2227220535,
          -89.5568382,
          -100.448934,
          -99.106194,
          -99.559659,
          -99.22973,
          -106.109581,
          -100.21376,
          -102.332787,
          -96.13928,
          -98.7653755526,
          -100.295769,
          -99.170262,
          -99.301674,
          -99.113317,
          -98.219383,
          -89.6039725,
          -99.130999,
          -99.254997,
          -100.4705682,
          -89.599258,
          -89.583946,
          -98.265739,
          -99.6556653,
          -97.9342897,
          -93.179222,
          -99.067626,
          -89.563911,
          -99.21289,
          -98.245911,
          -99.199085,
          -106.432565,
          -99.177162,
          -86.817017,
          -99.0532159,
          -100.304192,
          -96.939697,
          -96.197784,
          -89.5568382,
          -99.9083,
          -100.442642,
          -102.552788,
          -99.204927,
          -99.16735,
          -92.965249,
          -100.3898881,
          -89.570984,
          -89.591041,
          -101.213341,
          -94.4422,
          -100.4057781,
          -89.629875,
          -97.8238578,
          -103.40899,
          -99.231445,
          -99.138544,
          -86.8488141149,
          -97.8884841,
          -99.214043,
          -99.163153,
          -96.161783,
          -89.635757,
          -99.8879082142,
          -100.442642,
          -106.408936,
          -86.84964,
          -103.379302,
          -89.5614233,
          -99.161892,
          -99.222297,
          -100.3491545,
          -89.5990741253,
          -99.087529,
          -89.591019,
          -100.35253,
          -89.599258,
          -99.140957,
          -96.1142685,
          -99.187643,
          -99.165397,
          -89.563911,
          -103.413251,
          -99.575691,
          -96.127518,
          -100.951736,
          -92.929147,
          -99.5940417,
          -98.9479805,
          -89.6679210663,
          -99.242531,
          -99.821739,
          -99.245873,
          -97.504808,
          -101.6315416,
          -99.148384,
          -98.271063,
          -99.230123,
          -99.1922665,
          -101.005652,
          -89.516731,
          -98.222234,
          -99.1477363,
          -99.221062,
          -99.149986,
          -115.3169575,
          -99.117987,
          -99.101761,
          -102.552788,
          -103.48332,
          -105.270132,
          -99.1594498,
          -101.015124321,
          -89.570984,
          -103.357425,
          -97.8750355,
          -99.5817205,
          -99.617673,
          -99.2727792,
          -98.963181,
          -92.9515487516,
          -100.274638,
          -99.1738213,
          -107.46476,
          -102.286817,
          -99.232574,
          -97.8437788,
          -99.137657,
          -100.289459,
          -98.2238459587,
          -89.6215687395,
          -99.171906,
          -100.4052434,
          -100.249496,
          -89.5385822654,
          -98.2267805468,
          -103.475021,
          -101.600136,
          -101.0302325338,
          -99.179694,
          -99.211439,
          -99.163605,
          -98.2731403,
          -89.551603049,
          -98.978363,
          -99.224525,
          -100.357695,
          -98.223132,
          -98.2604216,
          -102.284888,
          -99.260544,
          -99.20547,
          -99.297272,
          -101.0286072441,
          -99.206348,
          -99.280419,
          -99.177444,
          -100.889863,
          -99.1774462,
          -96.130805,
          -100.329168,
          -89.600723,
          -100.3965403,
          -98.235992,
          -99.180214,
          -99.214371,
          -98.296013,
          -99.140985,
          -98.3007086,
          -99.266178,
          -93.119637,
          -89.563911,
          -99.162665,
          -103.333385,
          -109.946872,
          -100.378563,
          -99.244721,
          -99.559006,
          -98.186447,
          -103.425418,
          -99.8829327151,
          -104.923553,
          -93.066491,
          -99.177444,
          -100.346985,
          -99.461708,
          -103.413092,
          -99.998039,
          -98.932816,
          -100.982117,
          -99.177444,
          -89.618103,
          -105.202538,
          -117.033916,
          -98.322969,
          -103.412397,
          -110.31971,
          -97.841892,
          -98.190349,
          -99.173522,
          -99.606303,
          -110.97103,
          -99.1635761259,
          -103.3941011,
          -99.23692,
          -100.9855409,
          -89.6110378,
          -89.6446768,
          -100.407691,
          -99.266083,
          -86.850891,
          -99.163605,
          -92.923836,
          -93.089951,
          -100.264221,
          -100.366721,
          -99.085456,
          -99.2088389397,
          -103.418115,
          -93.178283,
          -89.5925857,
          -89.574516,
          -99.213448,
          -96.113161,
          -99.129918,
          -98.983431,
          -89.632225,
          -100.935486,
          -89.615316,
          -97.849037,
          -93.096451,
          -101.176615,
          -99.098691,
          -98.246264,
          -103.454953,
          -99.224869,
          -96.0734760761,
          -100.444016,
          -99.222374,
          -107.3940117,
          -97.509221,
          -99.104161,
          -99.160229,
          -93.134056,
          -97.86808,
          -101.1981904507,
          -99.147827,
          -101.238213,
          -99.2907617,
          -100.390495,
          -110.303329,
          -96.139002,
          -99.553293,
          -98.7591311,
          -94.5140772966,
          -99.240356,
          -99.174182,
          -100.187794,
          -100.4654217,
          -99.263505,
          -89.6612548,
          -99.292419,
          -96.921847,
          -98.250015,
          -100.388042,
          -100.297874,
          -99.590174,
          -104.613602,
          -99.189277,
          -100.384446,
          -103.383702,
          -98.953514,
          -86.880921,
          -92.960579,
          -96.160652,
          -99.2906864,
          -99.27547,
          -99.26886,
          -100.3898881,
          -99.155442,
          -100.258614,
          -99.094437,
          -100.454275,
          -89.605148,
          -96.897717,
          -96.1342241,
          -96.109911,
          -115.433372,
          -97.849037,
          -89.634346,
          -100.3898881,
          -96.125389,
          -99.288261,
          -98.953514,
          -109.960496,
          -87.05368,
          -110.336274,
          -99.847374,
          -96.106026,
          -102.552788,
          -103.3946675062,
          -89.607506,
          -99.213448,
          -100.946717,
          -99.182374,
          -99.258682,
          -99.232561,
          -89.65963,
          -101.038651,
          -99.179871,
          -92.9841993784,
          -102.552788,
          -98.417053,
          -98.170731,
          -99.200287,
          -99.22372,
          -89.5933722,
          -99.189277,
          -89.65963,
          -103.315276,
          -100.342773,
          -99.050138,
          -99.248612,
          -100.94397,
          -100.4508956,
          -101.0172995925,
          -99.853204,
          -99.271629,
          -99.0165393054,
          -99.867119,
          -98.94649,
          -99.128797,
          -89.574516,
          -98.7680017948,
          -97.870796,
          -99.482277,
          -89.2624626,
          -98.328011,
          -106.0711926,
          -99.2090757,
          -99.179278,
          -93.135307,
          -102.552788,
          -89.5933722,
          -99.824979,
          -99.2113669,
          -99.1739857,
          -89.599258,
          -98.2848708631,
          -100.393311,
          -89.6551671,
          -86.7675390242,
          -99.187134,
          -106.459885,
          -99.148384,
          -99.196279,
          -99.293444,
          -93.152699,
          -99.175887,
          -99.138544,
          -99.233528,
          -100.335754,
          -100.9765219688,
          -100.9547920559,
          -93.105578,
          -97.86264,
          -99.230064,
          -99.293808,
          -98.216515,
          -102.552788,
          -89.563911,
          -100.979996,
          -98.2800516486,
          -99.098587,
          -103.408554,
          -100.883958,
          -99.196831,
          -100.386343,
          -96.128845,
          -97.404341,
          -110.9871743,
          -102.552788,
          -89.563911,
          -100.3723396361,
          -99.2423853278,
          -102.2563044727,
          -99.113106,
          -93.102641,
          -100.457924,
          -102.294085,
          -103.387465,
          -100.3135946987,
          -99.242531,
          -100.472563,
          -103.385429,
          -100.239685,
          -106.406723,
          -93.088427,
          -99.1695793,
          -101.038651,
          -99.216217,
          -99.133163,
          -99.209835,
          -98.273949,
          -99.226952,
          -99.231445,
          -100.442642,
          -89.516731,
          -98.10286,
          -89.6229189,
          -99.565956,
          -98.2061996,
          -107.434033,
          -106.481557,
          -99.176957,
          -99.192293,
          -100.2665026,
          -100.370035,
          -93.179222,
          -89.584236145,
          -86.8316459656,
          -92.626991,
          -100.444016,
          -99.125466,
          -99.218987,
          -99.16507,
          -89.599258,
          -98.925911,
          -99.131106,
          -89.5303344727,
          -99.083374,
          -99.111916,
          -99.179545,
          -89.618103,
          -96.106922,
          -116.880827,
          -98.357062,
          -99.973053,
          -89.6239875,
          -100.376117,
          -99.07093,
          -89.65963,
          -98.963181,
          -97.362764,
          -99.147827,
          -98.277669,
          -99.171906,
          -89.5588406,
          -89.262059927,
          -100.418361,
          -100.345581,
          -102.552788,
          -99.572013,
          -100.9965100633,
          -99.129707,
          -96.160663,
          -99.140586108,
          -89.6583682,
          -106.13604,
          -103.417295,
          -100.944672,
          -98.1994184107,
          -99.186126,
          -99.844955,
          -96.12487,
          -100.2701137385,
          -99.240456,
          -101.187927,
          -116.8196303,
          -89.646347,
          -93.162903,
          -99.201675,
          -99.087491,
          -89.65963,
          -100.346985,
          -89.516731,
          -99.8717173934,
          -103.376805,
          -89.574516,
          -98.77615,
          -89.5965747,
          -99.221429,
          -103.38708,
          -86.84964,
          -101.209167,
          -99.146309,
          -101.118018,
          -99.249458,
          -101.406695,
          -98.222234,
          -99.158066,
          -101.010025,
          -99.139843,
          -92.899362,
          -98.170731,
          -97.851753,
          -99.220795,
          -99.254997,
          -89.600513,
          -89.65963,
          -99.241848,
          -100.329622,
          -98.949371,
          -99.8236533,
          -98.281669,
          -97.8860995173,
          -99.213448,
          -89.589836,
          -103.50165,
          -99.1796926,
          -99.15461,
          -99.193543,
          -99.16748,
          -99.176287,
          -100.465025,
          -99.973053,
          -117.038495,
          -102.552788,
          -99.146996,
          -98.790359,
          -99.04049,
          -89.5568382,
          -99.768737,
          -100.1953926,
          -86.8222086132,
          -99.870399,
          -99.8808288574,
          -103.447155,
          -89.5167298,
          -99.174675,
          -98.3143192,
          -99.210758,
          -99.177444,
          -89.563911,
          -99.1732936,
          -98.222234,
          -89.65963,
          -99.201675,
          -103.29756,
          -89.5933722,
          -99.566673518,
          -106.0860628,
          -99.2646998,
          -98.950752,
          -105.269812,
          -99.1675547,
          -96.112946,
          -103.420837,
          -97.8573594,
          -99.173617,
          -86.869343,
          -116.985857,
          -103.413612,
          -106.418182,
          -89.563911,
          -89.65963,
          -89.65963,
          -89.705116,
          -100.9865534306,
          -100.394761,
          -103.400405,
          -97.4124504,
          -99.1825418,
          -99.9856344,
          -99.22732,
          -99.180214,
          -96.1202859879,
          -99.1294848,
          -98.772656,
          -99.124863,
          -100.3729496,
          -102.552788,
          -100.4464960098,
          -103.696887,
          -116.983772,
          -96.898109,
          -102.552784,
          -106.0940375,
          -107.444782,
          -98.325452,
          -111.0455946252,
          -100.188538,
          -100.441093,
          -86.8535878365,
          -93.12841,
          -99.150424,
          -99.268107,
          -100.462857,
          -106.109581,
          -99.12269,
          -99.293808,
          -99.5839350622,
          -99.1675547,
          -103.510059,
          -99.254997,
          -99.011513,
          -99.897744,
          -99.264038,
          -107.3931108,
          -86.862888,
          -86.868479,
          -100.356804,
          -100.2966356277,
          -110.9747137,
          -110.3057599068,
          -103.471496,
          -97.8721436,
          -99.303513,
          -89.563911,
          -100.38488,
          -99.164986,
          -99.161589,
          -99.227295,
          -99.188503,
          -89.574516,
          -99.1996,
          -99.101569,
          -89.563911,
          -94.476112,
          -89.6277563274,
          -99.154034,
          -93.165413,
          -89.65963,
          -97.875565,
          -101.00119,
          -117.016784,
          -100.9525537491,
          -98.2796788216,
          -99.19064,
          -106.130157,
          -99.165877,
          -99.137657,
          -99.152881,
          -99.767532,
          -89.516731,
          -98.207626,
          -102.2833909,
          -86.837489,
          -99.14769,
          -100.22847,
          -110.347267,
          -103.430379,
          -100.349091,
          -99.015656,
          -99.277168,
          -89.5650908,
          -87.038345,
          -99.8752605915,
          -103.379168,
          -89.564639926,
          -98.215828,
          -103.4203,
          -101.235738,
          -99.220367,
          -100.4340179,
          -97.861099,
          -100.401518,
          -98.328011,
          -99.254974,
          -100.239685,
          -98.212046,
          -102.552788,
          -99.166374,
          -99.263313,
          -100.457086,
          -99.23214,
          -97.858559,
          -97.8906248519,
          -98.925911,
          -100.442642,
          -105.2706825,
          -96.1093008,
          -99.668945,
          -99.2215659,
          -86.869834,
          -98.270025,
          -100.223213,
          -98.953514,
          -89.563911,
          -98.959038,
          -100.257912,
          -99.567856,
          -103.389053,
          -99.084804,
          -105.2267944,
          -99.170349,
          -100.409786,
          -102.297005,
          -101.016029,
          -98.245911,
          -98.3143192,
          -99.201675,
          -99.2245237,
          -97.385071,
          -99.214828,
          -97.859846,
          -99.0247871,
          -89.599258,
          -96.1112308502,
          -99.177275,
          -89.5797729492,
          -99.540924,
          -98.918523,
          -99.08649,
          -96.104954,
          -99.104118,
          -117.003688,
          -99.255074,
          -89.563911,
          -87.0738851,
          -96.12487,
          -93.181732,
          -100.4129676,
          -103.259237,
          -89.6130359243,
          -100.304192,
          -98.190544,
          -99.127094,
          -101.270798,
          -99.14685,
          -94.4626507,
          -99.83012,
          -100.365929,
          -98.978835,
          -96.086259,
          -99.767563,
          -99.220367,
          -99.461708,
          -102.552788,
          -89.6334,
          -89.5550539,
          -98.243682,
          -89.5933722,
          -96.123543,
          -115.391907,
          -89.563911,
          -103.302429,
          -105.2684878,
          -103.366303,
          -97.8476749,
          -99.180214,
          -100.4506587,
          -99.194185,
          -99.244125,
          -102.552788,
          -102.552788,
          -99.957622,
          -99.858981,
          -100.444016,
          -99.149406,
          -98.925911,
          -99.224472,
          -102.552788,
          -110.976746,
          -100.196945,
          -100.3479663,
          -98.286095,
          -102.552788,
          -100.442642,
          -89.5880314,
          -98.9408111572,
          -89.629875,
          -100.463539,
          -89.563911,
          -98.943855,
          -100.442642,
          -98.237817,
          -97.849037,
          -103.429504,
          -100.416756,
          -100.9653639793,
          -89.563911,
          -100.393311,
          -96.938694,
          -99.188231,
          -99.2120335,
          -98.875664,
          -89.5857147,
          -99.2965778,
          -97.8431699,
          -99.243225,
          -99.830807,
          -97.897331,
          -103.66731,
          -101.424133,
          -102.552788,
          -98.207626,
          -98.755252,
          -89.6110378,
          -99.16127,
          -104.636917,
          -103.432737,
          -100.388476,
          -99.194748,
          -99.224525,
          -99.221756,
          -101.0358237,
          -99.6021262,
          -89.5195181,
          -97.414111,
          -99.050201,
          -110.94401,
          -107.3835468292,
          -99.122093,
          -89.65963,
          -98.1434147,
          -89.591019,
          -98.928802,
          -99.077541,
          -102.552788,
          -93.134056,
          -105.274384,
          -98.207626,
          -86.8179603,
          -99.918871,
          -92.923836,
          -99.231792,
          -103.4631872177,
          -86.8515279,
          -89.618103,
          -99.141464,
          -89.66288656,
          -99.2281847,
          -100.33121,
          -106.389061,
          -102.552788,
          -99.8628473282,
          -98.982506,
          -99.213448,
          -99.1532,
          -103.481529,
          -103.443045,
          -99.200287,
          -106.0919272,
          -100.541089,
          -97.824554,
          -93.111488,
          -100.407191,
          -100.9580844641,
          -98.925911,
          -100.982117,
          -98.282845,
          -96.106186,
          -99.214455,
          -99.272892,
          -99.251161,
          -99.2873257399,
          -99.22522,
          -99.098311,
          -103.319042,
          -115.421524,
          -100.900192,
          -98.250015,
          -100.392302,
          -99.1996,
          -97.880325,
          -99.141464,
          -93.177151,
          -99.635183,
          -97.4216314405,
          -89.6004394,
          -99.09318,
          -99.179871,
          -103.499954,
          -99.14682,
          -99.084981,
          -99.247382,
          -99.895833,
          -100.18013,
          -106.398103,
          -99.249802,
          -99.762630685,
          -99.223332,
          -99.199727,
          -99.118782,
          -100.2735673,
          -100.4308988,
          -100.257777,
          -99.150806,
          -89.6793392,
          -92.128043,
          -103.393175,
          -99.598374,
          -100.442642,
          -99.157755,
          -116.973935,
          -102.34405,
          -103.23781,
          -98.266733,
          -99.110583,
          -99.0612554,
          -86.817017,
          -98.254127,
          -99.288369,
          -99.200287,
          -100.3469826,
          -100.4034274,
          -89.570984,
          -99.071698,
          -99.236291,
          -97.86264,
          -102.552788,
          -99.2300641,
          -100.333424,
          -100.3568071,
          -103.396278,
          -102.552788,
          -98.2295,
          -98.25757,
          -98.7818531,
          -105.288009,
          -99.177444,
          -89.614571,
          -98.735725,
          -103.357724,
          -99.178139,
          -89.599258,
          -100.341225,
          -102.343524,
          -116.96022,
          -97.880325,
          -89.563911,
          -101.145103,
          -99.873192,
          -98.646915,
          -99.133377,
          -99.033615,
          -99.164696,
          -89.563911,
          -99.224525,
          -98.196693,
          -117.016725,
          -99.140672,
          -101.0273412,
          -103.431613,
          -115.984407,
          -99.248715,
          -99.164986,
          -100.3337597,
          -102.552788,
          -99.194081,
          -89.516731,
          -97.86808,
          -99.8236533,
          -98.265213,
          -99.602311,
          -106.424401,
          -106.117668,
          -89.5965747,
          -99.9359641,
          -110.330846,
          -99.593781,
          -99.177444,
          -89.583946,
          -99.266083,
          -99.270887,
          -101.5455504,
          -99.6403991,
          -86.8515279,
          -99.188503,
          -99.2114234,
          -103.318809,
          -97.408578,
          -100.900192,
          -99.20237,
          -89.5386385918,
          -99.148073,
          -98.435252,
          -92.973569,
          -99.1442191601,
          -97.364006,
          -99.30194,
          -110.3097617626,
          -86.85264,
          -99.173522,
          -99.240456,
          -98.934196,
          -99.1891539,
          -103.449786,
          -103.339958,
          -99.186285,
          -106.0691004,
          -98.239653,
          -99.14682,
          -100.442642,
          -99.231445,
          -98.973834,
          -99.990905,
          -100.929138,
          -99.2674713,
          -100.442642,
          -100.404541,
          -101.0443504,
          -100.442642,
          -99.145,
          -100.4393293,
          -98.329774,
          -100.9942,
          -102.552788,
          -115.363762,
          -99.160229,
          -98.206238,
          -110.3053683043,
          -89.65963,
          -100.316811,
          -98.3007086,
          -99.0362059,
          -99.164866,
          -98.255075,
          -102.552788,
          -100.4718160629,
          -98.102929,
          -100.2754971,
          -96.121007,
          -100.960213,
          -101.611078,
          -98.963181,
          -99.146697,
          -99.558175,
          -98.4266391,
          -89.516731,
          -99.151703,
          -99.5727534,
          -99.671722,
          -96.871956,
          -103.366728,
          -89.6216334,
          -86.817017,
          -101.285683,
          -101.233465,
          -99.144234,
          -99.133163,
          -101.6220159,
          -100.283852,
          -99.160149,
          -99.219492,
          -97.396337,
          -99.235603,
          -99.881614,
          -96.123543,
          -99.145021,
          -89.5550539,
          -100.987683,
          -117.034189,
          -98.874065,
          -99.187561,
          -100.385582,
          -93.088928,
          -103.374611,
          -99.202726,
          -99.177444,
          -86.84964,
          -99.174228,
          -99.143757,
          -99.213448,
          -99.1459,
          -99.050201,
          -99.240456,
          -98.936752,
          -102.552788,
          -86.870964,
          -95.758949,
          -101.0471907892,
          -102.552788,
          -98.87164,
          -96.891403,
          -99.2114234,
          -96.1357247829,
          -99.230829,
          -99.212308,
          -99.89028,
          -99.254997,
          -99.023333,
          -98.268716,
          -98.2346042991,
          -99.206345,
          -99.150424,
          -99.213448,
          -103.425086,
          -98.2181614,
          -101.035118,
          -99.9961947,
          -99.692619,
          -101.339442,
          -101.190542,
          -89.627494812,
          -103.42725,
          -101.187927,
          -92.923836,
          -99.254997,
          -99.246207,
          -117.054332,
          -98.2865452766,
          -100.3337597,
          -89.6396127,
          -106.0401387,
          -100.45586,
          -100.467159,
          -95.758949,
          -99.13847,
          -99.015656,
          -106.1123085022,
          -102.552788,
          -92.912029,
          -103.474675,
          -96.1682507,
          -97.410652,
          -100.1875974,
          -89.563911,
          -100.412211,
          -96.111619,
          -99.129684,
          -98.965851,
          -99.0532159,
          -100.363823,
          -99.214211,
          -99.178235,
          -100.417855382,
          -99.160835,
          -93.08167,
          -99.140495,
          -98.9336558,
          -93.084284,
          -100.3933074,
          -99.177444,
          -98.984458,
          -100.391196,
          -98.2658243,
          -86.8515279,
          -99.232381,
          -99.231445,
          -100.966568,
          -100.436844,
          -99.135933,
          -103.74485,
          -100.3997814,
          -100.2941036224,
          -98.951226,
          -99.17952,
          -99.108269,
          -99.154385,
          -99.1806221008,
          -100.4512523,
          -96.069905,
          -103.464564,
          -98.288951,
          -101.184317,
          -89.618103,
          -101.222626,
          -99.261893,
          -106.133102,
          -103.468575,
          -96.112946,
          -99.2515909641,
          -100.450005,
          -98.741743,
          -115.474838,
          -93.105786,
          -89.563911,
          -98.247486,
          -96.998779,
          -96.107643,
          -99.244721,
          -100.9965722937,
          -110.993222,
          -98.328011,
          -99.100025,
          -98.943855,
          -100.2713531256,
          -100.442642,
          -99.2674713,
          -99.189906,
          -99.232834,
          -98.203294,
          -99.597954,
          -89.563911,
          -99.216217,
          -92.937809,
          -89.5846761,
          -89.579231,
          -98.925911,
          -99.06707,
          -100.444016,
          -107.371574,
          -99.232834,
          -89.636932,
          -86.8414848,
          -99.243812,
          -99.259592,
          -99.1632665,
          -100.4006266594,
          -89.6296213,
          -99.218987,
          -93.123362,
          -106.102234,
          -100.366899,
          -99.213448,
          -100.337153,
          -86.8123199791,
          -100.3536491,
          -99.894829,
          -106.479973,
          -89.5674103,
          -99.236992,
          -100.405373,
          -103.426533,
          -99.23091,
          -106.427007,
          -99.257774,
          -99.1995969,
          -98.367993,
          -98.943855,
          -99.713636,
          -99.186447,
          -99.149771,
          -101.205173,
          -117.054763,
          -103.396278,
          -99.8508616,
          -96.1070613563,
          -99.236561,
          -99.206345,
          -100.390194,
          -99.254997,
          -99.228287,
          -99.153915,
          -99.187238,
          -100.3786790371,
          -99.212621,
          -100.404541,
          -91.7663706,
          -96.069905,
          -97.843597,
          -99.127341,
          -99.190096,
          -100.962767601,
          -100.442642,
          -99.153292,
          -96.918228,
          -99.062879,
          -101.00119,
          -98.230121,
          -99.256293,
          -99.147767,
          -104.8877876,
          -99.240363,
          -99.293808,
          -101.032422,
          -99.251489,
          -100.4411011,
          -99.140207,
          -99.19195,
          -99.193301,
          -99.857628,
          -106.382439,
          -89.570984,
          -99.850166,
          -94.458733,
          -98.2295,
          -103.393252,
          -89.563911,
          -99.152534,
          -100.444385,
          -99.173522,
          -99.602481,
          -99.2114234,
          -105.209682,
          -102.552788,
          -100.3898881,
          -98.258029,
          -99.204941,
          -96.107956,
          -94.4772926867,
          -99.2553635,
          -100.374119,
          -99.218987,
          -101.175638,
          -103.737602,
          -117.033513,
          -99.241142,
          -99.20237,
          -99.209949,
          -100.410858,
          -99.218415,
          -100.266174,
          -99.121497,
          -99.869568,
          -93.164162,
          -102.552788,
          -99.607241,
          -99.850166,
          -89.5945502,
          -99.161675,
          -99.1359301,
          -99.1351802,
          -97.9089224339,
          -99.125191,
          -104.6531759,
          -99.293871,
          -101.0266343,
          -103.437088,
          -96.891403,
          -100.38488,
          -100.9284004569,
          -99.220529,
          -96.107643,
          -99.206377,
          -93.181732,
          -98.953514,
          -90.5349087,
          -100.371039,
          -99.34648,
          -99.152302,
          -103.312843,
          -101.679077,
          -89.600513,
          -99.216052,
          -100.3940095,
          -89.5978127,
          -99.216217,
          -100.335754,
          -99.272488,
          -99.241837,
          -100.363823,
          -94.4396674633,
          -99.115503,
          -99.126869,
          -99.088905,
          -99.242474,
          -99.127136,
          -100.442642,
          -100.436245,
          -99.181902,
          -100.3546346,
          -93.148401,
          -99.266083,
          -100.345717,
          -99.152404,
          -102.552788,
          -99.141464,
          -99.597954,
          -99.153107,
          -89.65963,
          -98.328011,
          -99.2023662,
          -99.233148,
          -92.950018,
          -98.3289824,
          -99.1996,
          -103.691269,
          -100.2575589,
          -110.306996,
          -116.88252,
          -100.442642,
          -96.749432981,
          -99.242156,
          -89.5549756587,
          -99.130394,
          -98.963181,
          -100.340521,
          -99.223195,
          -100.3288581,
          -93.096295,
          -99.130394,
          -87.078659,
          -100.342773,
          -99.218987,
          -100.390495,
          -100.382774,
          -86.842937,
          -99.889244,
          -99.150424,
          -99.196831,
          -96.911522,
          -97.8784418106,
          -99.2684274,
          -99.143403,
          -89.618103,
          -101.197362,
          -99.2542064,
          -99.692619,
          -99.230759,
          -99.122758,
          -110.943916,
          -101.245743,
          -100.2430415,
          -110.315987,
          -99.186297,
          -99.263313,
          -106.040439,
          -89.6850751,
          -102.552788,
          -99.047432,
          -100.383032,
          -89.6004394,
          -99.272508,
          -100.376106,
          -117.016926,
          -103.3824715018,
          -99.064713,
          -99.88301754,
          -101.016029,
          -99.111133,
          -99.060346,
          -100.3469826,
          -99.145619,
          -103.839896,
          -100.3161126,
          -98.932816,
          -100.4462718,
          -99.0521619915,
          -98.282691,
          -100.2071,
          -100.361619,
          -98.316376,
          -99.200287,
          -86.84964,
          -99.5478784,
          -106.426237,
          -103.734973,
          -100.2269947529,
          -99.237779,
          -99.112954,
          -89.6034273505,
          -102.552788,
          -99.086604,
          -99.254997,
          -99.200764,
          -99.062244,
          -100.344032,
          -99.17109,
          -99.14595,
          -99.185753,
          -100.87474823,
          -99.113106,
          -99.2646998,
          -99.2494583,
          -89.6110378,
          -97.843597,
          -100.4302641,
          -99.176894,
          -100.994925,
          -101.04092,
          -89.6128177643,
          -97.8898514392,
          -99.200287,
          -96.0588921,
          -99.221881,
          -99.194748,
          -99.232834,
          -100.3184093,
          -99.126007,
          -99.148384,
          -99.453377,
          -99.254997,
          -100.4222725,
          -100.406716,
          -116.882435,
          -99.1138,
          -89.563911,
          -103.1944627,
          -99.966431,
          -98.959038,
          -101.186433658,
          -97.883728,
          -97.89325,
          -99.203751,
          -103.391146,
          -100.3688142,
          -98.286095,
          -102.316322,
          -90.5359003,
          -99.262423,
          -99.125896,
          -106.089596,
          -99.200287,
          -98.225566,
          -102.552788,
          -99.04435,
          -93.119011,
          -97.389905,
          -101.005431,
          -96.107643,
          -99.2584598064,
          -86.879738,
          -100.442467,
          -89.248380661,
          -99.157113,
          -89.65963,
          -97.3631926,
          -100.228301,
          -99.011968,
          -101.035118,
          -89.614571,
          -99.581169,
          -100.479441,
          -98.9659399,
          -99.125888,
          -89.65963,
          -97.8800254,
          -103.47907,
          -98.214439,
          -93.15228,
          -101.165592,
          -103.377502,
          -101.041163,
          -89.563911,
          -99.675944,
          -100.42942,
          -101.708252,
          -99.155899,
          -100.414032,
          -99.135933,
          -96.94104,
          -103.39302,
          -89.591019,
          -99.143384,
          -102.552788,
          -97.860939,
          -99.913115,
          -96.1076366901,
          -98.236336,
          -99.981438,
          -86.8251719,
          -116.81963,
          -89.6110378,
          -102.552788,
          -100.455109,
          -97.866714,
          -98.248372,
          -99.215979,
          -99.566057,
          -89.619278,
          -99.14682,
          -99.103287,
          -89.599258,
          -103.680325,
          -99.254183,
          -89.648252,
          -86.8515973089,
          -99.218298,
          -99.186714,
          -107.4352383614,
          -99.241837,
          -100.446219,
          -99.039146,
          -106.09304,
          -100.745235,
          -102.552788,
          -100.346985,
          -101.0019,
          -89.646347,
          -92.651844,
          -99.546473,
          -86.857162,
          -99.0904824436,
          -99.159454,
          -89.642815,
          -102.191307,
          -100.230576,
          -99.597733,
          -104.615791,
          -99.025536,
          -99.054777,
          -100.365929,
          -105.204857,
          -106.415812,
          -99.096736,
          -109.958231,
          -99.177444,
          -100.4578949,
          -106.0691004,
          -97.889847,
          -99.218126,
          -99.145853,
          -99.252857,
          -100.393311,
          -101.181947,
          -98.260885,
          -99.216217,
          -99.214456,
          -99.132304,
          -99.194926,
          -99.6178249,
          -99.798010105,
          -89.5550539,
          -92.959735,
          -99.156423,
          -98.735725,
          -97.3916879296,
          -99.188639,
          -99.144234,
          -102.552788,
          -99.204251,
          -107.4623677164,
          -99.219505,
          -99.225906,
          -103.389699,
          -103.484418,
          -99.1802147,
          -89.6530058049,
          -101.0321938992,
          -99.558519
         ],
         "marker": {
          "color": "#636efa"
         },
         "mode": "markers",
         "name": "",
         "showlegend": false,
         "subplot": "mapbox",
         "type": "scattermapbox"
        }
       ],
       "layout": {
        "height": 600,
        "legend": {
         "tracegroupgap": 0
        },
        "mapbox": {
         "center": {
          "lat": 19.43,
          "lon": -99.13
         },
         "domain": {
          "x": [
           0,
           1
          ],
          "y": [
           0,
           1
          ]
         },
         "style": "open-street-map",
         "zoom": 8
        },
        "margin": {
         "t": 60
        },
        "template": {
         "data": {
          "bar": [
           {
            "error_x": {
             "color": "#2a3f5f"
            },
            "error_y": {
             "color": "#2a3f5f"
            },
            "marker": {
             "line": {
              "color": "#E5ECF6",
              "width": 0.5
             },
             "pattern": {
              "fillmode": "overlay",
              "size": 10,
              "solidity": 0.2
             }
            },
            "type": "bar"
           }
          ],
          "barpolar": [
           {
            "marker": {
             "line": {
              "color": "#E5ECF6",
              "width": 0.5
             },
             "pattern": {
              "fillmode": "overlay",
              "size": 10,
              "solidity": 0.2
             }
            },
            "type": "barpolar"
           }
          ],
          "carpet": [
           {
            "aaxis": {
             "endlinecolor": "#2a3f5f",
             "gridcolor": "white",
             "linecolor": "white",
             "minorgridcolor": "white",
             "startlinecolor": "#2a3f5f"
            },
            "baxis": {
             "endlinecolor": "#2a3f5f",
             "gridcolor": "white",
             "linecolor": "white",
             "minorgridcolor": "white",
             "startlinecolor": "#2a3f5f"
            },
            "type": "carpet"
           }
          ],
          "choropleth": [
           {
            "colorbar": {
             "outlinewidth": 0,
             "ticks": ""
            },
            "type": "choropleth"
           }
          ],
          "contour": [
           {
            "colorbar": {
             "outlinewidth": 0,
             "ticks": ""
            },
            "colorscale": [
             [
              0,
              "#0d0887"
             ],
             [
              0.1111111111111111,
              "#46039f"
             ],
             [
              0.2222222222222222,
              "#7201a8"
             ],
             [
              0.3333333333333333,
              "#9c179e"
             ],
             [
              0.4444444444444444,
              "#bd3786"
             ],
             [
              0.5555555555555556,
              "#d8576b"
             ],
             [
              0.6666666666666666,
              "#ed7953"
             ],
             [
              0.7777777777777778,
              "#fb9f3a"
             ],
             [
              0.8888888888888888,
              "#fdca26"
             ],
             [
              1,
              "#f0f921"
             ]
            ],
            "type": "contour"
           }
          ],
          "contourcarpet": [
           {
            "colorbar": {
             "outlinewidth": 0,
             "ticks": ""
            },
            "type": "contourcarpet"
           }
          ],
          "heatmap": [
           {
            "colorbar": {
             "outlinewidth": 0,
             "ticks": ""
            },
            "colorscale": [
             [
              0,
              "#0d0887"
             ],
             [
              0.1111111111111111,
              "#46039f"
             ],
             [
              0.2222222222222222,
              "#7201a8"
             ],
             [
              0.3333333333333333,
              "#9c179e"
             ],
             [
              0.4444444444444444,
              "#bd3786"
             ],
             [
              0.5555555555555556,
              "#d8576b"
             ],
             [
              0.6666666666666666,
              "#ed7953"
             ],
             [
              0.7777777777777778,
              "#fb9f3a"
             ],
             [
              0.8888888888888888,
              "#fdca26"
             ],
             [
              1,
              "#f0f921"
             ]
            ],
            "type": "heatmap"
           }
          ],
          "heatmapgl": [
           {
            "colorbar": {
             "outlinewidth": 0,
             "ticks": ""
            },
            "colorscale": [
             [
              0,
              "#0d0887"
             ],
             [
              0.1111111111111111,
              "#46039f"
             ],
             [
              0.2222222222222222,
              "#7201a8"
             ],
             [
              0.3333333333333333,
              "#9c179e"
             ],
             [
              0.4444444444444444,
              "#bd3786"
             ],
             [
              0.5555555555555556,
              "#d8576b"
             ],
             [
              0.6666666666666666,
              "#ed7953"
             ],
             [
              0.7777777777777778,
              "#fb9f3a"
             ],
             [
              0.8888888888888888,
              "#fdca26"
             ],
             [
              1,
              "#f0f921"
             ]
            ],
            "type": "heatmapgl"
           }
          ],
          "histogram": [
           {
            "marker": {
             "pattern": {
              "fillmode": "overlay",
              "size": 10,
              "solidity": 0.2
             }
            },
            "type": "histogram"
           }
          ],
          "histogram2d": [
           {
            "colorbar": {
             "outlinewidth": 0,
             "ticks": ""
            },
            "colorscale": [
             [
              0,
              "#0d0887"
             ],
             [
              0.1111111111111111,
              "#46039f"
             ],
             [
              0.2222222222222222,
              "#7201a8"
             ],
             [
              0.3333333333333333,
              "#9c179e"
             ],
             [
              0.4444444444444444,
              "#bd3786"
             ],
             [
              0.5555555555555556,
              "#d8576b"
             ],
             [
              0.6666666666666666,
              "#ed7953"
             ],
             [
              0.7777777777777778,
              "#fb9f3a"
             ],
             [
              0.8888888888888888,
              "#fdca26"
             ],
             [
              1,
              "#f0f921"
             ]
            ],
            "type": "histogram2d"
           }
          ],
          "histogram2dcontour": [
           {
            "colorbar": {
             "outlinewidth": 0,
             "ticks": ""
            },
            "colorscale": [
             [
              0,
              "#0d0887"
             ],
             [
              0.1111111111111111,
              "#46039f"
             ],
             [
              0.2222222222222222,
              "#7201a8"
             ],
             [
              0.3333333333333333,
              "#9c179e"
             ],
             [
              0.4444444444444444,
              "#bd3786"
             ],
             [
              0.5555555555555556,
              "#d8576b"
             ],
             [
              0.6666666666666666,
              "#ed7953"
             ],
             [
              0.7777777777777778,
              "#fb9f3a"
             ],
             [
              0.8888888888888888,
              "#fdca26"
             ],
             [
              1,
              "#f0f921"
             ]
            ],
            "type": "histogram2dcontour"
           }
          ],
          "mesh3d": [
           {
            "colorbar": {
             "outlinewidth": 0,
             "ticks": ""
            },
            "type": "mesh3d"
           }
          ],
          "parcoords": [
           {
            "line": {
             "colorbar": {
              "outlinewidth": 0,
              "ticks": ""
             }
            },
            "type": "parcoords"
           }
          ],
          "pie": [
           {
            "automargin": true,
            "type": "pie"
           }
          ],
          "scatter": [
           {
            "fillpattern": {
             "fillmode": "overlay",
             "size": 10,
             "solidity": 0.2
            },
            "type": "scatter"
           }
          ],
          "scatter3d": [
           {
            "line": {
             "colorbar": {
              "outlinewidth": 0,
              "ticks": ""
             }
            },
            "marker": {
             "colorbar": {
              "outlinewidth": 0,
              "ticks": ""
             }
            },
            "type": "scatter3d"
           }
          ],
          "scattercarpet": [
           {
            "marker": {
             "colorbar": {
              "outlinewidth": 0,
              "ticks": ""
             }
            },
            "type": "scattercarpet"
           }
          ],
          "scattergeo": [
           {
            "marker": {
             "colorbar": {
              "outlinewidth": 0,
              "ticks": ""
             }
            },
            "type": "scattergeo"
           }
          ],
          "scattergl": [
           {
            "marker": {
             "colorbar": {
              "outlinewidth": 0,
              "ticks": ""
             }
            },
            "type": "scattergl"
           }
          ],
          "scattermapbox": [
           {
            "marker": {
             "colorbar": {
              "outlinewidth": 0,
              "ticks": ""
             }
            },
            "type": "scattermapbox"
           }
          ],
          "scatterpolar": [
           {
            "marker": {
             "colorbar": {
              "outlinewidth": 0,
              "ticks": ""
             }
            },
            "type": "scatterpolar"
           }
          ],
          "scatterpolargl": [
           {
            "marker": {
             "colorbar": {
              "outlinewidth": 0,
              "ticks": ""
             }
            },
            "type": "scatterpolargl"
           }
          ],
          "scatterternary": [
           {
            "marker": {
             "colorbar": {
              "outlinewidth": 0,
              "ticks": ""
             }
            },
            "type": "scatterternary"
           }
          ],
          "surface": [
           {
            "colorbar": {
             "outlinewidth": 0,
             "ticks": ""
            },
            "colorscale": [
             [
              0,
              "#0d0887"
             ],
             [
              0.1111111111111111,
              "#46039f"
             ],
             [
              0.2222222222222222,
              "#7201a8"
             ],
             [
              0.3333333333333333,
              "#9c179e"
             ],
             [
              0.4444444444444444,
              "#bd3786"
             ],
             [
              0.5555555555555556,
              "#d8576b"
             ],
             [
              0.6666666666666666,
              "#ed7953"
             ],
             [
              0.7777777777777778,
              "#fb9f3a"
             ],
             [
              0.8888888888888888,
              "#fdca26"
             ],
             [
              1,
              "#f0f921"
             ]
            ],
            "type": "surface"
           }
          ],
          "table": [
           {
            "cells": {
             "fill": {
              "color": "#EBF0F8"
             },
             "line": {
              "color": "white"
             }
            },
            "header": {
             "fill": {
              "color": "#C8D4E3"
             },
             "line": {
              "color": "white"
             }
            },
            "type": "table"
           }
          ]
         },
         "layout": {
          "annotationdefaults": {
           "arrowcolor": "#2a3f5f",
           "arrowhead": 0,
           "arrowwidth": 1
          },
          "autotypenumbers": "strict",
          "coloraxis": {
           "colorbar": {
            "outlinewidth": 0,
            "ticks": ""
           }
          },
          "colorscale": {
           "diverging": [
            [
             0,
             "#8e0152"
            ],
            [
             0.1,
             "#c51b7d"
            ],
            [
             0.2,
             "#de77ae"
            ],
            [
             0.3,
             "#f1b6da"
            ],
            [
             0.4,
             "#fde0ef"
            ],
            [
             0.5,
             "#f7f7f7"
            ],
            [
             0.6,
             "#e6f5d0"
            ],
            [
             0.7,
             "#b8e186"
            ],
            [
             0.8,
             "#7fbc41"
            ],
            [
             0.9,
             "#4d9221"
            ],
            [
             1,
             "#276419"
            ]
           ],
           "sequential": [
            [
             0,
             "#0d0887"
            ],
            [
             0.1111111111111111,
             "#46039f"
            ],
            [
             0.2222222222222222,
             "#7201a8"
            ],
            [
             0.3333333333333333,
             "#9c179e"
            ],
            [
             0.4444444444444444,
             "#bd3786"
            ],
            [
             0.5555555555555556,
             "#d8576b"
            ],
            [
             0.6666666666666666,
             "#ed7953"
            ],
            [
             0.7777777777777778,
             "#fb9f3a"
            ],
            [
             0.8888888888888888,
             "#fdca26"
            ],
            [
             1,
             "#f0f921"
            ]
           ],
           "sequentialminus": [
            [
             0,
             "#0d0887"
            ],
            [
             0.1111111111111111,
             "#46039f"
            ],
            [
             0.2222222222222222,
             "#7201a8"
            ],
            [
             0.3333333333333333,
             "#9c179e"
            ],
            [
             0.4444444444444444,
             "#bd3786"
            ],
            [
             0.5555555555555556,
             "#d8576b"
            ],
            [
             0.6666666666666666,
             "#ed7953"
            ],
            [
             0.7777777777777778,
             "#fb9f3a"
            ],
            [
             0.8888888888888888,
             "#fdca26"
            ],
            [
             1,
             "#f0f921"
            ]
           ]
          },
          "colorway": [
           "#636efa",
           "#EF553B",
           "#00cc96",
           "#ab63fa",
           "#FFA15A",
           "#19d3f3",
           "#FF6692",
           "#B6E880",
           "#FF97FF",
           "#FECB52"
          ],
          "font": {
           "color": "#2a3f5f"
          },
          "geo": {
           "bgcolor": "white",
           "lakecolor": "white",
           "landcolor": "#E5ECF6",
           "showlakes": true,
           "showland": true,
           "subunitcolor": "white"
          },
          "hoverlabel": {
           "align": "left"
          },
          "hovermode": "closest",
          "mapbox": {
           "style": "light"
          },
          "paper_bgcolor": "white",
          "plot_bgcolor": "#E5ECF6",
          "polar": {
           "angularaxis": {
            "gridcolor": "white",
            "linecolor": "white",
            "ticks": ""
           },
           "bgcolor": "#E5ECF6",
           "radialaxis": {
            "gridcolor": "white",
            "linecolor": "white",
            "ticks": ""
           }
          },
          "scene": {
           "xaxis": {
            "backgroundcolor": "#E5ECF6",
            "gridcolor": "white",
            "gridwidth": 2,
            "linecolor": "white",
            "showbackground": true,
            "ticks": "",
            "zerolinecolor": "white"
           },
           "yaxis": {
            "backgroundcolor": "#E5ECF6",
            "gridcolor": "white",
            "gridwidth": 2,
            "linecolor": "white",
            "showbackground": true,
            "ticks": "",
            "zerolinecolor": "white"
           },
           "zaxis": {
            "backgroundcolor": "#E5ECF6",
            "gridcolor": "white",
            "gridwidth": 2,
            "linecolor": "white",
            "showbackground": true,
            "ticks": "",
            "zerolinecolor": "white"
           }
          },
          "shapedefaults": {
           "line": {
            "color": "#2a3f5f"
           }
          },
          "ternary": {
           "aaxis": {
            "gridcolor": "white",
            "linecolor": "white",
            "ticks": ""
           },
           "baxis": {
            "gridcolor": "white",
            "linecolor": "white",
            "ticks": ""
           },
           "bgcolor": "#E5ECF6",
           "caxis": {
            "gridcolor": "white",
            "linecolor": "white",
            "ticks": ""
           }
          },
          "title": {
           "x": 0.05
          },
          "xaxis": {
           "automargin": true,
           "gridcolor": "white",
           "linecolor": "white",
           "ticks": "",
           "title": {
            "standoff": 15
           },
           "zerolinecolor": "white",
           "zerolinewidth": 2
          },
          "yaxis": {
           "automargin": true,
           "gridcolor": "white",
           "linecolor": "white",
           "ticks": "",
           "title": {
            "standoff": 15
           },
           "zerolinecolor": "white",
           "zerolinewidth": 2
          }
         }
        },
        "width": 1200
       }
      }
     },
     "metadata": {},
     "output_type": "display_data"
    }
   ],
   "source": [
    "# creating a box plot to view where the houses are located\n",
    "\n",
    "fig = px.scatter_mapbox(\n",
    "    data_frame=df,\n",
    "    lat=df['lat'],\n",
    "    lon=df['lon'],\n",
    "    center={'lat':19.43,'lon':-99.13}, # map will be centered on Meico city\n",
    "    width=1200, # map width\n",
    "    height=600, # map height\n",
    "    hover_data=['price_usd'] # display proce when hovering mouse\n",
    ")\n",
    "\n",
    "fig.update_layout(mapbox_style = 'open-street-map')\n",
    "\n",
    "fig.show()"
   ]
  },
  {
   "cell_type": "markdown",
   "metadata": {},
   "source": [
    "![house location](house_locations.png)"
   ]
  },
  {
   "attachments": {},
   "cell_type": "markdown",
   "metadata": {},
   "source": [
    "By looking at the graph, we can see that the properties are spread out within Mexico with large concentration in the center around Mexico city."
   ]
  },
  {
   "attachments": {},
   "cell_type": "markdown",
   "metadata": {},
   "source": [
    "2. Categorical data: 'State' - Even though we can get a clear picture of how many properties we have by states by looking at the map, we can get the exact number by using the 'State' column"
   ]
  },
  {
   "cell_type": "code",
   "execution_count": 32,
   "metadata": {},
   "outputs": [
    {
     "data": {
      "text/plain": [
       "state\n",
       "Distrito Federal                   303\n",
       "Estado de México                   179\n",
       "Yucatán                            171\n",
       "Morelos                            160\n",
       "Querétaro                          128\n",
       "Veracruz de Ignacio de la Llave    117\n",
       "Puebla                              95\n",
       "Nuevo León                          83\n",
       "Jalisco                             60\n",
       "San Luis Potosí                     55\n",
       "Name: count, dtype: int64"
      ]
     },
     "execution_count": 32,
     "metadata": {},
     "output_type": "execute_result"
    }
   ],
   "source": [
    "# top 10 states with properties\n",
    "\n",
    "df['state'].value_counts(ascending=False).head(10)"
   ]
  },
  {
   "attachments": {},
   "cell_type": "markdown",
   "metadata": {},
   "source": [
    "3. Numercial data: now that we know where our houses are located. The next step is to use descriptive statistics to know how much these house cost on average, how big the house in term of size."
   ]
  },
  {
   "cell_type": "code",
   "execution_count": 33,
   "metadata": {},
   "outputs": [
    {
     "data": {
      "text/html": [
       "<div>\n",
       "<style scoped>\n",
       "    .dataframe tbody tr th:only-of-type {\n",
       "        vertical-align: middle;\n",
       "    }\n",
       "\n",
       "    .dataframe tbody tr th {\n",
       "        vertical-align: top;\n",
       "    }\n",
       "\n",
       "    .dataframe thead th {\n",
       "        text-align: right;\n",
       "    }\n",
       "</style>\n",
       "<table border=\"1\" class=\"dataframe\">\n",
       "  <thead>\n",
       "    <tr style=\"text-align: right;\">\n",
       "      <th></th>\n",
       "      <th>area_m2</th>\n",
       "      <th>price_usd</th>\n",
       "    </tr>\n",
       "  </thead>\n",
       "  <tbody>\n",
       "    <tr>\n",
       "      <th>count</th>\n",
       "      <td>1736.000000</td>\n",
       "      <td>1736.000000</td>\n",
       "    </tr>\n",
       "    <tr>\n",
       "      <th>mean</th>\n",
       "      <td>170.261521</td>\n",
       "      <td>115331.980800</td>\n",
       "    </tr>\n",
       "    <tr>\n",
       "      <th>std</th>\n",
       "      <td>80.594539</td>\n",
       "      <td>65426.173793</td>\n",
       "    </tr>\n",
       "    <tr>\n",
       "      <th>min</th>\n",
       "      <td>60.000000</td>\n",
       "      <td>33157.894737</td>\n",
       "    </tr>\n",
       "    <tr>\n",
       "      <th>25%</th>\n",
       "      <td>101.750000</td>\n",
       "      <td>65789.473684</td>\n",
       "    </tr>\n",
       "    <tr>\n",
       "      <th>50%</th>\n",
       "      <td>156.000000</td>\n",
       "      <td>99262.132105</td>\n",
       "    </tr>\n",
       "    <tr>\n",
       "      <th>75%</th>\n",
       "      <td>220.000000</td>\n",
       "      <td>150846.665000</td>\n",
       "    </tr>\n",
       "    <tr>\n",
       "      <th>max</th>\n",
       "      <td>385.000000</td>\n",
       "      <td>326733.660000</td>\n",
       "    </tr>\n",
       "  </tbody>\n",
       "</table>\n",
       "</div>"
      ],
      "text/plain": [
       "           area_m2      price_usd\n",
       "count  1736.000000    1736.000000\n",
       "mean    170.261521  115331.980800\n",
       "std      80.594539   65426.173793\n",
       "min      60.000000   33157.894737\n",
       "25%     101.750000   65789.473684\n",
       "50%     156.000000   99262.132105\n",
       "75%     220.000000  150846.665000\n",
       "max     385.000000  326733.660000"
      ]
     },
     "execution_count": 33,
     "metadata": {},
     "output_type": "execute_result"
    }
   ],
   "source": [
    "df[['area_m2','price_usd']].describe()"
   ]
  },
  {
   "attachments": {},
   "cell_type": "markdown",
   "metadata": {},
   "source": [
    "Whilie using numbers is good to view data, using visulisations make it evenn easier to understand and absord data"
   ]
  },
  {
   "cell_type": "code",
   "execution_count": 34,
   "metadata": {},
   "outputs": [
    {
     "data": {
      "text/plain": [
       "Text(0.5, 1.0, 'Distribution of House Sizes')"
      ]
     },
     "execution_count": 34,
     "metadata": {},
     "output_type": "execute_result"
    },
    {
     "data": {
      "image/png": "[encoded data removed]",
      "text/plain": [
       "<Figure size 640x480 with 1 Axes>"
      ]
     },
     "metadata": {},
     "output_type": "display_data"
    }
   ],
   "source": [
    "# Plot distribution of house sizes\n",
    "\n",
    "plt.hist(df['area_m2'])\n",
    "plt.xlabel('Area [sq meters]')\n",
    "plt.ylabel('Frequency')\n",
    "plt.title('Distribution of House Sizes')"
   ]
  },
  {
   "attachments": {},
   "cell_type": "markdown",
   "metadata": {},
   "source": [
    "With the histogram, we have a skewed distribution due to the fact that there are large proportion of how house between the size range of 50-150 square meters, which make sense because the smaller the size of houses the cheaper the price, which results in the average being pulled towards the left side and causes a skewed distribution."
   ]
  },
  {
   "cell_type": "code",
   "execution_count": 35,
   "metadata": {},
   "outputs": [
    {
     "data": {
      "text/plain": [
       "Text(0.5, 1.0, 'Distribution of House Prices')"
      ]
     },
     "execution_count": 35,
     "metadata": {},
     "output_type": "execute_result"
    },
    {
     "data": {
      "image/png": "[encoded data removed]",
      "text/plain": [
       "<Figure size 640x480 with 1 Axes>"
      ]
     },
     "metadata": {},
     "output_type": "display_data"
    }
   ],
   "source": [
    "# Plot distribution of house prices\n",
    "\n",
    "plt.hist(df['price_usd'])\n",
    "plt.xlabel('Price [USD]')\n",
    "plt.ylabel('Frequency')\n",
    "plt.title('Distribution of House Prices')"
   ]
  },
  {
   "attachments": {},
   "cell_type": "markdown",
   "metadata": {},
   "source": [
    "Looking at the distribution of the prices, it's even more skewed."
   ]
  },
  {
   "attachments": {},
   "cell_type": "markdown",
   "metadata": {},
   "source": [
    "Through EDA, we now have a basic of understanding the data, now it's time to do some research questions."
   ]
  },
  {
   "attachments": {},
   "cell_type": "markdown",
   "metadata": {},
   "source": [
    "### 1. Which state has the most expensive real estate market?"
   ]
  },
  {
   "cell_type": "code",
   "execution_count": 36,
   "metadata": {},
   "outputs": [
    {
     "data": {
      "text/plain": [
       "state\n",
       "Querétaro                          133955.913417\n",
       "Guanajuato                         133277.965833\n",
       "Nuevo León                         129221.985834\n",
       "Distrito Federal                   128347.267365\n",
       "Quintana Roo                       128065.415734\n",
       "Chihuahua                          127073.851184\n",
       "Jalisco                            123386.472237\n",
       "Estado de México                   122723.490600\n",
       "Campeche                           121734.633333\n",
       "Puebla                             121732.974294\n",
       "Guerrero                           119854.276015\n",
       "Sonora                             114547.881798\n",
       "Morelos                            112697.295615\n",
       "Aguascalientes                     110543.888316\n",
       "Baja California Sur                109069.339158\n",
       "Yucatán                            108580.388526\n",
       "Chiapas                            104342.313388\n",
       "Veracruz de Ignacio de la Llave     96928.125254\n",
       "Hidalgo                             94012.326563\n",
       "Sinaloa                             93922.152490\n",
       "Tamaulipas                          93713.386272\n",
       "San Luis Potosí                     92435.540431\n",
       "Nayarit                             87378.606842\n",
       "Tabasco                             82763.586921\n",
       "Durango                             78034.511729\n",
       "Zacatecas                           76395.400000\n",
       "Tlaxcala                            72921.819561\n",
       "Colima                              65786.646947\n",
       "Baja California                     63152.431198\n",
       "Oaxaca                              59681.585000\n",
       "Name: price_usd, dtype: float64"
      ]
     },
     "execution_count": 36,
     "metadata": {},
     "output_type": "execute_result"
    }
   ],
   "source": [
    "# calculate mean price per state\n",
    "\n",
    "mean_price_per_state = df.groupby('state')['price_usd'].mean().sort_values(ascending=False)\n",
    "mean_price_per_state"
   ]
  },
  {
   "cell_type": "code",
   "execution_count": 37,
   "metadata": {},
   "outputs": [
    {
     "data": {
      "text/plain": [
       "<Axes: title={'center': 'Mean House Price by State'}, xlabel='State', ylabel='Mean Price [USD]'>"
      ]
     },
     "execution_count": 37,
     "metadata": {},
     "output_type": "execute_result"
    },
    {
     "data": {
      "image/png": "[encoded data removed]",
      "text/plain": [
       "<Figure size 640x480 with 1 Axes>"
      ]
     },
     "metadata": {},
     "output_type": "display_data"
    }
   ],
   "source": [
    "# visualise mean price by state\n",
    "\n",
    "mean_price_per_state.plot(\n",
    "    kind='bar',\n",
    "    xlabel='State',\n",
    "    ylabel='Mean Price [USD]',\n",
    "    title='Mean House Price by State'\n",
    ")"
   ]
  },
  {
   "attachments": {},
   "cell_type": "markdown",
   "metadata": {},
   "source": [
    "We can see from the graph that Querétaro has the highest average mean price for houses. But this is odd because according to the data from https://en.wikipedia.org/wiki/List_of_Mexican_states_by_GDP, this state has a low GDP compared to mose states, so there may be a disconnection here. To further deep dive this disconnection, we will visualise the mean price per square feet in each state."
   ]
  },
  {
   "cell_type": "code",
   "execution_count": 38,
   "metadata": {},
   "outputs": [],
   "source": [
    "df['price_per_m2'] = df['price_usd'] / df['area_m2']"
   ]
  },
  {
   "cell_type": "code",
   "execution_count": 39,
   "metadata": {},
   "outputs": [
    {
     "data": {
      "text/html": [
       "<div>\n",
       "<style scoped>\n",
       "    .dataframe tbody tr th:only-of-type {\n",
       "        vertical-align: middle;\n",
       "    }\n",
       "\n",
       "    .dataframe tbody tr th {\n",
       "        vertical-align: top;\n",
       "    }\n",
       "\n",
       "    .dataframe thead th {\n",
       "        text-align: right;\n",
       "    }\n",
       "</style>\n",
       "<table border=\"1\" class=\"dataframe\">\n",
       "  <thead>\n",
       "    <tr style=\"text-align: right;\">\n",
       "      <th></th>\n",
       "      <th>property_type</th>\n",
       "      <th>state</th>\n",
       "      <th>lat</th>\n",
       "      <th>lon</th>\n",
       "      <th>area_m2</th>\n",
       "      <th>price_usd</th>\n",
       "      <th>price_per_m2</th>\n",
       "    </tr>\n",
       "  </thead>\n",
       "  <tbody>\n",
       "    <tr>\n",
       "      <th>0</th>\n",
       "      <td>house</td>\n",
       "      <td>Estado de México</td>\n",
       "      <td>19.560181</td>\n",
       "      <td>-99.233528</td>\n",
       "      <td>150.0</td>\n",
       "      <td>67965.56</td>\n",
       "      <td>453.103733</td>\n",
       "    </tr>\n",
       "    <tr>\n",
       "      <th>1</th>\n",
       "      <td>house</td>\n",
       "      <td>Nuevo León</td>\n",
       "      <td>25.688436</td>\n",
       "      <td>-100.198807</td>\n",
       "      <td>186.0</td>\n",
       "      <td>63223.78</td>\n",
       "      <td>339.912796</td>\n",
       "    </tr>\n",
       "    <tr>\n",
       "      <th>2</th>\n",
       "      <td>apartment</td>\n",
       "      <td>Guerrero</td>\n",
       "      <td>16.767704</td>\n",
       "      <td>-99.764383</td>\n",
       "      <td>82.0</td>\n",
       "      <td>84298.37</td>\n",
       "      <td>1028.028902</td>\n",
       "    </tr>\n",
       "    <tr>\n",
       "      <th>3</th>\n",
       "      <td>apartment</td>\n",
       "      <td>Guerrero</td>\n",
       "      <td>16.829782</td>\n",
       "      <td>-99.911012</td>\n",
       "      <td>150.0</td>\n",
       "      <td>94308.80</td>\n",
       "      <td>628.725333</td>\n",
       "    </tr>\n",
       "    <tr>\n",
       "      <th>5</th>\n",
       "      <td>house</td>\n",
       "      <td>Yucatán</td>\n",
       "      <td>21.052583</td>\n",
       "      <td>-89.538639</td>\n",
       "      <td>205.0</td>\n",
       "      <td>105191.37</td>\n",
       "      <td>513.128634</td>\n",
       "    </tr>\n",
       "  </tbody>\n",
       "</table>\n",
       "</div>"
      ],
      "text/plain": [
       "  property_type             state        lat         lon  area_m2  price_usd  \\\n",
       "0         house  Estado de México  19.560181  -99.233528    150.0   67965.56   \n",
       "1         house        Nuevo León  25.688436 -100.198807    186.0   63223.78   \n",
       "2     apartment          Guerrero  16.767704  -99.764383     82.0   84298.37   \n",
       "3     apartment          Guerrero  16.829782  -99.911012    150.0   94308.80   \n",
       "5         house           Yucatán  21.052583  -89.538639    205.0  105191.37   \n",
       "\n",
       "   price_per_m2  \n",
       "0    453.103733  \n",
       "1    339.912796  \n",
       "2   1028.028902  \n",
       "3    628.725333  \n",
       "5    513.128634  "
      ]
     },
     "execution_count": 39,
     "metadata": {},
     "output_type": "execute_result"
    }
   ],
   "source": [
    "df.head()"
   ]
  },
  {
   "cell_type": "code",
   "execution_count": 40,
   "metadata": {},
   "outputs": [
    {
     "data": {
      "text/plain": [
       "<Axes: title={'center': 'Mean House Price Per M^2 by State'}, xlabel='State', ylabel='Mean Price Per M^2 [USD]'>"
      ]
     },
     "execution_count": 40,
     "metadata": {},
     "output_type": "execute_result"
    },
    {
     "data": {
      "image/png": "[encoded data removed]",
      "text/plain": [
       "<Figure size 640x480 with 1 Axes>"
      ]
     },
     "metadata": {},
     "output_type": "display_data"
    }
   ],
   "source": [
    "# visualise mean house price per m^2 by state\n",
    "\n",
    "mean_price_per_m2 = df.groupby('state')['price_per_m2'].mean().sort_values(ascending=False)\n",
    "mean_price_per_m2.plot(\n",
    "    kind='bar',\n",
    "    xlabel='State',\n",
    "    ylabel= 'Mean Price Per M^2 [USD]',\n",
    "    title='Mean House Price Per M^2 by State'\n",
    ")"
   ]
  },
  {
   "attachments": {},
   "cell_type": "markdown",
   "metadata": {},
   "source": [
    "Looking at the bar graph, this make more sense that Distrito Federal is the most expensive state by mean price per m2. This state also has the highest GDP and Columa has the second lowest GDP and lowest mean price per m2 which seem matching. We can conclude that, the mean price per m2 is make more sense in representing the picture of estate market in Mexico.\n",
    "\n",
    "Answer to the question 1: Distrito Federal is by far the most expensive market, following by 10 states by mean price per m2 are in the top 10 GDP state in the country, which reflects the real estate in Mexico precisely."
   ]
  },
  {
   "attachments": {},
   "cell_type": "markdown",
   "metadata": {},
   "source": [
    "### 2. Is there a relationship between house size and price?"
   ]
  },
  {
   "cell_type": "code",
   "execution_count": 41,
   "metadata": {},
   "outputs": [
    {
     "data": {
      "text/plain": [
       "[<matplotlib.lines.Line2D at 0x1e8df5bb9d0>]"
      ]
     },
     "execution_count": 41,
     "metadata": {},
     "output_type": "execute_result"
    },
    {
     "data": {
      "image/png": "[encoded data removed]",
      "text/plain": [
       "<Figure size 640x480 with 1 Axes>"
      ]
     },
     "metadata": {},
     "output_type": "display_data"
    }
   ],
   "source": [
    "# Use scatter plot to answer this question\n",
    "\n",
    "x=df['area_m2']\n",
    "y=df['price_usd']\n",
    "\n",
    "plt.scatter(x, y)\n",
    "plt.xlabel = ('Area_m2')\n",
    "plt.ylabel = ('Price [USD]')\n",
    "plt.title=('Price vs Area_m2')\n",
    "m, b = np.polyfit(x,y,1) # obtain m (slope) and b (intercept) of linear regression line\n",
    "plt.plot(x,m*x+b, color='orange') # plot regression line as orange"
   ]
  },
  {
   "attachments": {},
   "cell_type": "markdown",
   "metadata": {},
   "source": [
    "As can be seen from the scatter plot, we can conlude that there is a trend as the bigger the house size, the higher the price. To further addressing this trend, let's use correlation to show the relationship numercially."
   ]
  },
  {
   "cell_type": "code",
   "execution_count": 42,
   "metadata": {},
   "outputs": [
    {
     "data": {
      "text/plain": [
       "0.5855182454266905"
      ]
     },
     "execution_count": 42,
     "metadata": {},
     "output_type": "execute_result"
    }
   ],
   "source": [
    "price_vs_size_correlation = df['area_m2'].corr(df['price_usd'])\n",
    "price_vs_size_correlation"
   ]
  },
  {
   "attachments": {},
   "cell_type": "markdown",
   "metadata": {},
   "source": [
    "Answer to the question 2: since the correlation is around 0.58, it shows a moderate correlation between price and size."
   ]
  }
 ],
 "metadata": {
  "kernelspec": {
   "display_name": "k12_28_python",
   "language": "python",
   "name": "python3"
  },
  "language_info": {
   "codemirror_mode": {
    "name": "ipython",
    "version": 3
   },
   "file_extension": ".py",
   "mimetype": "text/x-python",
   "name": "python",
   "nbconvert_exporter": "python",
   "pygments_lexer": "ipython3",
   "version": "3.11.4"
  },
  "orig_nbformat": 4
 },
 "nbformat": 4,
 "nbformat_minor": 2
}
